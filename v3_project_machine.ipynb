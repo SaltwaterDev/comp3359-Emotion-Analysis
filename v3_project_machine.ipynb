{
  "nbformat": 4,
  "nbformat_minor": 0,
  "metadata": {
    "colab": {
      "name": "v3 project machine.ipynb",
      "provenance": [],
      "collapsed_sections": [],
      "toc_visible": true,
      "include_colab_link": true
    },
    "kernelspec": {
      "name": "python3",
      "display_name": "Python 3"
    },
    "accelerator": "GPU"
  },
  "cells": [
    {
      "cell_type": "markdown",
      "metadata": {
        "id": "view-in-github",
        "colab_type": "text"
      },
      "source": [
        "<a href=\"https://colab.research.google.com/github/WesleyHung/comp3359-Emotion-Analysis/blob/master/v3_project_machine.ipynb\" target=\"_parent\"><img src=\"https://colab.research.google.com/assets/colab-badge.svg\" alt=\"Open In Colab\"/></a>"
      ]
    },
    {
      "cell_type": "markdown",
      "metadata": {
        "id": "UmNJdnyhcV37",
        "colab_type": "text"
      },
      "source": [
        "# Comp3359 Project\n",
        "# Emotion Analysis AI machine"
      ]
    },
    {
      "cell_type": "markdown",
      "metadata": {
        "id": "n7135-v0chl4",
        "colab_type": "text"
      },
      "source": [
        "\n",
        "Listed some styles of our machine here...\n",
        "*   Text classification\n",
        "*   Supervised learning\n",
        "*   LSTM (Type of RNN)\n",
        "*   Attention Mechanism (encoding/ decoding)\n",
        "\n"
      ]
    },
    {
      "cell_type": "markdown",
      "metadata": {
        "id": "J8pVocC02yYc",
        "colab_type": "text"
      },
      "source": [
        "# Load the data"
      ]
    },
    {
      "cell_type": "code",
      "metadata": {
        "id": "E1HbIW0Ge4oW",
        "colab_type": "code",
        "outputId": "fe4abe3b-7ae6-426a-d420-71f04712ca47",
        "colab": {
          "base_uri": "https://localhost:8080/",
          "height": 126
        }
      },
      "source": [
        "import numpy as np # linear algebra\n",
        "import pandas as pd # data processing, CSV file I/O (e.g. pd.read_csv)\n",
        "import os\n",
        "\n",
        "# Mount Google Drive\n",
        "from google.colab import drive\n",
        "drive.mount('/content/drive')\n",
        "\n",
        "# Specify directory of course materials in Google Drive\n",
        "module_dir = '/content/drive/My Drive/'\n",
        "\n",
        "# Path to data file\n",
        "#I put my dataset in my google drive, you can do so by copying from the sharing file\n",
        "data_path = os.path.join(module_dir, 'text_emotion.csv')\n",
        "  \n",
        "#Loading the dataset into pandas DataFrame\n",
        "data_df = pd.read_csv(data_path)"
      ],
      "execution_count": 1,
      "outputs": [
        {
          "output_type": "stream",
          "text": [
            "Go to this URL in a browser: https://accounts.google.com/o/oauth2/auth?client_id=947318989803-6bn6qk8qdgf4n4g3pfee6491hc0brc4i.apps.googleusercontent.com&redirect_uri=urn%3aietf%3awg%3aoauth%3a2.0%3aoob&response_type=code&scope=email%20https%3a%2f%2fwww.googleapis.com%2fauth%2fdocs.test%20https%3a%2f%2fwww.googleapis.com%2fauth%2fdrive%20https%3a%2f%2fwww.googleapis.com%2fauth%2fdrive.photos.readonly%20https%3a%2f%2fwww.googleapis.com%2fauth%2fpeopleapi.readonly\n",
            "\n",
            "Enter your authorization code:\n",
            "··········\n",
            "Mounted at /content/drive\n"
          ],
          "name": "stdout"
        }
      ]
    },
    {
      "cell_type": "code",
      "metadata": {
        "id": "b58nK2A-gMqV",
        "colab_type": "code",
        "outputId": "36293d52-93fe-43b8-c4e4-166e97c0250c",
        "colab": {
          "base_uri": "https://localhost:8080/",
          "height": 332
        }
      },
      "source": [
        "# Plot label histogram\n",
        "data_df.sentiment.value_counts().plot.bar()"
      ],
      "execution_count": 2,
      "outputs": [
        {
          "output_type": "execute_result",
          "data": {
            "text/plain": [
              "<matplotlib.axes._subplots.AxesSubplot at 0x7f1c42579e80>"
            ]
          },
          "metadata": {
            "tags": []
          },
          "execution_count": 2
        },
        {
          "output_type": "display_data",
          "data": {
            "image/png": "[encoded data removed]",
            "text/plain": [
              "<Figure size 432x288 with 1 Axes>"
            ]
          },
          "metadata": {
            "tags": [],
            "needs_background": "light"
          }
        }
      ]
    },
    {
      "cell_type": "code",
      "metadata": {
        "id": "ouF2RQ143mps",
        "colab_type": "code",
        "outputId": "40c85033-c4e8-434f-9583-ed717d08d77f",
        "colab": {
          "base_uri": "https://localhost:8080/",
          "height": 399
        }
      },
      "source": [
        "data_df"
      ],
      "execution_count": 3,
      "outputs": [
        {
          "output_type": "execute_result",
          "data": {
            "text/html": [
              "<div>\n",
              "<style scoped>\n",
              "    .dataframe tbody tr th:only-of-type {\n",
              "        vertical-align: middle;\n",
              "    }\n",
              "\n",
              "    .dataframe tbody tr th {\n",
              "        vertical-align: top;\n",
              "    }\n",
              "\n",
              "    .dataframe thead th {\n",
              "        text-align: right;\n",
              "    }\n",
              "</style>\n",
              "<table border=\"1\" class=\"dataframe\">\n",
              "  <thead>\n",
              "    <tr style=\"text-align: right;\">\n",
              "      <th></th>\n",
              "      <th>tweet_id</th>\n",
              "      <th>sentiment</th>\n",
              "      <th>author</th>\n",
              "      <th>content</th>\n",
              "    </tr>\n",
              "  </thead>\n",
              "  <tbody>\n",
              "    <tr>\n",
              "      <th>0</th>\n",
              "      <td>1956967341</td>\n",
              "      <td>empty</td>\n",
              "      <td>xoshayzers</td>\n",
              "      <td>@tiffanylue i know  i was listenin to bad habi...</td>\n",
              "    </tr>\n",
              "    <tr>\n",
              "      <th>1</th>\n",
              "      <td>1956967666</td>\n",
              "      <td>sadness</td>\n",
              "      <td>wannamama</td>\n",
              "      <td>Layin n bed with a headache  ughhhh...waitin o...</td>\n",
              "    </tr>\n",
              "    <tr>\n",
              "      <th>2</th>\n",
              "      <td>1956967696</td>\n",
              "      <td>sadness</td>\n",
              "      <td>coolfunky</td>\n",
              "      <td>Funeral ceremony...gloomy friday...</td>\n",
              "    </tr>\n",
              "    <tr>\n",
              "      <th>3</th>\n",
              "      <td>1956967789</td>\n",
              "      <td>enthusiasm</td>\n",
              "      <td>czareaquino</td>\n",
              "      <td>wants to hang out with friends SOON!</td>\n",
              "    </tr>\n",
              "    <tr>\n",
              "      <th>4</th>\n",
              "      <td>1956968416</td>\n",
              "      <td>neutral</td>\n",
              "      <td>xkilljoyx</td>\n",
              "      <td>@dannycastillo We want to trade with someone w...</td>\n",
              "    </tr>\n",
              "    <tr>\n",
              "      <th>...</th>\n",
              "      <td>...</td>\n",
              "      <td>...</td>\n",
              "      <td>...</td>\n",
              "      <td>...</td>\n",
              "    </tr>\n",
              "    <tr>\n",
              "      <th>39995</th>\n",
              "      <td>1753918954</td>\n",
              "      <td>neutral</td>\n",
              "      <td>showMe_Heaven</td>\n",
              "      <td>@JohnLloydTaylor</td>\n",
              "    </tr>\n",
              "    <tr>\n",
              "      <th>39996</th>\n",
              "      <td>1753919001</td>\n",
              "      <td>love</td>\n",
              "      <td>drapeaux</td>\n",
              "      <td>Happy Mothers Day  All my love</td>\n",
              "    </tr>\n",
              "    <tr>\n",
              "      <th>39997</th>\n",
              "      <td>1753919005</td>\n",
              "      <td>love</td>\n",
              "      <td>JenniRox</td>\n",
              "      <td>Happy Mother's Day to all the mommies out ther...</td>\n",
              "    </tr>\n",
              "    <tr>\n",
              "      <th>39998</th>\n",
              "      <td>1753919043</td>\n",
              "      <td>happiness</td>\n",
              "      <td>ipdaman1</td>\n",
              "      <td>@niariley WASSUP BEAUTIFUL!!! FOLLOW ME!!  PEE...</td>\n",
              "    </tr>\n",
              "    <tr>\n",
              "      <th>39999</th>\n",
              "      <td>1753919049</td>\n",
              "      <td>love</td>\n",
              "      <td>Alpharalpha</td>\n",
              "      <td>@mopedronin bullet train from tokyo    the gf ...</td>\n",
              "    </tr>\n",
              "  </tbody>\n",
              "</table>\n",
              "<p>40000 rows × 4 columns</p>\n",
              "</div>"
            ],
            "text/plain": [
              "         tweet_id  ...                                            content\n",
              "0      1956967341  ...  @tiffanylue i know  i was listenin to bad habi...\n",
              "1      1956967666  ...  Layin n bed with a headache  ughhhh...waitin o...\n",
              "2      1956967696  ...                Funeral ceremony...gloomy friday...\n",
              "3      1956967789  ...               wants to hang out with friends SOON!\n",
              "4      1956968416  ...  @dannycastillo We want to trade with someone w...\n",
              "...           ...  ...                                                ...\n",
              "39995  1753918954  ...                                   @JohnLloydTaylor\n",
              "39996  1753919001  ...                     Happy Mothers Day  All my love\n",
              "39997  1753919005  ...  Happy Mother's Day to all the mommies out ther...\n",
              "39998  1753919043  ...  @niariley WASSUP BEAUTIFUL!!! FOLLOW ME!!  PEE...\n",
              "39999  1753919049  ...  @mopedronin bullet train from tokyo    the gf ...\n",
              "\n",
              "[40000 rows x 4 columns]"
            ]
          },
          "metadata": {
            "tags": []
          },
          "execution_count": 3
        }
      ]
    },
    {
      "cell_type": "markdown",
      "metadata": {
        "id": "A2DdEQbM_Tfm",
        "colab_type": "text"
      },
      "source": [
        "Taking the only useful features/ prefix '@' (username) removel"
      ]
    },
    {
      "cell_type": "code",
      "metadata": {
        "id": "xnkObufj_OSr",
        "colab_type": "code",
        "outputId": "2d53134f-d976-4f51-a4d2-6ea2a83c7193",
        "colab": {
          "base_uri": "https://localhost:8080/",
          "height": 106
        }
      },
      "source": [
        "data_df = data_df[['sentiment', 'content']]\n",
        "\n",
        "for i in range(len(data_df)):\n",
        "  new_data_df = list(data_df.content[i].split(\" \"))\n",
        "  new_data_df = [x for x in new_data_df if not x.startswith('@')]\n",
        "  data_df.content[i] = \" \".join(new_data_df)\n"
      ],
      "execution_count": 4,
      "outputs": [
        {
          "output_type": "stream",
          "text": [
            "/usr/local/lib/python3.6/dist-packages/IPython/core/interactiveshell.py:2882: SettingWithCopyWarning: \n",
            "A value is trying to be set on a copy of a slice from a DataFrame\n",
            "\n",
            "See the caveats in the documentation: https://pandas.pydata.org/pandas-docs/stable/user_guide/indexing.html#returning-a-view-versus-a-copy\n",
            "  exec(code_obj, self.user_global_ns, self.user_ns)\n"
          ],
          "name": "stderr"
        }
      ]
    },
    {
      "cell_type": "code",
      "metadata": {
        "id": "U9iYqJzlOhfq",
        "colab_type": "code",
        "outputId": "25187bf0-a047-4924-b03f-877487b86f5d",
        "colab": {
          "base_uri": "https://localhost:8080/",
          "height": 399
        }
      },
      "source": [
        "data_df"
      ],
      "execution_count": 5,
      "outputs": [
        {
          "output_type": "execute_result",
          "data": {
            "text/html": [
              "<div>\n",
              "<style scoped>\n",
              "    .dataframe tbody tr th:only-of-type {\n",
              "        vertical-align: middle;\n",
              "    }\n",
              "\n",
              "    .dataframe tbody tr th {\n",
              "        vertical-align: top;\n",
              "    }\n",
              "\n",
              "    .dataframe thead th {\n",
              "        text-align: right;\n",
              "    }\n",
              "</style>\n",
              "<table border=\"1\" class=\"dataframe\">\n",
              "  <thead>\n",
              "    <tr style=\"text-align: right;\">\n",
              "      <th></th>\n",
              "      <th>sentiment</th>\n",
              "      <th>content</th>\n",
              "    </tr>\n",
              "  </thead>\n",
              "  <tbody>\n",
              "    <tr>\n",
              "      <th>0</th>\n",
              "      <td>empty</td>\n",
              "      <td>i know  i was listenin to bad habit earlier an...</td>\n",
              "    </tr>\n",
              "    <tr>\n",
              "      <th>1</th>\n",
              "      <td>sadness</td>\n",
              "      <td>Layin n bed with a headache  ughhhh...waitin o...</td>\n",
              "    </tr>\n",
              "    <tr>\n",
              "      <th>2</th>\n",
              "      <td>sadness</td>\n",
              "      <td>Funeral ceremony...gloomy friday...</td>\n",
              "    </tr>\n",
              "    <tr>\n",
              "      <th>3</th>\n",
              "      <td>enthusiasm</td>\n",
              "      <td>wants to hang out with friends SOON!</td>\n",
              "    </tr>\n",
              "    <tr>\n",
              "      <th>4</th>\n",
              "      <td>neutral</td>\n",
              "      <td>We want to trade with someone who has Houston ...</td>\n",
              "    </tr>\n",
              "    <tr>\n",
              "      <th>...</th>\n",
              "      <td>...</td>\n",
              "      <td>...</td>\n",
              "    </tr>\n",
              "    <tr>\n",
              "      <th>39995</th>\n",
              "      <td>neutral</td>\n",
              "      <td></td>\n",
              "    </tr>\n",
              "    <tr>\n",
              "      <th>39996</th>\n",
              "      <td>love</td>\n",
              "      <td>Happy Mothers Day  All my love</td>\n",
              "    </tr>\n",
              "    <tr>\n",
              "      <th>39997</th>\n",
              "      <td>love</td>\n",
              "      <td>Happy Mother's Day to all the mommies out ther...</td>\n",
              "    </tr>\n",
              "    <tr>\n",
              "      <th>39998</th>\n",
              "      <td>happiness</td>\n",
              "      <td>WASSUP BEAUTIFUL!!! FOLLOW ME!!  PEEP OUT MY N...</td>\n",
              "    </tr>\n",
              "    <tr>\n",
              "      <th>39999</th>\n",
              "      <td>love</td>\n",
              "      <td>bullet train from tokyo    the gf and i have b...</td>\n",
              "    </tr>\n",
              "  </tbody>\n",
              "</table>\n",
              "<p>40000 rows × 2 columns</p>\n",
              "</div>"
            ],
            "text/plain": [
              "        sentiment                                            content\n",
              "0           empty  i know  i was listenin to bad habit earlier an...\n",
              "1         sadness  Layin n bed with a headache  ughhhh...waitin o...\n",
              "2         sadness                Funeral ceremony...gloomy friday...\n",
              "3      enthusiasm               wants to hang out with friends SOON!\n",
              "4         neutral  We want to trade with someone who has Houston ...\n",
              "...           ...                                                ...\n",
              "39995     neutral                                                   \n",
              "39996        love                     Happy Mothers Day  All my love\n",
              "39997        love  Happy Mother's Day to all the mommies out ther...\n",
              "39998   happiness  WASSUP BEAUTIFUL!!! FOLLOW ME!!  PEEP OUT MY N...\n",
              "39999        love  bullet train from tokyo    the gf and i have b...\n",
              "\n",
              "[40000 rows x 2 columns]"
            ]
          },
          "metadata": {
            "tags": []
          },
          "execution_count": 5
        }
      ]
    },
    {
      "cell_type": "markdown",
      "metadata": {
        "id": "3Ark0EPImiOK",
        "colab_type": "text"
      },
      "source": [
        "## Halves the dataset that has too much emotion\n"
      ]
    },
    {
      "cell_type": "code",
      "metadata": {
        "id": "0F5-fAV9mh5F",
        "colab_type": "code",
        "colab": {}
      },
      "source": [
        "#\"\"\"\n",
        "worry_df = data_df.loc[data_df['sentiment']=='worry']\n",
        "neutral_df = data_df.loc[data_df['sentiment']=='neutral']\n",
        "\n",
        "# halves the amount of the dataframe\n",
        "new_worry_size = len(worry_df)//2\n",
        "new_neutral_size = len(neutral_df)//2\n",
        "\n",
        "worry_df = worry_df.iloc[:new_worry_size]\n",
        "neutral_df = neutral_df.iloc[:new_neutral_size]\n",
        "#\"\"\""
      ],
      "execution_count": 0,
      "outputs": []
    },
    {
      "cell_type": "code",
      "metadata": {
        "id": "WdQOnmLmy82D",
        "colab_type": "code",
        "colab": {}
      },
      "source": [
        "#\"\"\"\n",
        "#drop all the worry label and neutral label from the original dataframe first\n",
        "data_df = data_df[data_df.sentiment != 'worry']\n",
        "data_df = data_df[data_df.sentiment != 'neutral']\n",
        "#\"\"\""
      ],
      "execution_count": 0,
      "outputs": []
    },
    {
      "cell_type": "code",
      "metadata": {
        "id": "MU2f9v2dxo6Q",
        "colab_type": "code",
        "outputId": "d678eb5f-e810-4e0b-ddc2-bc82ba35b1f1",
        "colab": {
          "base_uri": "https://localhost:8080/",
          "height": 332
        }
      },
      "source": [
        "#\"\"\"\n",
        "#insert the new worry and neutral datafreame back again\n",
        "data_df = data_df.append(worry_df)\n",
        "data_df = data_df.append(neutral_df)\n",
        "\n",
        "data_df.sentiment.value_counts().plot.bar()\n",
        "#\"\"\""
      ],
      "execution_count": 8,
      "outputs": [
        {
          "output_type": "execute_result",
          "data": {
            "text/plain": [
              "<matplotlib.axes._subplots.AxesSubplot at 0x7f1c41b48be0>"
            ]
          },
          "metadata": {
            "tags": []
          },
          "execution_count": 8
        },
        {
          "output_type": "display_data",
          "data": {
            "image/png": "[encoded data removed]",
            "text/plain": [
              "<Figure size 432x288 with 1 Axes>"
            ]
          },
          "metadata": {
            "tags": [],
            "needs_background": "light"
          }
        }
      ]
    },
    {
      "cell_type": "markdown",
      "metadata": {
        "id": "GdeCc9M_mjng",
        "colab_type": "text"
      },
      "source": [
        "## Delete the dataset that has too few emotion"
      ]
    },
    {
      "cell_type": "code",
      "metadata": {
        "id": "WBbxzThOmj0Q",
        "colab_type": "code",
        "outputId": "4b0809d6-1881-4ec1-cfab-cf1be9b02116",
        "colab": {
          "base_uri": "https://localhost:8080/",
          "height": 324
        }
      },
      "source": [
        "#drop all the label which has too few dataset\n",
        "data_df = data_df[data_df.sentiment != 'anger']\n",
        "data_df = data_df[data_df.sentiment != 'boredom']\n",
        "data_df = data_df[data_df.sentiment != 'enthusiasm']\n",
        "data_df = data_df[data_df.sentiment != 'empty']\n",
        "data_df = data_df[data_df.sentiment != 'hate']\n",
        "data_df = data_df[data_df.sentiment != 'relief']\n",
        "data_df = data_df[data_df.sentiment != 'fun']\n",
        "data_df = data_df[data_df.sentiment != 'surprise']\n",
        "\n",
        "data_df.sentiment.value_counts().plot.bar()\n"
      ],
      "execution_count": 9,
      "outputs": [
        {
          "output_type": "execute_result",
          "data": {
            "text/plain": [
              "<matplotlib.axes._subplots.AxesSubplot at 0x7f1c41a82908>"
            ]
          },
          "metadata": {
            "tags": []
          },
          "execution_count": 9
        },
        {
          "output_type": "display_data",
          "data": {
            "image/png": "[encoded data removed]",
            "text/plain": [
              "<Figure size 432x288 with 1 Axes>"
            ]
          },
          "metadata": {
            "tags": [],
            "needs_background": "light"
          }
        }
      ]
    },
    {
      "cell_type": "markdown",
      "metadata": {
        "id": "a6Mo3Kmi2tIm",
        "colab_type": "text"
      },
      "source": [
        "# Separate Training/Test Dataset"
      ]
    },
    {
      "cell_type": "markdown",
      "metadata": {
        "id": "UJuAIRoV3Hkq",
        "colab_type": "text"
      },
      "source": [
        "## Global variable"
      ]
    },
    {
      "cell_type": "code",
      "metadata": {
        "id": "COz5y71e3Kv1",
        "colab_type": "code",
        "colab": {}
      },
      "source": [
        "# Random seed for all random process we will use.\n",
        "RAND_SEED = 3359\n",
        "# Size of training dataset (the rest, i.e., 20%,  will be test data)\n",
        "TRAIN_SIZE = 0.8"
      ],
      "execution_count": 0,
      "outputs": []
    },
    {
      "cell_type": "markdown",
      "metadata": {
        "id": "0yuCmVji3Ov1",
        "colab_type": "text"
      },
      "source": [
        "## Seperate dataset"
      ]
    },
    {
      "cell_type": "code",
      "metadata": {
        "id": "KW6eozgY21ae",
        "colab_type": "code",
        "outputId": "3ae1e621-177c-44a3-8898-56df310b16cd",
        "colab": {
          "base_uri": "https://localhost:8080/",
          "height": 399
        }
      },
      "source": [
        "all_idx = list(range(len(data_df)))\n",
        "\n",
        "# Shuffle the list of indices\n",
        "import random\n",
        "random.seed(RAND_SEED)\n",
        "random.shuffle(all_idx)\n",
        "\n",
        "# Split the random indices into two portion according \n",
        "# to the training size defined\n",
        "p = int(len(data_df) * TRAIN_SIZE)\n",
        "train_idx = all_idx[:p]\n",
        "test_idx = all_idx[p:]\n",
        "\n",
        "# Now, retrieve training/test data records from data_df \n",
        "# according to the indices we prepared in train_idx and test_idx\n",
        "train_df = data_df.iloc[train_idx]\n",
        "test_df = data_df.iloc[test_idx]\n",
        "\n",
        "# However, since the original indices from data_df will be attached to \n",
        "# the retrieved records in train_df and test_df,\n",
        "# we need to reset index so indices in train_df/test_df will start from 0 as usual\n",
        "train_df = train_df.reset_index()\n",
        "test_df = test_df.reset_index()\n",
        "\n",
        "# Drop the automatically created \"index\" column\n",
        "train_df = train_df.drop(['index'], axis=1)\n",
        "test_df = test_df.drop(['index'], axis=1)\n",
        "\n",
        "train_df"
      ],
      "execution_count": 11,
      "outputs": [
        {
          "output_type": "execute_result",
          "data": {
            "text/html": [
              "<div>\n",
              "<style scoped>\n",
              "    .dataframe tbody tr th:only-of-type {\n",
              "        vertical-align: middle;\n",
              "    }\n",
              "\n",
              "    .dataframe tbody tr th {\n",
              "        vertical-align: top;\n",
              "    }\n",
              "\n",
              "    .dataframe thead th {\n",
              "        text-align: right;\n",
              "    }\n",
              "</style>\n",
              "<table border=\"1\" class=\"dataframe\">\n",
              "  <thead>\n",
              "    <tr style=\"text-align: right;\">\n",
              "      <th></th>\n",
              "      <th>sentiment</th>\n",
              "      <th>content</th>\n",
              "    </tr>\n",
              "  </thead>\n",
              "  <tbody>\n",
              "    <tr>\n",
              "      <th>0</th>\n",
              "      <td>love</td>\n",
              "      <td>*HUGS*  i'm sure they will</td>\n",
              "    </tr>\n",
              "    <tr>\n",
              "      <th>1</th>\n",
              "      <td>happiness</td>\n",
              "      <td>added 30 minutes to morning sleep by cutting o...</td>\n",
              "    </tr>\n",
              "    <tr>\n",
              "      <th>2</th>\n",
              "      <td>happiness</td>\n",
              "      <td>Watching the best movie ever: The NeverEnding ...</td>\n",
              "    </tr>\n",
              "    <tr>\n",
              "      <th>3</th>\n",
              "      <td>worry</td>\n",
              "      <td>now i am doing the MicroEconomics project  iha...</td>\n",
              "    </tr>\n",
              "    <tr>\n",
              "      <th>4</th>\n",
              "      <td>neutral</td>\n",
              "      <td>I've been well, thx. Just getting up for an ea...</td>\n",
              "    </tr>\n",
              "    <tr>\n",
              "      <th>...</th>\n",
              "      <td>...</td>\n",
              "      <td>...</td>\n",
              "    </tr>\n",
              "    <tr>\n",
              "      <th>18206</th>\n",
              "      <td>sadness</td>\n",
              "      <td>Im sad right now becuz of my lady</td>\n",
              "    </tr>\n",
              "    <tr>\n",
              "      <th>18207</th>\n",
              "      <td>happiness</td>\n",
              "      <td>lay by the pool and take a nap. my agenda for ...</td>\n",
              "    </tr>\n",
              "    <tr>\n",
              "      <th>18208</th>\n",
              "      <td>neutral</td>\n",
              "      <td>no im not  cries LOL</td>\n",
              "    </tr>\n",
              "    <tr>\n",
              "      <th>18209</th>\n",
              "      <td>love</td>\n",
              "      <td>Cause its true!!! It would!!! Hahaha... I Love...</td>\n",
              "    </tr>\n",
              "    <tr>\n",
              "      <th>18210</th>\n",
              "      <td>sadness</td>\n",
              "      <td>missing on his birthday</td>\n",
              "    </tr>\n",
              "  </tbody>\n",
              "</table>\n",
              "<p>18211 rows × 2 columns</p>\n",
              "</div>"
            ],
            "text/plain": [
              "       sentiment                                            content\n",
              "0           love                         *HUGS*  i'm sure they will\n",
              "1      happiness  added 30 minutes to morning sleep by cutting o...\n",
              "2      happiness  Watching the best movie ever: The NeverEnding ...\n",
              "3          worry  now i am doing the MicroEconomics project  iha...\n",
              "4        neutral  I've been well, thx. Just getting up for an ea...\n",
              "...          ...                                                ...\n",
              "18206    sadness                  Im sad right now becuz of my lady\n",
              "18207  happiness  lay by the pool and take a nap. my agenda for ...\n",
              "18208    neutral                               no im not  cries LOL\n",
              "18209       love  Cause its true!!! It would!!! Hahaha... I Love...\n",
              "18210    sadness                            missing on his birthday\n",
              "\n",
              "[18211 rows x 2 columns]"
            ]
          },
          "metadata": {
            "tags": []
          },
          "execution_count": 11
        }
      ]
    },
    {
      "cell_type": "markdown",
      "metadata": {
        "id": "BBgdPBdziF-B",
        "colab_type": "text"
      },
      "source": [
        "# Preprossesing the data"
      ]
    },
    {
      "cell_type": "markdown",
      "metadata": {
        "id": "KwoMTu-lUvia",
        "colab_type": "text"
      },
      "source": [
        "## Tokenize 'content' using NLTK Treebank Word Tokenizer"
      ]
    },
    {
      "cell_type": "code",
      "metadata": {
        "id": "T7A_5TNMS7a2",
        "colab_type": "code",
        "colab": {}
      },
      "source": [
        "from nltk.tokenize import TreebankWordTokenizer\n",
        "tokenizer = TreebankWordTokenizer()\n",
        "\n",
        "for i in range(len(train_df)):\n",
        "\n",
        "  train_word_tokens = tokenizer.tokenize(train_df.content[i])\n",
        "  train_df['content'][i] = \" \".join(train_word_tokens)\n",
        "  \n",
        "for i in range(len(test_df)):\n",
        "\n",
        "  test_word_tokens = tokenizer.tokenize(test_df.content[i])\n",
        "  test_df['content'][i] = \" \".join(test_word_tokens)\n"
      ],
      "execution_count": 0,
      "outputs": []
    },
    {
      "cell_type": "code",
      "metadata": {
        "id": "RdZkXAwWNvy5",
        "colab_type": "code",
        "outputId": "63602128-c765-4afc-ceac-20f5cdbaafc5",
        "colab": {
          "base_uri": "https://localhost:8080/",
          "height": 399
        }
      },
      "source": [
        "train_df"
      ],
      "execution_count": 13,
      "outputs": [
        {
          "output_type": "execute_result",
          "data": {
            "text/html": [
              "<div>\n",
              "<style scoped>\n",
              "    .dataframe tbody tr th:only-of-type {\n",
              "        vertical-align: middle;\n",
              "    }\n",
              "\n",
              "    .dataframe tbody tr th {\n",
              "        vertical-align: top;\n",
              "    }\n",
              "\n",
              "    .dataframe thead th {\n",
              "        text-align: right;\n",
              "    }\n",
              "</style>\n",
              "<table border=\"1\" class=\"dataframe\">\n",
              "  <thead>\n",
              "    <tr style=\"text-align: right;\">\n",
              "      <th></th>\n",
              "      <th>sentiment</th>\n",
              "      <th>content</th>\n",
              "    </tr>\n",
              "  </thead>\n",
              "  <tbody>\n",
              "    <tr>\n",
              "      <th>0</th>\n",
              "      <td>love</td>\n",
              "      <td>*HUGS* i 'm sure they will</td>\n",
              "    </tr>\n",
              "    <tr>\n",
              "      <th>1</th>\n",
              "      <td>happiness</td>\n",
              "      <td>added 30 minutes to morning sleep by cutting o...</td>\n",
              "    </tr>\n",
              "    <tr>\n",
              "      <th>2</th>\n",
              "      <td>happiness</td>\n",
              "      <td>Watching the best movie ever : The NeverEnding...</td>\n",
              "    </tr>\n",
              "    <tr>\n",
              "      <th>3</th>\n",
              "      <td>worry</td>\n",
              "      <td>now i am doing the MicroEconomics project ihat...</td>\n",
              "    </tr>\n",
              "    <tr>\n",
              "      <th>4</th>\n",
              "      <td>neutral</td>\n",
              "      <td>I 've been well , thx. Just getting up for an ...</td>\n",
              "    </tr>\n",
              "    <tr>\n",
              "      <th>...</th>\n",
              "      <td>...</td>\n",
              "      <td>...</td>\n",
              "    </tr>\n",
              "    <tr>\n",
              "      <th>18206</th>\n",
              "      <td>sadness</td>\n",
              "      <td>Im sad right now becuz of my lady</td>\n",
              "    </tr>\n",
              "    <tr>\n",
              "      <th>18207</th>\n",
              "      <td>happiness</td>\n",
              "      <td>lay by the pool and take a nap. my agenda for ...</td>\n",
              "    </tr>\n",
              "    <tr>\n",
              "      <th>18208</th>\n",
              "      <td>neutral</td>\n",
              "      <td>no im not cries LOL</td>\n",
              "    </tr>\n",
              "    <tr>\n",
              "      <th>18209</th>\n",
              "      <td>love</td>\n",
              "      <td>Cause its true ! ! ! It would ! ! ! Hahaha ......</td>\n",
              "    </tr>\n",
              "    <tr>\n",
              "      <th>18210</th>\n",
              "      <td>sadness</td>\n",
              "      <td>missing on his birthday</td>\n",
              "    </tr>\n",
              "  </tbody>\n",
              "</table>\n",
              "<p>18211 rows × 2 columns</p>\n",
              "</div>"
            ],
            "text/plain": [
              "       sentiment                                            content\n",
              "0           love                         *HUGS* i 'm sure they will\n",
              "1      happiness  added 30 minutes to morning sleep by cutting o...\n",
              "2      happiness  Watching the best movie ever : The NeverEnding...\n",
              "3          worry  now i am doing the MicroEconomics project ihat...\n",
              "4        neutral  I 've been well , thx. Just getting up for an ...\n",
              "...          ...                                                ...\n",
              "18206    sadness                  Im sad right now becuz of my lady\n",
              "18207  happiness  lay by the pool and take a nap. my agenda for ...\n",
              "18208    neutral                                no im not cries LOL\n",
              "18209       love  Cause its true ! ! ! It would ! ! ! Hahaha ......\n",
              "18210    sadness                            missing on his birthday\n",
              "\n",
              "[18211 rows x 2 columns]"
            ]
          },
          "metadata": {
            "tags": []
          },
          "execution_count": 13
        }
      ]
    },
    {
      "cell_type": "markdown",
      "metadata": {
        "id": "zlG7bU1XRB7Y",
        "colab_type": "text"
      },
      "source": [
        "## Stopword Removal using NLTK"
      ]
    },
    {
      "cell_type": "code",
      "metadata": {
        "id": "by39p_9UJFOb",
        "colab_type": "code",
        "outputId": "6ccc67c9-6f24-411c-bb07-e6da41a88a98",
        "colab": {
          "base_uri": "https://localhost:8080/",
          "height": 88
        }
      },
      "source": [
        "# The following code is to remove stop words from sentence using nltk\n",
        "# Created by - ANALYTICS VIDHYA\n",
        "\n",
        "# importing libraries\n",
        "import nltk\n",
        "from nltk.corpus import stopwords\n",
        "from nltk.tokenize import word_tokenize\n",
        "nltk.download('stopwords')\n",
        "nltk.download('punkt')\n",
        "\n",
        "# set of stop words\n",
        "stop_words = set(stopwords.words('english')) \n",
        "\n",
        "# If there are some stopwords you think that is important, insert them in below list\n",
        "useful_stopwords = ['needn', \"needn't\", 'no', 'nor', 'not', 'now', 'aren', \"aren't\", 'couldn', 'mightn', \n",
        "                    \"mightn't\", 'more', 'most', 'mustn', \"mustn't\", 'my', 'myself', \"couldn't\",'off', 'd',\n",
        "                    'did', 'didn', \"didn't\",'shan','against', \"shan't\",'should', \"should've\", 'shouldn',\n",
        "                    \"shouldn't\",'very', 'was', 'wasn', \"wasn't\",'what', 'when', 'where','because', 'further',\n",
        "                    'which', 'while', 'who', 'whom', 'will', 'with', 'won', \"won't\", 'wouldn','is', 'isn', \"isn't\", \"wouldn't\",\n",
        "  'why', 'we', 'were', 'too', 'weren', \"weren't\", 'so', 'do', 'does', 'doesn', \"doesn't\", 'doing', 'don', \"don't\", 'down', 'had', 'hadn',\n",
        " \"hadn't\", 'has', 'hasn', \"hasn't\", 'have', 'haven', \"haven't\",'having',]\n",
        "\n",
        "for w in useful_stopwords:\n",
        "  stop_words.remove(w)\n",
        "#stop_words"
      ],
      "execution_count": 14,
      "outputs": [
        {
          "output_type": "stream",
          "text": [
            "[nltk_data] Downloading package stopwords to /root/nltk_data...\n",
            "[nltk_data]   Unzipping corpora/stopwords.zip.\n",
            "[nltk_data] Downloading package punkt to /root/nltk_data...\n",
            "[nltk_data]   Unzipping tokenizers/punkt.zip.\n"
          ],
          "name": "stdout"
        }
      ]
    },
    {
      "cell_type": "code",
      "metadata": {
        "id": "GuqM-2m3RHU1",
        "colab_type": "code",
        "colab": {}
      },
      "source": [
        "# tokens of words\n",
        "for i in range(len(train_df)):\n",
        "\n",
        "  train_word_tokens = word_tokenize(train_df['content'][i])\n",
        "  train_filtered_sentence = []\n",
        "  \n",
        "  for w in train_word_tokens: \n",
        "    if w not in stop_words: \n",
        "      train_filtered_sentence.append(w)\n",
        "  train_df['content'][i] = \" \".join(train_filtered_sentence)\n",
        "\n",
        "\n",
        "for i in range(len(test_df)):\n",
        "\n",
        "  test_word_tokens = word_tokenize(test_df['content'][i])\n",
        "  test_filtered_sentence = []\n",
        "  \n",
        "  for w in test_word_tokens: \n",
        "    if w not in stop_words:\n",
        "      test_filtered_sentence.append(w) \n",
        "  test_df['content'][i] = \" \".join(test_filtered_sentence)\n"
      ],
      "execution_count": 0,
      "outputs": []
    },
    {
      "cell_type": "markdown",
      "metadata": {
        "id": "1O57C_J6kCON",
        "colab_type": "text"
      },
      "source": [
        "## Applying byte pair encoding to word segmentation on 'content'"
      ]
    },
    {
      "cell_type": "code",
      "metadata": {
        "id": "2ZVm0fcImS98",
        "colab_type": "code",
        "outputId": "8ab1cdd7-ad2f-4be4-b5b6-f0f51a959f58",
        "colab": {
          "base_uri": "https://localhost:8080/",
          "height": 88
        }
      },
      "source": [
        "# we use the folowwing module for word segmentation\n",
        "!pip install subword-nmt\n",
        "\n",
        "#extract the 'content' data as we only need the content to be segmented\n",
        "train_df_content = train_df['content']\n",
        "test_df_content = test_df['content']\n",
        "\n",
        "f_df = open(\"df_content.txt\", \"a\")\n",
        "\n",
        "f_train = open(\"train_content.txt\", \"a\")\n",
        "for content in train_df_content:\n",
        "  f_train.write(content + '\\n')\n",
        "  f_df.write(content + '\\n')  # create the word band\n",
        "f_train.close()\n",
        "\n",
        "f_test = open(\"test_content.txt\", \"a\")\n",
        "for content in test_df_content:\n",
        "  f_test.write(content + '\\n')\n",
        "  f_df.write(content + '\\n')  # create the word band\n",
        "f_test.close()\n",
        "\n",
        "f_df.close()"
      ],
      "execution_count": 16,
      "outputs": [
        {
          "output_type": "stream",
          "text": [
            "Collecting subword-nmt\n",
            "  Downloading https://files.pythonhosted.org/packages/74/60/6600a7bc09e7ab38bc53a48a20d8cae49b837f93f5842a41fe513a694912/subword_nmt-0.3.7-py2.py3-none-any.whl\n",
            "Installing collected packages: subword-nmt\n",
            "Successfully installed subword-nmt-0.3.7\n"
          ],
          "name": "stdout"
        }
      ]
    },
    {
      "cell_type": "code",
      "metadata": {
        "id": "tMbWtdnel7cv",
        "colab_type": "code",
        "colab": {}
      },
      "source": [
        "num_operations= 32000\n",
        "\n",
        "# parameteres for the following command \n",
        "codes_file = \"/content/new_bpe.32000\"\n",
        "train_df_content = '/content/train_content.txt'\n",
        "test_df_content = '/content/test_content.txt'\n",
        "\n",
        "bpe_train_df_content = '/content/bpe_train_content.txt'\n",
        "bpe_test_df_content = '/content/bpe_test_content.txt'"
      ],
      "execution_count": 0,
      "outputs": []
    },
    {
      "cell_type": "code",
      "metadata": {
        "id": "rpieIoDoW6_V",
        "colab_type": "code",
        "outputId": "87b70b3f-1dbf-4123-c8d1-643f42d88907",
        "colab": {
          "base_uri": "https://localhost:8080/",
          "height": 35
        }
      },
      "source": [
        "# learn sub-word from train and test data content\n",
        "df_content = '/content/df_content.txt'\n",
        "!subword-nmt learn-bpe -s {num_operations} < {df_content} > {codes_file}"
      ],
      "execution_count": 18,
      "outputs": [
        {
          "output_type": "stream",
          "text": [
            "no pair has frequency >= 2. Stopping\n"
          ],
          "name": "stdout"
        }
      ]
    },
    {
      "cell_type": "code",
      "metadata": {
        "id": "6OlsgwixW8EY",
        "colab_type": "code",
        "colab": {}
      },
      "source": [
        "#start BPE word segmentation\n",
        "!subword-nmt apply-bpe -c {codes_file} < {train_df_content} > {bpe_train_df_content}\n",
        "!subword-nmt apply-bpe -c {codes_file} < {test_df_content} > {bpe_test_df_content}"
      ],
      "execution_count": 0,
      "outputs": []
    },
    {
      "cell_type": "code",
      "metadata": {
        "id": "sR8PqRTN202c",
        "colab_type": "code",
        "colab": {}
      },
      "source": [
        "f_train = open(\"bpe_train_df_content.txt\", \"a\")\n",
        "f_train.write('bpe_content\\n')  # make a name for the data\n",
        "\n",
        "f_train_content = open(\"bpe_train_content.txt\", \"r\")\n",
        "for content in f_train_content:\n",
        "  f_train.write(content)\n",
        "f_train_content.close()\n",
        "f_train.close()\n",
        "\n",
        "\n",
        "\n",
        "f_test = open(\"bpe_test_df_content.txt\", \"a\")\n",
        "f_test.write('bpe_content\\n')   # make a name for the data\n",
        "\n",
        "f_test_content = open(\"bpe_test_content.txt\", \"r\")\n",
        "\n",
        "for content in f_test_content:\n",
        "  f_test.write(content)\n",
        "f_test_content.close()\n",
        "f_test.close()\n"
      ],
      "execution_count": 0,
      "outputs": []
    },
    {
      "cell_type": "code",
      "metadata": {
        "id": "zVgQ-iJL4j1k",
        "colab_type": "code",
        "outputId": "590f0f6e-3783-44e2-8bde-6991e5d4b8dd",
        "colab": {
          "base_uri": "https://localhost:8080/",
          "height": 88
        }
      },
      "source": [
        "# convert .txt format back to .csv format\n",
        "bpe_train_content_df = pd.read_fwf('bpe_train_df_content.txt')\n",
        "bpe_train_content_df = bpe_train_content_df[['bpe_content']]\n",
        "\n",
        "bpe_test_content_df = pd.read_fwf('bpe_test_df_content.txt')\n",
        "bpe_test_content_df = bpe_test_content_df[['bpe_content']]\n",
        "\n",
        "#merge them back to dataframe format\n",
        "train_df['bpe_content'] = bpe_train_content_df\n",
        "test_df['bpe_content'] = bpe_test_content_df\n",
        "\n",
        "#convert them to string type\n",
        "train_df.bpe_content = train_df.bpe_content.astype(str)\n",
        "test_df.bpe_content = test_df.bpe_content.astype(str)\n",
        "\n",
        "train_df.dtypes"
      ],
      "execution_count": 21,
      "outputs": [
        {
          "output_type": "execute_result",
          "data": {
            "text/plain": [
              "sentiment      object\n",
              "content        object\n",
              "bpe_content    object\n",
              "dtype: object"
            ]
          },
          "metadata": {
            "tags": []
          },
          "execution_count": 21
        }
      ]
    },
    {
      "cell_type": "code",
      "metadata": {
        "id": "S75CA3gDoSRG",
        "colab_type": "code",
        "outputId": "89d92124-b21d-4819-c1f1-f1307331f770",
        "colab": {
          "base_uri": "https://localhost:8080/",
          "height": 688
        }
      },
      "source": [
        "train_df.sentiment.value_counts().plot.bar()\n",
        "train_df"
      ],
      "execution_count": 22,
      "outputs": [
        {
          "output_type": "execute_result",
          "data": {
            "text/html": [
              "<div>\n",
              "<style scoped>\n",
              "    .dataframe tbody tr th:only-of-type {\n",
              "        vertical-align: middle;\n",
              "    }\n",
              "\n",
              "    .dataframe tbody tr th {\n",
              "        vertical-align: top;\n",
              "    }\n",
              "\n",
              "    .dataframe thead th {\n",
              "        text-align: right;\n",
              "    }\n",
              "</style>\n",
              "<table border=\"1\" class=\"dataframe\">\n",
              "  <thead>\n",
              "    <tr style=\"text-align: right;\">\n",
              "      <th></th>\n",
              "      <th>sentiment</th>\n",
              "      <th>content</th>\n",
              "      <th>bpe_content</th>\n",
              "    </tr>\n",
              "  </thead>\n",
              "  <tbody>\n",
              "    <tr>\n",
              "      <th>0</th>\n",
              "      <td>love</td>\n",
              "      <td>*HUGS* 'm sure will</td>\n",
              "      <td>*HUGS* 'm sure will</td>\n",
              "    </tr>\n",
              "    <tr>\n",
              "      <th>1</th>\n",
              "      <td>happiness</td>\n",
              "      <td>added 30 minutes morning sleep cutting useless...</td>\n",
              "      <td>added 30 minutes morning sleep cutting useless...</td>\n",
              "    </tr>\n",
              "    <tr>\n",
              "      <th>2</th>\n",
              "      <td>happiness</td>\n",
              "      <td>Watching best movie ever : The NeverEnding Sto...</td>\n",
              "      <td>Watching best movie ever : The Never@@ En@@ di...</td>\n",
              "    </tr>\n",
              "    <tr>\n",
              "      <th>3</th>\n",
              "      <td>worry</td>\n",
              "      <td>now doing MicroEconomics project ihate subject...</td>\n",
              "      <td>now doing Mic@@ ro@@ Economics project i@@ hat...</td>\n",
              "    </tr>\n",
              "    <tr>\n",
              "      <th>4</th>\n",
              "      <td>neutral</td>\n",
              "      <td>I 've well , thx . Just getting early morning ...</td>\n",
              "      <td>I 've well , thx . Just getting early morning ...</td>\n",
              "    </tr>\n",
              "    <tr>\n",
              "      <th>...</th>\n",
              "      <td>...</td>\n",
              "      <td>...</td>\n",
              "      <td>...</td>\n",
              "    </tr>\n",
              "    <tr>\n",
              "      <th>18206</th>\n",
              "      <td>sadness</td>\n",
              "      <td>Im sad right now becuz my lady</td>\n",
              "      <td>Im sad right now becuz my lady</td>\n",
              "    </tr>\n",
              "    <tr>\n",
              "      <th>18207</th>\n",
              "      <td>happiness</td>\n",
              "      <td>lay pool take nap . my agenda day</td>\n",
              "      <td>lay pool take nap . my agenda day</td>\n",
              "    </tr>\n",
              "    <tr>\n",
              "      <th>18208</th>\n",
              "      <td>neutral</td>\n",
              "      <td>no im not cries LOL</td>\n",
              "      <td>no im not cries LOL</td>\n",
              "    </tr>\n",
              "    <tr>\n",
              "      <th>18209</th>\n",
              "      <td>love</td>\n",
              "      <td>Cause true ! ! ! It would ! ! ! Hahaha ... I L...</td>\n",
              "      <td>Cause true ! ! ! It would ! ! ! Hahaha ... I L...</td>\n",
              "    </tr>\n",
              "    <tr>\n",
              "      <th>18210</th>\n",
              "      <td>sadness</td>\n",
              "      <td>missing birthday</td>\n",
              "      <td>missing birthday</td>\n",
              "    </tr>\n",
              "  </tbody>\n",
              "</table>\n",
              "<p>18211 rows × 3 columns</p>\n",
              "</div>"
            ],
            "text/plain": [
              "       sentiment  ...                                        bpe_content\n",
              "0           love  ...                                *HUGS* 'm sure will\n",
              "1      happiness  ...  added 30 minutes morning sleep cutting useless...\n",
              "2      happiness  ...  Watching best movie ever : The Never@@ En@@ di...\n",
              "3          worry  ...  now doing Mic@@ ro@@ Economics project i@@ hat...\n",
              "4        neutral  ...  I 've well , thx . Just getting early morning ...\n",
              "...          ...  ...                                                ...\n",
              "18206    sadness  ...                     Im sad right now becuz my lady\n",
              "18207  happiness  ...                  lay pool take nap . my agenda day\n",
              "18208    neutral  ...                                no im not cries LOL\n",
              "18209       love  ...  Cause true ! ! ! It would ! ! ! Hahaha ... I L...\n",
              "18210    sadness  ...                                   missing birthday\n",
              "\n",
              "[18211 rows x 3 columns]"
            ]
          },
          "metadata": {
            "tags": []
          },
          "execution_count": 22
        },
        {
          "output_type": "display_data",
          "data": {
            "image/png": "[encoded data removed]",
            "text/plain": [
              "<Figure size 432x288 with 1 Axes>"
            ]
          },
          "metadata": {
            "tags": [],
            "needs_background": "light"
          }
        }
      ]
    },
    {
      "cell_type": "code",
      "metadata": {
        "id": "DQGUViuOW45F",
        "colab_type": "code",
        "outputId": "818d0171-c21d-419a-dfc6-6b9066323117",
        "colab": {
          "base_uri": "https://localhost:8080/",
          "height": 688
        }
      },
      "source": [
        "test_df.sentiment.value_counts().plot.bar()\n",
        "test_df"
      ],
      "execution_count": 23,
      "outputs": [
        {
          "output_type": "execute_result",
          "data": {
            "text/html": [
              "<div>\n",
              "<style scoped>\n",
              "    .dataframe tbody tr th:only-of-type {\n",
              "        vertical-align: middle;\n",
              "    }\n",
              "\n",
              "    .dataframe tbody tr th {\n",
              "        vertical-align: top;\n",
              "    }\n",
              "\n",
              "    .dataframe thead th {\n",
              "        text-align: right;\n",
              "    }\n",
              "</style>\n",
              "<table border=\"1\" class=\"dataframe\">\n",
              "  <thead>\n",
              "    <tr style=\"text-align: right;\">\n",
              "      <th></th>\n",
              "      <th>sentiment</th>\n",
              "      <th>content</th>\n",
              "      <th>bpe_content</th>\n",
              "    </tr>\n",
              "  </thead>\n",
              "  <tbody>\n",
              "    <tr>\n",
              "      <th>0</th>\n",
              "      <td>love</td>\n",
              "      <td>Nice place eat sao paulo , brazil http : //twi...</td>\n",
              "      <td>Nice place eat sao paulo , brazil http : //twi...</td>\n",
              "    </tr>\n",
              "    <tr>\n",
              "      <th>1</th>\n",
              "      <td>happiness</td>\n",
              "      <td>got ta go twitterers ( ? ) my stupid sister wa...</td>\n",
              "      <td>got ta go twitterers ( ? ) my stupid sister wa...</td>\n",
              "    </tr>\n",
              "    <tr>\n",
              "      <th>2</th>\n",
              "      <td>happiness</td>\n",
              "      <td>good luck chan ! gue kmrn bawa backpack kosong...</td>\n",
              "      <td>good luck chan ! gue k@@ mr@@ n ba@@ wa backpa...</td>\n",
              "    </tr>\n",
              "    <tr>\n",
              "      <th>3</th>\n",
              "      <td>sadness</td>\n",
              "      <td>I played latter parts voodoo village part co-o...</td>\n",
              "      <td>I played latter parts voodoo village part co-@...</td>\n",
              "    </tr>\n",
              "    <tr>\n",
              "      <th>4</th>\n",
              "      <td>happiness</td>\n",
              "      <td>'ve heard Basment Jaxx 's new song &amp; quot ; Ra...</td>\n",
              "      <td>'ve heard Bas@@ ment Ja@@ xx 's new song &amp; quo...</td>\n",
              "    </tr>\n",
              "    <tr>\n",
              "      <th>...</th>\n",
              "      <td>...</td>\n",
              "      <td>...</td>\n",
              "      <td>...</td>\n",
              "    </tr>\n",
              "    <tr>\n",
              "      <th>4548</th>\n",
              "      <td>love</td>\n",
              "      <td>home ; had yogurt factory , love yogurt also h...</td>\n",
              "      <td>home ; had yogurt factory , love yogurt also h...</td>\n",
              "    </tr>\n",
              "    <tr>\n",
              "      <th>4549</th>\n",
              "      <td>worry</td>\n",
              "      <td>has spent last two weeks attempting grow beard...</td>\n",
              "      <td>has spent last two weeks attempting grow beard...</td>\n",
              "    </tr>\n",
              "    <tr>\n",
              "      <th>4550</th>\n",
              "      <td>neutral</td>\n",
              "      <td>haha wish could ! I look like little boy now</td>\n",
              "      <td>haha wish could ! I look like little boy now</td>\n",
              "    </tr>\n",
              "    <tr>\n",
              "      <th>4551</th>\n",
              "      <td>neutral</td>\n",
              "      <td>bank holiday today</td>\n",
              "      <td>bank holiday today</td>\n",
              "    </tr>\n",
              "    <tr>\n",
              "      <th>4552</th>\n",
              "      <td>love</td>\n",
              "      <td>yeah ... . im gon na take ur picture off my ip...</td>\n",
              "      <td>yeah ... . im gon na take ur picture off my ip...</td>\n",
              "    </tr>\n",
              "  </tbody>\n",
              "</table>\n",
              "<p>4553 rows × 3 columns</p>\n",
              "</div>"
            ],
            "text/plain": [
              "      sentiment  ...                                        bpe_content\n",
              "0          love  ...  Nice place eat sao paulo , brazil http : //twi...\n",
              "1     happiness  ...  got ta go twitterers ( ? ) my stupid sister wa...\n",
              "2     happiness  ...  good luck chan ! gue k@@ mr@@ n ba@@ wa backpa...\n",
              "3       sadness  ...  I played latter parts voodoo village part co-@...\n",
              "4     happiness  ...  've heard Bas@@ ment Ja@@ xx 's new song & quo...\n",
              "...         ...  ...                                                ...\n",
              "4548       love  ...  home ; had yogurt factory , love yogurt also h...\n",
              "4549      worry  ...  has spent last two weeks attempting grow beard...\n",
              "4550    neutral  ...       haha wish could ! I look like little boy now\n",
              "4551    neutral  ...                                 bank holiday today\n",
              "4552       love  ...  yeah ... . im gon na take ur picture off my ip...\n",
              "\n",
              "[4553 rows x 3 columns]"
            ]
          },
          "metadata": {
            "tags": []
          },
          "execution_count": 23
        },
        {
          "output_type": "display_data",
          "data": {
            "image/png": "[encoded data removed]",
            "text/plain": [
              "<Figure size 432x288 with 1 Axes>"
            ]
          },
          "metadata": {
            "tags": [],
            "needs_background": "light"
          }
        }
      ]
    },
    {
      "cell_type": "markdown",
      "metadata": {
        "id": "8BMjuHeFiOog",
        "colab_type": "text"
      },
      "source": [
        "## Label the emotions as target"
      ]
    },
    {
      "cell_type": "code",
      "metadata": {
        "id": "X_9xLKNFiK66",
        "colab_type": "code",
        "colab": {}
      },
      "source": [
        "labels = train_df[\"sentiment\"].values.tolist()\n",
        "val_labels = test_df[\"sentiment\"].values.tolist()"
      ],
      "execution_count": 0,
      "outputs": []
    },
    {
      "cell_type": "markdown",
      "metadata": {
        "id": "h0ggDCX6ioMr",
        "colab_type": "text"
      },
      "source": [
        "## Creating list of emotions"
      ]
    },
    {
      "cell_type": "code",
      "metadata": {
        "id": "ICTXypj8GHS3",
        "colab_type": "code",
        "outputId": "b02b4b9d-4d87-4df8-ddd5-242b919395ee",
        "colab": {
          "base_uri": "https://localhost:8080/",
          "height": 52
        }
      },
      "source": [
        "label2id = dict()\n",
        "label2id = {l: i for i, l in enumerate(set(labels))}\n",
        "print(label2id)\n",
        "id2label = {v: k for k, v in label2id.items()}\n",
        "print(id2label)"
      ],
      "execution_count": 25,
      "outputs": [
        {
          "output_type": "stream",
          "text": [
            "{'happiness': 0, 'worry': 1, 'love': 2, 'neutral': 3, 'sadness': 4}\n",
            "{0: 'happiness', 1: 'worry', 2: 'love', 3: 'neutral', 4: 'sadness'}\n"
          ],
          "name": "stdout"
        }
      ]
    },
    {
      "cell_type": "markdown",
      "metadata": {
        "id": "IoWDUFfS5DvW",
        "colab_type": "text"
      },
      "source": [
        "## Encoding the training dataset and validation dataset"
      ]
    },
    {
      "cell_type": "code",
      "metadata": {
        "id": "G1_15xLVafIn",
        "colab_type": "code",
        "outputId": "61a33f3d-f9a7-4182-fe31-6d03b3b38667",
        "colab": {
          "base_uri": "https://localhost:8080/",
          "height": 35
        }
      },
      "source": [
        "max_words = 0 # maximum number of words in a sentence\n",
        "\n",
        "word2id = dict()\n",
        "\n",
        "# Construction of word2id dict\n",
        "for content in train_df.bpe_content:\n",
        "    for word in content:\n",
        "        # Add words to word2id dict if not exist\n",
        "        if word not in word2id:\n",
        "            word2id[word] = len(word2id)\n",
        "    # If length of the sentence is greater than max_words, update max_words\n",
        "    if len(content) > max_words:\n",
        "        max_words = len(content)\n",
        "\n",
        "for content in test_df.bpe_content:\n",
        "    for word in content:\n",
        "        # Add words to word2id dict if not exist\n",
        "        if word not in word2id:\n",
        "            word2id[word] = len(word2id)\n",
        "    # If length of the sentence is greater than max_words, update max_words\n",
        "    if len(content) > max_words:\n",
        "        max_words = len(content)\n",
        "\n",
        "max_words"
      ],
      "execution_count": 26,
      "outputs": [
        {
          "output_type": "execute_result",
          "data": {
            "text/plain": [
              "147"
            ]
          },
          "metadata": {
            "tags": []
          },
          "execution_count": 26
        }
      ]
    },
    {
      "cell_type": "markdown",
      "metadata": {
        "id": "SdfpPzYqkFAV",
        "colab_type": "text"
      },
      "source": [
        "## Encoding train(content) and labels(sentiment) to corresponing integer values"
      ]
    },
    {
      "cell_type": "code",
      "metadata": {
        "id": "mfVFsdBWj7OL",
        "colab_type": "code",
        "outputId": "d6f700e5-67ad-4d6e-d0d4-5931ca518bd4",
        "colab": {
          "base_uri": "https://localhost:8080/",
          "height": 159
        }
      },
      "source": [
        "#reference to the online material\n",
        "import keras\n",
        "\n",
        "# Encode input words and labels\n",
        "train = [[word2id[word] for word in sentence] for sentence in train_df.content]\n",
        "val = [[word2id[word] for word in sentence] for sentence in test_df.content]\n",
        "Y = [label2id[label] for label in labels]\n",
        "val_Y = [label2id[label] for label in val_labels]\n",
        "\n",
        "# Apply Padding to X\n",
        "from keras.preprocessing.sequence import pad_sequences\n",
        "train = pad_sequences(train, max_words)\n",
        "val = pad_sequences(val, max_words)\n",
        "\n",
        "# Convert Y to numpy array\n",
        "Y = keras.utils.to_categorical(Y, num_classes=len(label2id), dtype='float32')\n",
        "val_Y = keras.utils.to_categorical(val_Y, num_classes=len(label2id), dtype='float32')\n",
        "\n",
        "# Print shapes\n",
        "print(\"Shape of train: {}\".format(train.shape))\n",
        "print(\"Shape of Y: {}\".format(Y.shape))\n",
        "print(\"-------------\")\n",
        "print(\"Shape of val: {}\".format(val.shape))\n",
        "print(\"Shape of val_Y: {}\".format(val_Y.shape))\n",
        "print(\"-------------\")\n",
        "print(len(word2id))"
      ],
      "execution_count": 27,
      "outputs": [
        {
          "output_type": "stream",
          "text": [
            "Using TensorFlow backend.\n"
          ],
          "name": "stderr"
        },
        {
          "output_type": "stream",
          "text": [
            "Shape of train: (18211, 147)\n",
            "Shape of Y: (18211, 5)\n",
            "-------------\n",
            "Shape of val: (4553, 147)\n",
            "Shape of val_Y: (4553, 5)\n",
            "-------------\n",
            "97\n"
          ],
          "name": "stdout"
        }
      ]
    },
    {
      "cell_type": "markdown",
      "metadata": {
        "id": "2CGUwlKsfREO",
        "colab_type": "text"
      },
      "source": [
        "This is referencing to tensorflow tutorial"
      ]
    },
    {
      "cell_type": "code",
      "metadata": {
        "id": "cAcayg230N9U",
        "colab_type": "code",
        "colab": {}
      },
      "source": [
        "from tensorflow.python.keras.preprocessing import sequence\n",
        "from tensorflow.python.keras.preprocessing import text\n",
        "\n",
        "# Vectorization parameters\n",
        "# Limit on the number of features. We use the top 20K features.\n",
        "TOP_K = 20000\n",
        "\n",
        "# Limit on the length of text sequences. Sequences longer than this\n",
        "# will be truncated.\n",
        "MAX_SEQUENCE_LENGTH = 500\n",
        "\n",
        "def sequence_vectorize(train_texts, val_texts):\n",
        "    \"\"\"Vectorizes texts as sequence vectors.\n",
        "\n",
        "    1 text = 1 sequence vector with fixed length.\n",
        "\n",
        "    # Arguments\n",
        "        train_texts: list, training text strings.\n",
        "        val_texts: list, validation text strings.\n",
        "\n",
        "    # Returns\n",
        "        x_train, x_val, word_index: vectorized training and validation\n",
        "            texts and word index dictionary.\n",
        "    \"\"\"\n",
        "\n",
        "    # Create vocabulary with training texts.\n",
        "    tokenizer = text.Tokenizer(num_words=TOP_K, filters='\"#$%&()*+,-/:;<=>[\\\\]^_`{|}~\\t\\n')\n",
        "    tokenizer.fit_on_texts(train_texts)\n",
        "\n",
        "    # Vectorize training and validation texts.\n",
        "    x_train = tokenizer.texts_to_sequences(train_texts)\n",
        "    x_val = tokenizer.texts_to_sequences(val_texts)\n",
        "\n",
        "    print(x_train[1])\n",
        "\n",
        "    # Get max sequence length.\n",
        "    max_length = len(max(x_train, key=len))\n",
        "    \n",
        "    if max_length > MAX_SEQUENCE_LENGTH:\n",
        "      max_length = MAX_SEQUENCE_LENGTH\n",
        "    \n",
        "    # Fix sequence length to max value. Sequences shorter than the length are\n",
        "    # padded in the beginning and sequences longer are truncated\n",
        "    # at the beginning.\n",
        "    x_train = sequence.pad_sequences(x_train, maxlen=max_length)\n",
        "    x_val = sequence.pad_sequences(x_val, maxlen=max_length)\n",
        "    return x_train, x_val, tokenizer.word_index, max_length"
      ],
      "execution_count": 0,
      "outputs": []
    },
    {
      "cell_type": "code",
      "metadata": {
        "id": "tjO_UdV_1Wi5",
        "colab_type": "code",
        "outputId": "08b6a349-a744-423f-f2de-0467fa8b2819",
        "colab": {
          "base_uri": "https://localhost:8080/",
          "height": 35
        }
      },
      "source": [
        "#tokenize the train dataset and test dataset \n",
        "train, val, word_index, max_words = sequence_vectorize(train_df['bpe_content'], test_df['bpe_content'])"
      ],
      "execution_count": 29,
      "outputs": [
        {
          "output_type": "stream",
          "text": [
            "[2777, 435, 630, 76, 113, 2778, 3903, 29, 135, 2, 570, 94]\n"
          ],
          "name": "stdout"
        }
      ]
    },
    {
      "cell_type": "code",
      "metadata": {
        "id": "hJ4emqGIs1op",
        "colab_type": "code",
        "outputId": "513656a2-8663-43c9-d080-2174e1a22368",
        "colab": {
          "base_uri": "https://localhost:8080/",
          "height": 141
        }
      },
      "source": [
        "# view the result\n",
        "print(train[10])\n",
        "print(train_df.bpe_content[10])\n",
        "max_words"
      ],
      "execution_count": 30,
      "outputs": [
        {
          "output_type": "stream",
          "text": [
            "[   0    0    0    0    0    0    0    0    0    0    0    0    0    0\n",
            "    0    0    0    0    0    0    0    0    0    0    0    0    0    0\n",
            "    0    0    0    0    0    0    0    0    0    0    0    0    0    0\n",
            "    0    0    0    0    0    0    0  247    4  109   53    5  113    1\n",
            "  533 4582 2559 7235 3905   15 2780]\n",
            "On my way home ... SLEEP ! Seeing Amber Pac@@ ific tomorow with besties\n"
          ],
          "name": "stdout"
        },
        {
          "output_type": "execute_result",
          "data": {
            "text/plain": [
              "63"
            ]
          },
          "metadata": {
            "tags": []
          },
          "execution_count": 30
        }
      ]
    },
    {
      "cell_type": "markdown",
      "metadata": {
        "id": "pnFMXkHBh6UG",
        "colab_type": "text"
      },
      "source": [
        "# Hyperparameter (HERE!!!)"
      ]
    },
    {
      "cell_type": "code",
      "metadata": {
        "id": "mcbTf6GSh_y2",
        "colab_type": "code",
        "colab": {}
      },
      "source": [
        "\"\"\" Hyperparameters \"\"\"\n",
        "# Size of data batches\n",
        "BATCH_SIZE = 47\n",
        "# Dimension of Word Embedding layer\n",
        "EMBEDDING_DIM = 100\n",
        "# Number of epochs to train model\n",
        "N_EPOCH = 10\n",
        "# Size of sequence vector\n",
        "MAX_WORDS = max_words\n",
        "\n",
        "#Global variable of train dataset and test dataset\n",
        "TRAIN_DS = train\n",
        "EVAL_DS = val"
      ],
      "execution_count": 0,
      "outputs": []
    },
    {
      "cell_type": "markdown",
      "metadata": {
        "id": "_GGEhMigkfJ-",
        "colab_type": "text"
      },
      "source": [
        "# Build LSTM model with attention"
      ]
    },
    {
      "cell_type": "code",
      "metadata": {
        "id": "GuALIlMmCEW_",
        "colab_type": "code",
        "outputId": "602a4c4a-fb08-437e-bfb2-220a14b2f288",
        "colab": {
          "base_uri": "https://localhost:8080/",
          "height": 250
        }
      },
      "source": [
        "#imports we know we'll need\n",
        "!pip install scikit-optimize\n",
        "import skopt\n",
        "from skopt import gbrt_minimize, gp_minimize\n",
        "from skopt.utils import use_named_args\n",
        "from skopt.space import Real, Categorical, Integer  \n",
        "\n",
        "import keras\n",
        "from keras.models import Sequential\n",
        "from keras.layers import Dense\n",
        "import tensorflow\n",
        "from tensorflow.python.keras import backend as K"
      ],
      "execution_count": 32,
      "outputs": [
        {
          "output_type": "stream",
          "text": [
            "Collecting scikit-optimize\n",
            "\u001b[?25l  Downloading https://files.pythonhosted.org/packages/5c/87/310b52debfbc0cb79764e5770fa3f5c18f6f0754809ea9e2fc185e1b67d3/scikit_optimize-0.7.4-py2.py3-none-any.whl (80kB)\n",
            "\r\u001b[K     |████                            | 10kB 15.4MB/s eta 0:00:01\r\u001b[K     |████████▏                       | 20kB 1.7MB/s eta 0:00:01\r\u001b[K     |████████████▎                   | 30kB 2.3MB/s eta 0:00:01\r\u001b[K     |████████████████▎               | 40kB 1.7MB/s eta 0:00:01\r\u001b[K     |████████████████████▍           | 51kB 1.9MB/s eta 0:00:01\r\u001b[K     |████████████████████████▌       | 61kB 2.2MB/s eta 0:00:01\r\u001b[K     |████████████████████████████▌   | 71kB 2.4MB/s eta 0:00:01\r\u001b[K     |████████████████████████████████| 81kB 2.1MB/s \n",
            "\u001b[?25hRequirement already satisfied: numpy>=1.11.0 in /usr/local/lib/python3.6/dist-packages (from scikit-optimize) (1.18.3)\n",
            "Collecting pyaml>=16.9\n",
            "  Downloading https://files.pythonhosted.org/packages/15/c4/1310a054d33abc318426a956e7d6df0df76a6ddfa9c66f6310274fb75d42/pyaml-20.4.0-py2.py3-none-any.whl\n",
            "Requirement already satisfied: scikit-learn>=0.19.1 in /usr/local/lib/python3.6/dist-packages (from scikit-optimize) (0.22.2.post1)\n",
            "Requirement already satisfied: joblib>=0.11 in /usr/local/lib/python3.6/dist-packages (from scikit-optimize) (0.14.1)\n",
            "Requirement already satisfied: scipy>=0.18.0 in /usr/local/lib/python3.6/dist-packages (from scikit-optimize) (1.4.1)\n",
            "Requirement already satisfied: PyYAML in /usr/local/lib/python3.6/dist-packages (from pyaml>=16.9->scikit-optimize) (3.13)\n",
            "Installing collected packages: pyaml, scikit-optimize\n",
            "Successfully installed pyaml-20.4.0 scikit-optimize-0.7.4\n"
          ],
          "name": "stdout"
        }
      ]
    },
    {
      "cell_type": "code",
      "metadata": {
        "id": "gTy5rEl7Ck3b",
        "colab_type": "code",
        "colab": {}
      },
      "source": [
        "dim_learning_rate = Real(low=1e-4, high=1e-2, prior='log-uniform',\n",
        "                         name='learning_rate')\n",
        "dim_num_dense_layers = Integer(low=1, high=5, name='num_dense_layers')\n",
        "dim_num_input_nodes = Integer(low=1, high=512, name='num_input_nodes')\n",
        "dim_num_dense_nodes = Integer(low=1, high=28, name='num_dense_nodes')\n",
        "dim_activation = Categorical(categories=['relu', 'sigmoid'],\n",
        "                             name='activation')\n",
        "dim_batch_size = Integer(low=1, high=128, name='batch_size')\n",
        "dim_adam_decay = Real(low=1e-6,high=1e-2,name=\"adam_decay\")\n",
        "\n",
        "dimensions = [dim_learning_rate,\n",
        "              dim_num_dense_layers,\n",
        "              dim_num_input_nodes,\n",
        "              dim_num_dense_nodes,\n",
        "              dim_activation,\n",
        "              dim_batch_size,\n",
        "              dim_adam_decay\n",
        "             ]\n",
        "default_parameters = [1e-3, 1,512, 13, 'relu',47, 1e-3]\n"
      ],
      "execution_count": 0,
      "outputs": []
    },
    {
      "cell_type": "markdown",
      "metadata": {
        "id": "DbSU5ciRTmLD",
        "colab_type": "text"
      },
      "source": [
        "## Build our own Attantion layer"
      ]
    },
    {
      "cell_type": "code",
      "metadata": {
        "id": "OGXo-yRQTJE9",
        "colab_type": "code",
        "colab": {}
      },
      "source": [
        "#we create our own Attention layer for use \n",
        "#Reference from https://www.kaggle.com/takuok/bidirectional-lstm-and-attention-lb-0-043\n",
        "\n",
        "from keras import backend as K\n",
        "from keras.engine.topology import Layer\n",
        "from keras import initializers, regularizers, constraints\n",
        "\n",
        "\n",
        "def dot_product(x, kernel):\n",
        "\n",
        "    \"\"\"\n",
        "\n",
        "    Wrapper for dot product operation, in order to be compatible with both\n",
        "\n",
        "    Theano and Tensorflow\n",
        "\n",
        "    Args:\n",
        "\n",
        "        x (): input\n",
        "\n",
        "        kernel (): weights\n",
        "\n",
        "    Returns:\n",
        "\n",
        "    \"\"\"\n",
        "\n",
        "    if K.backend() == 'tensorflow':\n",
        "\n",
        "        return K.squeeze(K.dot(x, K.expand_dims(kernel)), axis=-1)\n",
        "\n",
        "    else:\n",
        "\n",
        "        return K.dot(x, kernel)\n",
        "\n",
        "    \n",
        "class Attention(Layer):\n",
        "    def __init__(self, step_dim,\n",
        "                 W_regularizer=None, b_regularizer=None,\n",
        "                 W_constraint=None, b_constraint=None,\n",
        "                 bias=True, **kwargs):\n",
        "        self.supports_masking = True\n",
        "        self.init = initializers.get('glorot_uniform')\n",
        "\n",
        "        self.W_regularizer = regularizers.get(W_regularizer)\n",
        "        self.b_regularizer = regularizers.get(b_regularizer)\n",
        "\n",
        "        self.W_constraint = constraints.get(W_constraint)\n",
        "        self.b_constraint = constraints.get(b_constraint)\n",
        "\n",
        "        self.bias = bias\n",
        "        self.step_dim = step_dim\n",
        "        self.features_dim = 0\n",
        "        super(Attention, self).__init__(**kwargs)\n",
        "\n",
        "    def build(self, input_shape):\n",
        "        assert len(input_shape) == 3\n",
        "\n",
        "        self.W = self.add_weight(shape=(input_shape[-1],),\n",
        "                                 initializer=self.init,\n",
        "                                 name='{}_W'.format(self.name),\n",
        "                                 regularizer=self.W_regularizer,\n",
        "                                 constraint=self.W_constraint)\n",
        "        self.features_dim = input_shape[-1]\n",
        "\n",
        "        if self.bias:\n",
        "            self.b = self.add_weight(shape=(input_shape[1],),\n",
        "                                     initializer='zero',\n",
        "                                     name='{}_b'.format(self.name),\n",
        "                                     regularizer=self.b_regularizer,\n",
        "                                     constraint=self.b_constraint)\n",
        "        else:\n",
        "            self.b = None\n",
        "\n",
        "        self.built = True\n",
        "\n",
        "    def compute_mask(self, input, input_mask=None):\n",
        "        return None\n",
        "\n",
        "    def call(self, x, mask=None):\n",
        "        features_dim = self.features_dim\n",
        "        step_dim = self.step_dim\n",
        "\n",
        "        eij = K.reshape(K.dot(K.reshape(x, (-1, features_dim)),\n",
        "                        K.reshape(self.W, (features_dim, 1))), (-1, step_dim))\n",
        "\n",
        "        if self.bias:\n",
        "            eij += self.b\n",
        "\n",
        "        eij = K.tanh(eij)\n",
        "\n",
        "        a = K.exp(eij)\n",
        "\n",
        "        if mask is not None:\n",
        "            a *= K.cast(mask, K.floatx())\n",
        "\n",
        "        a /= K.cast(K.sum(a, axis=1, keepdims=True) + K.epsilon(), K.floatx())\n",
        "\n",
        "        a = K.expand_dims(a)\n",
        "        weighted_input = x * a\n",
        "        return K.sum(weighted_input, axis=1)\n",
        "\n",
        "    def compute_output_shape(self, input_shape):\n",
        "        return input_shape[0],  self.features_dim"
      ],
      "execution_count": 0,
      "outputs": []
    },
    {
      "cell_type": "markdown",
      "metadata": {
        "id": "dDBmGPQsLDhf",
        "colab_type": "text"
      },
      "source": [
        "## RNN model (temp prototype)"
      ]
    },
    {
      "cell_type": "code",
      "metadata": {
        "id": "MzsMwMqXVyEI",
        "colab_type": "code",
        "colab": {}
      },
      "source": [
        "\n",
        "\n",
        "from keras.optimizers import Adam\n",
        "def create_rnn_model(learning_rate, num_dense_layers,num_input_nodes,\n",
        "                 num_dense_nodes, activation, adam_decay):\n",
        "  # rnn model reference to COMP3359 M4\n",
        "  rnn_model = keras.Sequential([\n",
        "      keras.layers.Embedding(len(train) + 1,\n",
        "                            EMBEDDING_DIM,\n",
        "                            input_length=max_words),\n",
        "      keras.layers.Bidirectional(keras.layers.LSTM(EMBEDDING_DIM)),\n",
        "      keras.layers.Dense(EMBEDDING_DIM, activation='relu'),\n",
        "      keras.layers.Dense(len(label2id), activation='softmax')\n",
        "  ])\n",
        "\n",
        "  #setup our optimizer and compile\n",
        "  adam = Adam(lr=learning_rate, decay= adam_decay)\n",
        "  rnn_model.compile(loss=\"categorical_crossentropy\", optimizer=adam,\n",
        "                        metrics=['acc'])\n",
        "  return rnn_model\n",
        "\n"
      ],
      "execution_count": 0,
      "outputs": []
    },
    {
      "cell_type": "code",
      "metadata": {
        "id": "MBMGXjmUEE7R",
        "colab_type": "code",
        "colab": {}
      },
      "source": [
        "@use_named_args(dimensions=dimensions)\n",
        "def fitness(learning_rate, num_dense_layers, num_input_nodes, \n",
        "            num_dense_nodes,activation, batch_size,adam_decay):\n",
        "\n",
        "    model = create_rnn_model(learning_rate=learning_rate,\n",
        "                         num_dense_layers=num_dense_layers,\n",
        "                         num_input_nodes=num_input_nodes,\n",
        "                         num_dense_nodes=num_dense_nodes,\n",
        "                         activation=activation,\n",
        "                         adam_decay=adam_decay\n",
        "                        )\n",
        "    \n",
        "\n",
        "    #named blackbox becuase it represents the structure\n",
        "    blackbox = model.fit(x=TRAIN_DS,\n",
        "                        y=Y,\n",
        "                        epochs=1,\n",
        "                        batch_size=batch_size,\n",
        "                        validation_split=0.15,\n",
        "                        )\n",
        "    #return the validation accuracy for the last epoch.\n",
        "    accuracy = blackbox.history['val_acc'][-1]\n",
        "\n",
        "    # Print the classification accuracy.\n",
        "    print()\n",
        "    print(\"Accuracy: {0:.2%}\".format(accuracy))\n",
        "    print()\n",
        "\n",
        "\n",
        "    # Delete the Keras model with these hyper-parameters from memory.\n",
        "    del model\n",
        "    \n",
        "    # Clear the Keras session, otherwise it will keep adding new\n",
        "    # models to the same TensorFlow graph each time we create\n",
        "    # a model with a different set of hyper-parameters.\n",
        "    K.clear_session()\n",
        "    tensorflow.compat.v1.reset_default_graph()\n",
        "    \n",
        "    # the optimizer aims for the lowest score, so we return our negative accuracy\n",
        "    return -accuracy"
      ],
      "execution_count": 0,
      "outputs": []
    },
    {
      "cell_type": "code",
      "metadata": {
        "id": "tgbv33uGEqcm",
        "colab_type": "code",
        "outputId": "ae8d3fc8-bf17-45de-8808-a550ccdac0dc",
        "colab": {
          "base_uri": "https://localhost:8080/",
          "height": 1000
        }
      },
      "source": [
        "gp_result = gp_minimize(func=fitness,\n",
        "                            dimensions=dimensions,\n",
        "                            n_calls=12,\n",
        "                            noise= 0.01,\n",
        "                            n_jobs=-1,\n",
        "                            kappa = 5,\n",
        "                            x0=default_parameters)\n",
        "\n"
      ],
      "execution_count": 0,
      "outputs": [
        {
          "output_type": "stream",
          "text": [
            "/usr/local/lib/python3.6/dist-packages/tensorflow/python/framework/indexed_slices.py:434: UserWarning: Converting sparse IndexedSlices to a dense Tensor of unknown shape. This may consume a large amount of memory.\n",
            "  \"Converting sparse IndexedSlices to a dense Tensor of unknown shape. \"\n"
          ],
          "name": "stderr"
        },
        {
          "output_type": "stream",
          "text": [
            "Train on 27002 samples, validate on 4766 samples\n",
            "Epoch 1/1\n",
            "27002/27002 [==============================] - 122s 5ms/step - loss: 1.9976 - acc: 0.2972 - val_loss: 1.9212 - val_acc: 0.3282\n",
            "\n",
            "Accuracy: 32.82%\n",
            "\n",
            "Train on 27002 samples, validate on 4766 samples\n",
            "Epoch 1/1\n",
            "27002/27002 [==============================] - 89s 3ms/step - loss: 1.9684 - acc: 0.3134 - val_loss: 1.9098 - val_acc: 0.3332\n",
            "\n",
            "Accuracy: 33.32%\n",
            "\n",
            "Train on 27002 samples, validate on 4766 samples\n",
            "Epoch 1/1\n",
            "27002/27002 [==============================] - 83s 3ms/step - loss: 2.1595 - acc: 0.2285 - val_loss: 2.1107 - val_acc: 0.2465\n",
            "\n",
            "Accuracy: 24.65%\n",
            "\n",
            "Train on 27002 samples, validate on 4766 samples\n",
            "Epoch 1/1\n",
            "27002/27002 [==============================] - 113s 4ms/step - loss: 2.1013 - acc: 0.2494 - val_loss: 2.0409 - val_acc: 0.2738\n",
            "\n",
            "Accuracy: 27.38%\n",
            "\n",
            "Train on 27002 samples, validate on 4766 samples\n",
            "Epoch 1/1\n",
            "27002/27002 [==============================] - 95s 4ms/step - loss: 2.1167 - acc: 0.2439 - val_loss: 2.0751 - val_acc: 0.2583\n",
            "\n",
            "Accuracy: 25.83%\n",
            "\n",
            "Train on 27002 samples, validate on 4766 samples\n",
            "Epoch 1/1\n",
            "27002/27002 [==============================] - 318s 12ms/step - loss: 2.1175 - acc: 0.2406 - val_loss: 2.1096 - val_acc: 0.2465\n",
            "\n",
            "Accuracy: 24.65%\n",
            "\n",
            "Train on 27002 samples, validate on 4766 samples\n",
            "Epoch 1/1\n",
            "27002/27002 [==============================] - 187s 7ms/step - loss: 1.9595 - acc: 0.3155 - val_loss: 1.9049 - val_acc: 0.3426\n",
            "\n",
            "Accuracy: 34.26%\n",
            "\n",
            "Train on 27002 samples, validate on 4766 samples\n",
            "Epoch 1/1\n",
            "27002/27002 [==============================] - 163s 6ms/step - loss: 1.9598 - acc: 0.3172 - val_loss: 1.8991 - val_acc: 0.3445\n",
            "\n",
            "Accuracy: 34.45%\n",
            "\n",
            "Train on 27002 samples, validate on 4766 samples\n",
            "Epoch 1/1\n",
            "27002/27002 [==============================] - 761s 28ms/step - loss: 2.1027 - acc: 0.2485 - val_loss: 2.1026 - val_acc: 0.2516\n",
            "\n",
            "Accuracy: 25.16%\n",
            "\n",
            "Train on 27002 samples, validate on 4766 samples\n",
            "Epoch 1/1\n",
            "27002/27002 [==============================] - 68s 3ms/step - loss: 2.0864 - acc: 0.2589 - val_loss: 2.0105 - val_acc: 0.2952\n",
            "\n",
            "Accuracy: 29.52%\n",
            "\n",
            "Train on 27002 samples, validate on 4766 samples\n",
            "Epoch 1/1\n",
            "27002/27002 [==============================] - 94s 3ms/step - loss: 2.0019 - acc: 0.2901 - val_loss: 1.9276 - val_acc: 0.3219\n",
            "\n",
            "Accuracy: 32.19%\n",
            "\n"
          ],
          "name": "stdout"
        },
        {
          "output_type": "stream",
          "text": [
            "/usr/local/lib/python3.6/dist-packages/tensorflow/python/framework/indexed_slices.py:434: UserWarning: Converting sparse IndexedSlices to a dense Tensor of unknown shape. This may consume a large amount of memory.\n",
            "  \"Converting sparse IndexedSlices to a dense Tensor of unknown shape. \"\n"
          ],
          "name": "stderr"
        },
        {
          "output_type": "stream",
          "text": [
            "Train on 27002 samples, validate on 4766 samples\n",
            "Epoch 1/1\n",
            "27002/27002 [==============================] - 7547s 279ms/step - loss: 2.1270 - acc: 0.2124 - val_loss: 2.1237 - val_acc: 0.2119\n",
            "\n",
            "Accuracy: 21.19%\n",
            "\n"
          ],
          "name": "stdout"
        },
        {
          "output_type": "execute_result",
          "data": {
            "text/plain": [
              "          fun: -0.34452369809150696\n",
              "    func_vals: array([-0.32815778, -0.33319345, -0.24653798, -0.27381453, -0.25828788,\n",
              "       -0.24653798, -0.34263533, -0.3445237 , -0.25157365, -0.29521611,\n",
              "       -0.3218632 , -0.21191776])\n",
              "       models: [GaussianProcessRegressor(alpha=1e-10, copy_X_train=True,\n",
              "                         kernel=1**2 * Matern(length_scale=[1, 1, 1, 1, 1, 1, 1], nu=2.5) + WhiteKernel(noise_level=0.01),\n",
              "                         n_restarts_optimizer=2, noise=0.01, normalize_y=True,\n",
              "                         optimizer='fmin_l_bfgs_b', random_state=979007326), GaussianProcessRegressor(alpha=1e-10, copy_X_train=True,\n",
              "                         kernel=1**2 * Matern(length_scale=[1, 1, 1, 1, 1, 1, 1], nu=2.5) + WhiteKernel(noise_level=0.01),\n",
              "                         n_restarts_optimizer=2, noise=0.01, normalize_y=True,\n",
              "                         optimizer='fmin_l_bfgs_b', random_state=979007326)]\n",
              " random_state: RandomState(MT19937) at 0x7FDF3DD3F678\n",
              "        space: Space([Real(low=0.0001, high=0.01, prior='log-uniform', transform='normalize'),\n",
              "       Integer(low=1, high=5, prior='uniform', transform='normalize'),\n",
              "       Integer(low=1, high=512, prior='uniform', transform='normalize'),\n",
              "       Integer(low=1, high=28, prior='uniform', transform='normalize'),\n",
              "       Categorical(categories=('relu', 'sigmoid'), prior=None),\n",
              "       Integer(low=1, high=128, prior='uniform', transform='normalize'),\n",
              "       Real(low=1e-06, high=0.01, prior='uniform', transform='normalize')])\n",
              "        specs: {'args': {'model_queue_size': None, 'n_jobs': -1, 'kappa': 5, 'xi': 0.01, 'n_restarts_optimizer': 5, 'n_points': 10000, 'callback': None, 'verbose': False, 'random_state': RandomState(MT19937) at 0x7FDF3DD3F678, 'y0': None, 'x0': [0.001, 1, 512, 13, 'relu', 64, 0.001], 'acq_optimizer': 'auto', 'acq_func': 'gp_hedge', 'n_random_starts': 10, 'n_calls': 12, 'base_estimator': GaussianProcessRegressor(alpha=1e-10, copy_X_train=True,\n",
              "                         kernel=1**2 * Matern(length_scale=[1, 1, 1, 1, 1, 1, 1], nu=2.5),\n",
              "                         n_restarts_optimizer=2, noise=0.01, normalize_y=True,\n",
              "                         optimizer='fmin_l_bfgs_b', random_state=979007326), 'dimensions': Space([Real(low=0.0001, high=0.01, prior='log-uniform', transform='normalize'),\n",
              "       Integer(low=1, high=5, prior='uniform', transform='normalize'),\n",
              "       Integer(low=1, high=512, prior='uniform', transform='normalize'),\n",
              "       Integer(low=1, high=28, prior='uniform', transform='normalize'),\n",
              "       Categorical(categories=('relu', 'sigmoid'), prior=None),\n",
              "       Integer(low=1, high=128, prior='uniform', transform='normalize'),\n",
              "       Real(low=1e-06, high=0.01, prior='uniform', transform='normalize')]), 'func': <function fitness at 0x7fded5d57ea0>}, 'function': 'base_minimize'}\n",
              "            x: [0.00692319229704878, 2, 98, 28, 'relu', 47, 0.008121572534969852]\n",
              "      x_iters: [[0.001, 1, 512, 13, 'relu', 64, 0.001], [0.005541600257690969, 2, 156, 16, 'sigmoid', 85, 0.003713513828189865], [0.0001002474334363124, 4, 156, 19, 'relu', 93, 0.0017563649278659686], [0.0002832892396966585, 2, 249, 24, 'sigmoid', 68, 0.0022688501009717863], [0.00025852987075094386, 3, 127, 13, 'relu', 81, 0.000980111097943834], [0.00016179243323615595, 5, 296, 2, 'sigmoid', 24, 0.00944350167331508], [0.004669694086083101, 5, 413, 27, 'sigmoid', 41, 0.007101734237778713], [0.00692319229704878, 2, 98, 28, 'relu', 47, 0.008121572534969852], [0.00031168983644463657, 5, 484, 26, 'sigmoid', 10, 0.005466601775551013], [0.0007901110200452885, 4, 186, 27, 'relu', 111, 0.008111870952488186], [0.0020548276274202078, 2, 143, 4, 'relu', 80, 0.005352882944228464], [0.01, 1, 512, 1, 'relu', 1, 1e-06]]"
            ]
          },
          "metadata": {
            "tags": []
          },
          "execution_count": 32
        }
      ]
    },
    {
      "cell_type": "code",
      "metadata": {
        "id": "MWsZ7CVHbLQV",
        "colab_type": "code",
        "outputId": "84b28da2-9ec0-4c77-f40e-a908ece2a60d",
        "colab": {
          "base_uri": "https://localhost:8080/",
          "height": 35
        }
      },
      "source": [
        "tuple(gp_result.x)"
      ],
      "execution_count": 0,
      "outputs": [
        {
          "output_type": "execute_result",
          "data": {
            "text/plain": [
              "(0.00692319229704878, 2, 98, 28, 'relu', 47, 0.008121572534969852)"
            ]
          },
          "metadata": {
            "tags": []
          },
          "execution_count": 40
        }
      ]
    },
    {
      "cell_type": "markdown",
      "metadata": {
        "id": "vcJJFnRRMEYg",
        "colab_type": "text"
      },
      "source": [
        "## LSTM/Attention model"
      ]
    },
    {
      "cell_type": "code",
      "metadata": {
        "id": "E0ExrvW5kV-B",
        "colab_type": "code",
        "colab": {}
      },
      "source": [
        "from keras.optimizers import Adam\n",
        "\n",
        "\n",
        "# LSTM & Attention Model referencing from Kaggle tutorial\n",
        "def create_LSTM_model(learning_rate, num_dense_layers,num_input_nodes,\n",
        "                 num_dense_nodes, activation, adam_decay, max_words = MAX_WORDS):\n",
        "\n",
        "  # Define input tensor\n",
        "  sequence_input = keras.Input(shape=(max_words,), dtype='int32')\n",
        "\n",
        "  # Word embedding layer\n",
        "  embedded_inputs =keras.layers.Embedding(len(train) + 1,\n",
        "                                          EMBEDDING_DIM,\n",
        "                                          input_length=max_words)(sequence_input)\n",
        "\n",
        "  # Apply dropout to prevent overfitting\n",
        "  embedded_inputs = keras.layers.Dropout(0.2)(embedded_inputs)\n",
        "\n",
        "  # Apply Bidirectional LSTM over embedded inputs\n",
        "  lstm_outs = keras.layers.wrappers.Bidirectional(\n",
        "      keras.layers.LSTM(EMBEDDING_DIM, return_sequences=True, recurrent_dropout=0.2)\n",
        "  )(embedded_inputs)\n",
        "\n",
        "\n",
        "  # Attention Mechanism - Generate attention vectors\n",
        "  input_dim = int(lstm_outs.shape[2])\n",
        "  attention_output = Attention(max_words)(lstm_outs)\n",
        "  \"\"\"\n",
        "  #permuted_inputs = keras.layers.Permute((2, 1))(lstm_outs)\n",
        "  attention_vector = keras.layers.TimeDistributed(keras.layers.Dense(1))(lstm_outs)\n",
        "  attention_vector = keras.layers.Reshape((max_words,))(attention_vector)\n",
        "  attention_vector = keras.layers.Activation('softmax', name='attention_vec')(attention_vector)\n",
        "  attention_output = keras.layers.Dot(axes=1)([lstm_outs, attention_vector])\n",
        "  \"\"\"\n",
        "\n",
        "  # Last layer: fully connected with softmax activation\n",
        "  fc = keras.layers.Dense(EMBEDDING_DIM, activation='relu')(attention_output)\n",
        "  fc = keras.layers.Dropout(0.25)(fc)\n",
        "  output = keras.layers.Dense(len(label2id), activation='softmax')(fc)\n",
        "\n",
        "  # Finally building model\n",
        "  model = keras.Model(inputs=[sequence_input], outputs=output)\n",
        "  adam = Adam(lr=learning_rate, decay= adam_decay)\n",
        "  model.compile(loss=\"categorical_crossentropy\", metrics=[\"accuracy\"], optimizer=adam)\n",
        "\n",
        "  return model\n",
        "\n"
      ],
      "execution_count": 0,
      "outputs": []
    },
    {
      "cell_type": "markdown",
      "metadata": {
        "id": "yUfXvL2pnfHS",
        "colab_type": "text"
      },
      "source": [
        "# Train the model"
      ]
    },
    {
      "cell_type": "markdown",
      "metadata": {
        "id": "KDgVf3JivfKG",
        "colab_type": "text"
      },
      "source": [
        "## Train the LSTM/Attention Model. \n",
        "If you are to test the hyperparameters, you can try on the prototype which cost fewer time."
      ]
    },
    {
      "cell_type": "code",
      "metadata": {
        "id": "QUqDbJmlnFN_",
        "colab_type": "code",
        "colab": {}
      },
      "source": [
        "gp_result_x = [0.00692319229704878, 2, 98, 28, 'relu', 47, 0.008121572534969852]\n",
        "batch_size = gp_result_x.pop(5)\n",
        "\n",
        "hyperparameter = tuple(gp_result_x)"
      ],
      "execution_count": 0,
      "outputs": []
    },
    {
      "cell_type": "code",
      "metadata": {
        "id": "m48et4iKnEn4",
        "colab_type": "code",
        "colab": {
          "base_uri": "https://localhost:8080/",
          "height": 390
        },
        "outputId": "02a084ea-7dd0-4c96-bafb-874c478122b2"
      },
      "source": [
        "# Print model summary\n",
        "#model = create_LSTM_model(*hyperparameter)\n",
        "#model.summary()\n",
        "\n",
        "history = model.fit(train, Y, epochs=N_EPOCH, batch_size=BATCH_SIZE, validation_split=0.1, shuffle=True)\n"
      ],
      "execution_count": 57,
      "outputs": [
        {
          "output_type": "stream",
          "text": [
            "Train on 16389 samples, validate on 1822 samples\n",
            "Epoch 1/10\n",
            "16389/16389 [==============================] - 67s 4ms/step - loss: 1.3591 - accuracy: 0.3945 - val_loss: 1.2843 - val_accuracy: 0.4533\n",
            "Epoch 2/10\n",
            "16389/16389 [==============================] - 68s 4ms/step - loss: 1.0905 - accuracy: 0.5389 - val_loss: 1.3036 - val_accuracy: 0.4501\n",
            "Epoch 3/10\n",
            "16389/16389 [==============================] - 68s 4ms/step - loss: 0.8928 - accuracy: 0.6491 - val_loss: 1.4237 - val_accuracy: 0.4402\n",
            "Epoch 4/10\n",
            "16389/16389 [==============================] - 67s 4ms/step - loss: 0.7223 - accuracy: 0.7284 - val_loss: 1.5945 - val_accuracy: 0.4248\n",
            "Epoch 5/10\n",
            "16389/16389 [==============================] - 68s 4ms/step - loss: 0.5986 - accuracy: 0.7844 - val_loss: 1.7418 - val_accuracy: 0.4254\n",
            "Epoch 6/10\n",
            "16389/16389 [==============================] - 67s 4ms/step - loss: 0.5081 - accuracy: 0.8194 - val_loss: 1.9408 - val_accuracy: 0.4144\n",
            "Epoch 7/10\n",
            "16389/16389 [==============================] - 67s 4ms/step - loss: 0.4483 - accuracy: 0.8440 - val_loss: 2.0911 - val_accuracy: 0.4083\n",
            "Epoch 8/10\n",
            "16389/16389 [==============================] - 68s 4ms/step - loss: 0.4012 - accuracy: 0.8597 - val_loss: 2.2096 - val_accuracy: 0.4072\n",
            "Epoch 9/10\n",
            "16389/16389 [==============================] - 67s 4ms/step - loss: 0.3665 - accuracy: 0.8709 - val_loss: 2.3346 - val_accuracy: 0.4100\n",
            "Epoch 10/10\n",
            "16389/16389 [==============================] - 67s 4ms/step - loss: 0.3399 - accuracy: 0.8820 - val_loss: 2.5080 - val_accuracy: 0.4040\n"
          ],
          "name": "stdout"
        }
      ]
    },
    {
      "cell_type": "markdown",
      "metadata": {
        "id": "CAixMJejt86M",
        "colab_type": "text"
      },
      "source": [
        "## Train the prototype (temp)"
      ]
    },
    {
      "cell_type": "code",
      "metadata": {
        "id": "yjNb5YFxkkRK",
        "colab_type": "code",
        "colab": {}
      },
      "source": [
        "# fit for rnn model (temp) provided in the course\n",
        "rnn_model = create_rnn_model(*hyperparameter)\n",
        "temp = rnn_model.fit(train, Y, epochs=10, batch_size=BATCH_SIZE, validation_split=0.1, shuffle=True)"
      ],
      "execution_count": 0,
      "outputs": []
    },
    {
      "cell_type": "code",
      "metadata": {
        "id": "VArlUvPJoYvz",
        "colab_type": "code",
        "colab": {}
      },
      "source": [
        "import torch\n",
        "from torchvision import datasets, models, transforms\n",
        "\n",
        "model_save_name = \"lstm_attention_v3_trained.h5\" \n",
        "path = F\"/content/drive/My Drive/Colab Notebooks/{model_save_name}\" \n",
        "model.save(path)"
      ],
      "execution_count": 0,
      "outputs": []
    },
    {
      "cell_type": "markdown",
      "metadata": {
        "id": "wu_BMhnI8S0F",
        "colab_type": "text"
      },
      "source": [
        "## Get the existing models\n",
        "\n",
        "If you want to use the existing model, I've already store it in our shared file. "
      ]
    },
    {
      "cell_type": "code",
      "metadata": {
        "id": "UdTqk5uo8ewb",
        "colab_type": "code",
        "outputId": "833fc2a2-9223-4b26-b922-bc84560bd5f2",
        "colab": {
          "base_uri": "https://localhost:8080/",
          "height": 55
        }
      },
      "source": [
        "\"\"\"\n",
        "!pip install gdown==3.6.0\n",
        "\n",
        "v1_id = \"1M1VxKSiCgecAkogInyEwc4Phx3b9PzbF\"\n",
        "v2_id = \"1-AbA0OevJmKWaknYsmGRSfYzwsM7IlU2\"\n",
        "v2.1_id = \"\"\n",
        "v2.2_id = \"\"\n",
        "v3_id = \"1iBLelXS9Bw0_iKtoTPKMn7FIIP7Po7z4\"\n",
        "\n",
        "#!gdown https://drive.google.com/uc?id={v1_id}  #v1_model\n",
        "#!gdown https://drive.google.com/uc?id={v2_id}  #v2_model\n",
        "#!gdown https://drive.google.com/uc?id={v3_id}  #v3_model\n",
        "\"\"\""
      ],
      "execution_count": 64,
      "outputs": [
        {
          "output_type": "execute_result",
          "data": {
            "text/plain": [
              "'\\n!pip install gdown==3.6.0\\n\\nv1_id = \"1M1VxKSiCgecAkogInyEwc4Phx3b9PzbF\"\\nv2_id = \"1-AbA0OevJmKWaknYsmGRSfYzwsM7IlU2\"\\nv2.1_id = \"\"\\nv2.2_id = \"\"\\nv3_id = \"1iBLelXS9Bw0_iKtoTPKMn7FIIP7Po7z4\"\\n\\n#!gdown https://drive.google.com/uc?id={v1_id}  #v1_model\\n#!gdown https://drive.google.com/uc?id={v2_id}  #v2_model\\n#!gdown https://drive.google.com/uc?id={v3_id}  #v3_model\\n'"
            ]
          },
          "metadata": {
            "tags": []
          },
          "execution_count": 64
        }
      ]
    },
    {
      "cell_type": "code",
      "metadata": {
        "id": "fifFMdTeTnm5",
        "colab_type": "code",
        "outputId": "3a349e67-5e01-484b-ca51-d978a584a772",
        "colab": {
          "base_uri": "https://localhost:8080/",
          "height": 87
        }
      },
      "source": [
        "\"\"\"\n",
        "import keras\n",
        "model_from_drive = keras.models.load_model('lstm_attention_v1_trained.h5')\n",
        "\"\"\""
      ],
      "execution_count": 0,
      "outputs": [
        {
          "output_type": "stream",
          "text": [
            "Using TensorFlow backend.\n",
            "/usr/local/lib/python3.6/dist-packages/tensorflow/python/framework/indexed_slices.py:434: UserWarning: Converting sparse IndexedSlices to a dense Tensor of unknown shape. This may consume a large amount of memory.\n",
            "  \"Converting sparse IndexedSlices to a dense Tensor of unknown shape. \"\n"
          ],
          "name": "stderr"
        }
      ]
    },
    {
      "cell_type": "markdown",
      "metadata": {
        "id": "lGgy_PKwpAS4",
        "colab_type": "text"
      },
      "source": [
        "# Testing and predicting"
      ]
    },
    {
      "cell_type": "markdown",
      "metadata": {
        "id": "q040otVlL3NW",
        "colab_type": "text"
      },
      "source": [
        "## Test"
      ]
    },
    {
      "cell_type": "markdown",
      "metadata": {
        "id": "g2aPG1JXHG-d",
        "colab_type": "text"
      },
      "source": [
        "This is the test result for our model"
      ]
    },
    {
      "cell_type": "code",
      "metadata": {
        "id": "tdqvpVkpL_XK",
        "colab_type": "code",
        "outputId": "8c7fece5-f649-4403-bfb5-43138f97ffde",
        "colab": {
          "base_uri": "https://localhost:8080/",
          "height": 35
        }
      },
      "source": [
        "# Re-evaluate the model\n",
        "loss, val_accuracy = model.evaluate(val, val_Y, verbose=2)\n",
        "#loss, val_accuracy = rnn_model.evaluate(val, val_Y, verbose=2)\n",
        "print(\"Restored model, accuracy: {:5.2f}%\".format(100*val_accuracy))"
      ],
      "execution_count": 59,
      "outputs": [
        {
          "output_type": "stream",
          "text": [
            "Restored model, accuracy: 39.53%\n"
          ],
          "name": "stdout"
        }
      ]
    },
    {
      "cell_type": "markdown",
      "metadata": {
        "id": "osm09s0mNar2",
        "colab_type": "text"
      },
      "source": [
        "### Analysis on the network topology (not really considered optimization but is obviously very important)\n",
        "\n",
        "We can plot the accuracy and loss function as a function of epochs for the training and test sets to see how the network performed."
      ]
    },
    {
      "cell_type": "code",
      "metadata": {
        "id": "KDJ34aC7NZhv",
        "colab_type": "code",
        "outputId": "9142d0a2-f73c-48c9-9b21-3239b1458d79",
        "colab": {
          "base_uri": "https://localhost:8080/",
          "height": 798
        }
      },
      "source": [
        "import matplotlib.pyplot as plt\n",
        "\n",
        "# Plot the loss function\n",
        "fig, ax = plt.subplots(1, 1, figsize=(10,6))\n",
        "ax.plot(np.sqrt(history.history['loss']), 'r', label='train')\n",
        "ax.plot(np.sqrt(history.history['val_loss']), 'b' ,label='val')\n",
        "#ax.plot(np.sqrt(temp.history['loss']), 'r', label='train')\n",
        "#ax.plot(np.sqrt(temp.history['val_loss']), 'b' ,label='val')\n",
        "ax.set_xlabel(r'Epoch', fontsize=20)\n",
        "ax.set_ylabel(r'Loss', fontsize=20)\n",
        "ax.legend()\n",
        "ax.tick_params(labelsize=20)\n",
        "\n",
        "# Plot the accuracy\n",
        "fig, ax = plt.subplots(1, 1, figsize=(10,6))\n",
        "ax.plot(np.sqrt(history.history['accuracy']), 'r', label='train')\n",
        "ax.plot(np.sqrt(history.history['val_accuracy']), 'b' ,label='val')\n",
        "#ax.plot(np.sqrt(temp.history['acc']), 'r', label='train')\n",
        "#ax.plot(np.sqrt(temp.history['val_acc']), 'b' ,label='val')\n",
        "ax.set_xlabel(r'Epoch', fontsize=20)\n",
        "ax.set_ylabel(r'Accuracy', fontsize=20)\n",
        "ax.legend()\n",
        "ax.tick_params(labelsize=20)"
      ],
      "execution_count": 60,
      "outputs": [
        {
          "output_type": "display_data",
          "data": {
            "image/png": "[encoded data removed]",
            "text/plain": [
              "<Figure size 720x432 with 1 Axes>"
            ]
          },
          "metadata": {
            "tags": [],
            "needs_background": "light"
          }
        },
        {
          "output_type": "display_data",
          "data": {
            "image/png": "[encoded data removed]",
            "text/plain": [
              "<Figure size 720x432 with 1 Axes>"
            ]
          },
          "metadata": {
            "tags": [],
            "needs_background": "light"
          }
        }
      ]
    },
    {
      "cell_type": "markdown",
      "metadata": {
        "id": "dMcgDbNUL5lF",
        "colab_type": "text"
      },
      "source": [
        "## Predict"
      ]
    },
    {
      "cell_type": "code",
      "metadata": {
        "id": "llOQveJzoZWW",
        "colab_type": "code",
        "outputId": "9dac72d1-8d65-4407-debf-f3c501c3e285",
        "colab": {
          "base_uri": "https://localhost:8080/",
          "height": 55
        }
      },
      "source": [
        "# Re-create the model to get attention vectors as well as label prediction\n",
        "model_with_attentions = keras.Model(inputs=model.input,\n",
        "                                    outputs=[model.output, \n",
        "                                             model.get_layer('attention_vec').output])\n",
        "\n",
        "\"\"\"\n",
        "# If you just use the downloaded model wothout trained yourself, please use here:\n",
        "model_with_attentions = keras.Model(inputs=model_from_drive.input,\n",
        "                                    outputs=[model_from_drive.output, \n",
        "                                             model_from_drive.get_layer('attention_vec').output])\n",
        "\"\"\""
      ],
      "execution_count": 0,
      "outputs": [
        {
          "output_type": "execute_result",
          "data": {
            "text/plain": [
              "\"\\n# If you just use the downloaded model wothout trained yourself, please use here:\\nmodel_with_attentions = keras.Model(inputs=model_from_drive.input,\\n                                    outputs=[model_from_drive.output, \\n                                             model_from_drive.get_layer('attention_vec').output])\\n\""
            ]
          },
          "metadata": {
            "tags": []
          },
          "execution_count": 51
        }
      ]
    },
    {
      "cell_type": "code",
      "metadata": {
        "id": "3DxnB2dEoa59",
        "colab_type": "code",
        "outputId": "352a9fca-39cb-409a-8090-d0c0ecfc69d6",
        "colab": {
          "base_uri": "https://localhost:8080/",
          "height": 239
        }
      },
      "source": [
        "import random\n",
        "import math\n",
        "\n",
        "# Select random samples to illustrate\n",
        "sample_text = \"what are you doing\"\n",
        "sample_text = sample_text.lower()\n",
        "#sample_text = random.choice(val)\n",
        "\n",
        "\n",
        "# Encode samples\n",
        "tokenized_sample = sample_text.split(\" \")\n",
        "encoded_samples = [[word_index[word] for word in tokenized_sample]]\n",
        "\n",
        "# Padding\n",
        "encoded_samples = keras.preprocessing.sequence.pad_sequences(encoded_samples, maxlen=max_words)\n",
        "\n",
        "#encoded_samples = sample_text\n",
        "#print(encoded_samples.shape)\n",
        "# Make predictions\n",
        "label_probs, attentions = model_with_attentions.predict(encoded_samples)\n",
        "label_probs = {id2label[_id]: prob for (label, _id), prob in zip(label2id.items(),label_probs[0])}\n",
        "\n",
        "# Get word attentions using attenion vector\n",
        "token_attention_dic = {}\n",
        "max_score = 0.0\n",
        "min_score = 0.0\n",
        "for token, attention_score in zip(tokenized_sample, attentions[0][-len(tokenized_sample):]):\n",
        "    token_attention_dic[token] = math.sqrt(attention_score)\n",
        "\n",
        "\n",
        "# VISUALIZATION\n",
        "import matplotlib.pyplot as plt; plt.rcdefaults()\n",
        "import numpy as np\n",
        "import matplotlib.pyplot as plt\n",
        "from IPython.core.display import display, HTML\n",
        "\n",
        "def rgb_to_hex(rgb):\n",
        "    return '#%02x%02x%02x' % rgb\n",
        "    \n",
        "def attention2color(attention_score):\n",
        "    r = 255 - int(attention_score * 255)\n",
        "    color = rgb_to_hex((255, r, r))\n",
        "    return str(color)\n",
        "    \n",
        "# Build HTML String to viualize attentions\n",
        "html_text = \"<hr><p style='font-size: large'><b>Text:  </b>\"\n",
        "for token, attention in token_attention_dic.items():\n",
        "    html_text += \"<span style='background-color:{};'>{} <span> \".format(attention2color(attention),\n",
        "                                                                        token)\n",
        "html_text += \"</p>\"\n",
        "# Display text enriched with attention scores \n",
        "display(HTML(html_text))\n",
        "\n",
        "# PLOT EMOTION SCORES\n",
        "emotions = [label for label, _ in label_probs.items()]\n",
        "scores = [score for _, score in label_probs.items()]\n",
        "plt.figure(figsize=(5,2))\n",
        "plt.bar(np.arange(len(emotions)), scores, align='center', alpha=0.5, color=['black', 'red', 'green', 'blue', 'cyan', \"purple\"])\n",
        "plt.xticks(np.arange(len(emotions)), emotions)\n",
        "plt.ylabel('Scores')\n",
        "plt.show()\n"
      ],
      "execution_count": 0,
      "outputs": [
        {
          "output_type": "error",
          "ename": "NameError",
          "evalue": "ignored",
          "traceback": [
            "\u001b[0;31m---------------------------------------------------------------------------\u001b[0m",
            "\u001b[0;31mNameError\u001b[0m                                 Traceback (most recent call last)",
            "\u001b[0;32m<ipython-input-183-70c4927e932e>\u001b[0m in \u001b[0;36m<module>\u001b[0;34m()\u001b[0m\n\u001b[1;32m     18\u001b[0m \u001b[0;31m#print(encoded_samples.shape)\u001b[0m\u001b[0;34m\u001b[0m\u001b[0;34m\u001b[0m\u001b[0;34m\u001b[0m\u001b[0m\n\u001b[1;32m     19\u001b[0m \u001b[0;31m# Make predictions\u001b[0m\u001b[0;34m\u001b[0m\u001b[0;34m\u001b[0m\u001b[0;34m\u001b[0m\u001b[0m\n\u001b[0;32m---> 20\u001b[0;31m \u001b[0mlabel_probs\u001b[0m\u001b[0;34m,\u001b[0m \u001b[0mattentions\u001b[0m \u001b[0;34m=\u001b[0m \u001b[0mmodel_with_attentions\u001b[0m\u001b[0;34m.\u001b[0m\u001b[0mpredict\u001b[0m\u001b[0;34m(\u001b[0m\u001b[0mencoded_samples\u001b[0m\u001b[0;34m)\u001b[0m\u001b[0;34m\u001b[0m\u001b[0;34m\u001b[0m\u001b[0m\n\u001b[0m\u001b[1;32m     21\u001b[0m \u001b[0mlabel_probs\u001b[0m \u001b[0;34m=\u001b[0m \u001b[0;34m{\u001b[0m\u001b[0mid2label\u001b[0m\u001b[0;34m[\u001b[0m\u001b[0m_id\u001b[0m\u001b[0;34m]\u001b[0m\u001b[0;34m:\u001b[0m \u001b[0mprob\u001b[0m \u001b[0;32mfor\u001b[0m \u001b[0;34m(\u001b[0m\u001b[0mlabel\u001b[0m\u001b[0;34m,\u001b[0m \u001b[0m_id\u001b[0m\u001b[0;34m)\u001b[0m\u001b[0;34m,\u001b[0m \u001b[0mprob\u001b[0m \u001b[0;32min\u001b[0m \u001b[0mzip\u001b[0m\u001b[0;34m(\u001b[0m\u001b[0mlabel2id\u001b[0m\u001b[0;34m.\u001b[0m\u001b[0mitems\u001b[0m\u001b[0;34m(\u001b[0m\u001b[0;34m)\u001b[0m\u001b[0;34m,\u001b[0m\u001b[0mlabel_probs\u001b[0m\u001b[0;34m[\u001b[0m\u001b[0;36m0\u001b[0m\u001b[0;34m]\u001b[0m\u001b[0;34m)\u001b[0m\u001b[0;34m}\u001b[0m\u001b[0;34m\u001b[0m\u001b[0;34m\u001b[0m\u001b[0m\n\u001b[1;32m     22\u001b[0m \u001b[0;34m\u001b[0m\u001b[0m\n",
            "\u001b[0;31mNameError\u001b[0m: name 'model_with_attentions' is not defined"
          ]
        }
      ]
    },
    {
      "cell_type": "markdown",
      "metadata": {
        "id": "jn_KAqDW-ee3",
        "colab_type": "text"
      },
      "source": [
        "In case the above chart is hard to see, here is the list of proboabilities showing the likeliness of emotions."
      ]
    },
    {
      "cell_type": "code",
      "metadata": {
        "id": "_l928yZAof8T",
        "colab_type": "code",
        "outputId": "78e2a773-24ec-439a-b490-e00ae6f42693",
        "colab": {
          "base_uri": "https://localhost:8080/",
          "height": 248
        }
      },
      "source": [
        "import operator\n",
        "\n",
        "# create a list of emotion in decending order of their probability \n",
        "emotion_list=[]\n",
        "\n",
        "for  _, emotion in enumerate(label_probs):\n",
        "    temp = [emotion, label_probs[emotion]]\n",
        "    emotion_list.append(temp)\n",
        "\n",
        "sorted(emotion_list, key=operator.itemgetter(1), reverse= True)"
      ],
      "execution_count": 0,
      "outputs": [
        {
          "output_type": "execute_result",
          "data": {
            "text/plain": [
              "[['worry', 0.35792974],\n",
              " ['neutral', 0.260627],\n",
              " ['sadness', 0.226002],\n",
              " ['surprise', 0.09963546],\n",
              " ['hate', 0.024357434],\n",
              " ['empty', 0.013586671],\n",
              " ['love', 0.011085417],\n",
              " ['relief', 0.0026744956],\n",
              " ['boredom', 0.0013502156],\n",
              " ['enthusiasm', 0.0011065771],\n",
              " ['anger', 0.0008735581],\n",
              " ['happiness', 0.00047115175],\n",
              " ['fun', 0.0003002882]]"
            ]
          },
          "metadata": {
            "tags": []
          },
          "execution_count": 55
        }
      ]
    },
    {
      "cell_type": "markdown",
      "metadata": {
        "id": "2tRnnBIl7Fls",
        "colab_type": "text"
      },
      "source": [
        "# Main issue with the model performance\n",
        "\n",
        "* val_accuracy not improving\n",
        "* val_accuracy decreacing and cal_loss increasing --> overfitting"
      ]
    },
    {
      "cell_type": "markdown",
      "metadata": {
        "id": "Qx5FMi7FG6Pd",
        "colab_type": "text"
      },
      "source": [
        "# Serveral gusses of improving the model "
      ]
    },
    {
      "cell_type": "markdown",
      "metadata": {
        "id": "GV5q1KtrHA3f",
        "colab_type": "text"
      },
      "source": [
        "*   half the data with labels of many dataset (done)\n",
        "*   cut out the label with too few dataset (done)\n",
        "*   using sub-wording tokenization (done)\n",
        "*   hyperparameter tuning\n",
        "*   NOT CONVERGE\n",
        "*   model achtecture re-design\n",
        "*   remove stop words (e.g. there, is, a, ...) (done)\n",
        "*   tag name (with prefix '@') removal (done)\n",
        "\n"
      ]
    },
    {
      "cell_type": "code",
      "metadata": {
        "id": "h4KwEZq2TmNK",
        "colab_type": "code",
        "colab": {}
      },
      "source": [
        ""
      ],
      "execution_count": 0,
      "outputs": []
    }
  ]
}