{
  "nbformat": 4,
  "nbformat_minor": 0,
  "metadata": {
    "colab": {
      "name": "project machine.ipynb",
      "provenance": [],
      "collapsed_sections": [],
      "toc_visible": true,
      "authorship_tag": "ABX9TyOcfiqZrbYJLtlH8Fsjd9ph",
      "include_colab_link": true
    },
    "kernelspec": {
      "name": "python3",
      "display_name": "Python 3"
    },
    "accelerator": "GPU"
  },
  "cells": [
    {
      "cell_type": "markdown",
      "metadata": {
        "id": "view-in-github",
        "colab_type": "text"
      },
      "source": [
        "<a href=\"https://colab.research.google.com/github/WesleyHung/comp3359-Emotion-Analysis/blob/master/project_machine.ipynb\" target=\"_parent\"><img src=\"https://colab.research.google.com/assets/colab-badge.svg\" alt=\"Open In Colab\"/></a>"
      ]
    },
    {
      "cell_type": "markdown",
      "metadata": {
        "id": "UmNJdnyhcV37",
        "colab_type": "text"
      },
      "source": [
        "# Comp3359 Project\n",
        "# Emotion Analysis AI machine"
      ]
    },
    {
      "cell_type": "markdown",
      "metadata": {
        "id": "n7135-v0chl4",
        "colab_type": "text"
      },
      "source": [
        "\n",
        "Listed some styles of our machine here...\n",
        "*   Text classification\n",
        "*   Supervised learning\n",
        "*   LSTM (Type of RNN)\n",
        "*   Attention Mechanism (encoding/ decoding)\n",
        "\n"
      ]
    },
    {
      "cell_type": "markdown",
      "metadata": {
        "id": "J8pVocC02yYc",
        "colab_type": "text"
      },
      "source": [
        "# Load the data"
      ]
    },
    {
      "cell_type": "code",
      "metadata": {
        "id": "E1HbIW0Ge4oW",
        "colab_type": "code",
        "colab": {
          "base_uri": "https://localhost:8080/",
          "height": 34
        },
        "outputId": "72a68342-85a6-4204-e65b-defc4ba58441"
      },
      "source": [
        "import numpy as np # linear algebra\n",
        "import pandas as pd # data processing, CSV file I/O (e.g. pd.read_csv)\n",
        "import os\n",
        "\n",
        "# Mount Google Drive\n",
        "from google.colab import drive\n",
        "drive.mount('/content/drive')\n",
        "\n",
        "# Specify directory of course materials in Google Drive\n",
        "module_dir = '/content/drive/My Drive/'\n",
        "\n",
        "# Path to data file\n",
        "data_path = os.path.join(module_dir, 'text_emotion.csv')      #I put my dataset in my google drive, you can do so by copying from the sharing file\n",
        "\n",
        "#Loading the dataset into pandas DataFrame\n",
        "data_df = pd.read_csv(data_path)"
      ],
      "execution_count": 118,
      "outputs": [
        {
          "output_type": "stream",
          "text": [
            "Drive already mounted at /content/drive; to attempt to forcibly remount, call drive.mount(\"/content/drive\", force_remount=True).\n"
          ],
          "name": "stdout"
        }
      ]
    },
    {
      "cell_type": "code",
      "metadata": {
        "id": "b58nK2A-gMqV",
        "colab_type": "code",
        "outputId": "584b8b9a-a524-4add-9ea4-08d61c1dda7b",
        "colab": {
          "base_uri": "https://localhost:8080/",
          "height": 513
        }
      },
      "source": [
        "# Plot label histogram\n",
        "data_df.sentiment.value_counts().plot.bar()"
      ],
      "execution_count": 119,
      "outputs": [
        {
          "output_type": "execute_result",
          "data": {
            "text/plain": [
              "<matplotlib.axes._subplots.AxesSubplot at 0x7fa6cbbd6ba8>"
            ]
          },
          "metadata": {
            "tags": []
          },
          "execution_count": 119
        },
        {
          "output_type": "display_data",
          "data": {
            "image/png": "[encoded data removed]",
            "text/plain": [
              "<Figure size 640x480 with 1 Axes>"
            ]
          },
          "metadata": {
            "tags": []
          }
        }
      ]
    },
    {
      "cell_type": "code",
      "metadata": {
        "id": "ouF2RQ143mps",
        "colab_type": "code",
        "colab": {
          "base_uri": "https://localhost:8080/",
          "height": 195
        },
        "outputId": "3f8eb63f-b013-4cfd-bf72-bf926ad49caa"
      },
      "source": [
        "data_df.head()"
      ],
      "execution_count": 120,
      "outputs": [
        {
          "output_type": "execute_result",
          "data": {
            "text/html": [
              "<div>\n",
              "<style scoped>\n",
              "    .dataframe tbody tr th:only-of-type {\n",
              "        vertical-align: middle;\n",
              "    }\n",
              "\n",
              "    .dataframe tbody tr th {\n",
              "        vertical-align: top;\n",
              "    }\n",
              "\n",
              "    .dataframe thead th {\n",
              "        text-align: right;\n",
              "    }\n",
              "</style>\n",
              "<table border=\"1\" class=\"dataframe\">\n",
              "  <thead>\n",
              "    <tr style=\"text-align: right;\">\n",
              "      <th></th>\n",
              "      <th>tweet_id</th>\n",
              "      <th>sentiment</th>\n",
              "      <th>author</th>\n",
              "      <th>content</th>\n",
              "    </tr>\n",
              "  </thead>\n",
              "  <tbody>\n",
              "    <tr>\n",
              "      <th>0</th>\n",
              "      <td>1956967341</td>\n",
              "      <td>empty</td>\n",
              "      <td>xoshayzers</td>\n",
              "      <td>@tiffanylue i know  i was listenin to bad habi...</td>\n",
              "    </tr>\n",
              "    <tr>\n",
              "      <th>1</th>\n",
              "      <td>1956967666</td>\n",
              "      <td>sadness</td>\n",
              "      <td>wannamama</td>\n",
              "      <td>Layin n bed with a headache  ughhhh...waitin o...</td>\n",
              "    </tr>\n",
              "    <tr>\n",
              "      <th>2</th>\n",
              "      <td>1956967696</td>\n",
              "      <td>sadness</td>\n",
              "      <td>coolfunky</td>\n",
              "      <td>Funeral ceremony...gloomy friday...</td>\n",
              "    </tr>\n",
              "    <tr>\n",
              "      <th>3</th>\n",
              "      <td>1956967789</td>\n",
              "      <td>enthusiasm</td>\n",
              "      <td>czareaquino</td>\n",
              "      <td>wants to hang out with friends SOON!</td>\n",
              "    </tr>\n",
              "    <tr>\n",
              "      <th>4</th>\n",
              "      <td>1956968416</td>\n",
              "      <td>neutral</td>\n",
              "      <td>xkilljoyx</td>\n",
              "      <td>@dannycastillo We want to trade with someone w...</td>\n",
              "    </tr>\n",
              "  </tbody>\n",
              "</table>\n",
              "</div>"
            ],
            "text/plain": [
              "     tweet_id  ...                                            content\n",
              "0  1956967341  ...  @tiffanylue i know  i was listenin to bad habi...\n",
              "1  1956967666  ...  Layin n bed with a headache  ughhhh...waitin o...\n",
              "2  1956967696  ...                Funeral ceremony...gloomy friday...\n",
              "3  1956967789  ...               wants to hang out with friends SOON!\n",
              "4  1956968416  ...  @dannycastillo We want to trade with someone w...\n",
              "\n",
              "[5 rows x 4 columns]"
            ]
          },
          "metadata": {
            "tags": []
          },
          "execution_count": 120
        }
      ]
    },
    {
      "cell_type": "markdown",
      "metadata": {
        "id": "A2DdEQbM_Tfm",
        "colab_type": "text"
      },
      "source": [
        "Taking the only useful features"
      ]
    },
    {
      "cell_type": "code",
      "metadata": {
        "id": "xnkObufj_OSr",
        "colab_type": "code",
        "colab": {
          "base_uri": "https://localhost:8080/",
          "height": 402
        },
        "outputId": "ecf28a81-73c1-4cee-c76b-74ba2b531b50"
      },
      "source": [
        "data_df = data_df[['sentiment', 'content']]\n",
        "data_df"
      ],
      "execution_count": 122,
      "outputs": [
        {
          "output_type": "execute_result",
          "data": {
            "text/html": [
              "<div>\n",
              "<style scoped>\n",
              "    .dataframe tbody tr th:only-of-type {\n",
              "        vertical-align: middle;\n",
              "    }\n",
              "\n",
              "    .dataframe tbody tr th {\n",
              "        vertical-align: top;\n",
              "    }\n",
              "\n",
              "    .dataframe thead th {\n",
              "        text-align: right;\n",
              "    }\n",
              "</style>\n",
              "<table border=\"1\" class=\"dataframe\">\n",
              "  <thead>\n",
              "    <tr style=\"text-align: right;\">\n",
              "      <th></th>\n",
              "      <th>sentiment</th>\n",
              "      <th>content</th>\n",
              "    </tr>\n",
              "  </thead>\n",
              "  <tbody>\n",
              "    <tr>\n",
              "      <th>0</th>\n",
              "      <td>empty</td>\n",
              "      <td>@tiffanylue i know  i was listenin to bad habi...</td>\n",
              "    </tr>\n",
              "    <tr>\n",
              "      <th>1</th>\n",
              "      <td>sadness</td>\n",
              "      <td>Layin n bed with a headache  ughhhh...waitin o...</td>\n",
              "    </tr>\n",
              "    <tr>\n",
              "      <th>2</th>\n",
              "      <td>sadness</td>\n",
              "      <td>Funeral ceremony...gloomy friday...</td>\n",
              "    </tr>\n",
              "    <tr>\n",
              "      <th>3</th>\n",
              "      <td>enthusiasm</td>\n",
              "      <td>wants to hang out with friends SOON!</td>\n",
              "    </tr>\n",
              "    <tr>\n",
              "      <th>4</th>\n",
              "      <td>neutral</td>\n",
              "      <td>@dannycastillo We want to trade with someone w...</td>\n",
              "    </tr>\n",
              "    <tr>\n",
              "      <th>...</th>\n",
              "      <td>...</td>\n",
              "      <td>...</td>\n",
              "    </tr>\n",
              "    <tr>\n",
              "      <th>39995</th>\n",
              "      <td>neutral</td>\n",
              "      <td>@JohnLloydTaylor</td>\n",
              "    </tr>\n",
              "    <tr>\n",
              "      <th>39996</th>\n",
              "      <td>love</td>\n",
              "      <td>Happy Mothers Day  All my love</td>\n",
              "    </tr>\n",
              "    <tr>\n",
              "      <th>39997</th>\n",
              "      <td>love</td>\n",
              "      <td>Happy Mother's Day to all the mommies out ther...</td>\n",
              "    </tr>\n",
              "    <tr>\n",
              "      <th>39998</th>\n",
              "      <td>happiness</td>\n",
              "      <td>@niariley WASSUP BEAUTIFUL!!! FOLLOW ME!!  PEE...</td>\n",
              "    </tr>\n",
              "    <tr>\n",
              "      <th>39999</th>\n",
              "      <td>love</td>\n",
              "      <td>@mopedronin bullet train from tokyo    the gf ...</td>\n",
              "    </tr>\n",
              "  </tbody>\n",
              "</table>\n",
              "<p>40000 rows × 2 columns</p>\n",
              "</div>"
            ],
            "text/plain": [
              "        sentiment                                            content\n",
              "0           empty  @tiffanylue i know  i was listenin to bad habi...\n",
              "1         sadness  Layin n bed with a headache  ughhhh...waitin o...\n",
              "2         sadness                Funeral ceremony...gloomy friday...\n",
              "3      enthusiasm               wants to hang out with friends SOON!\n",
              "4         neutral  @dannycastillo We want to trade with someone w...\n",
              "...           ...                                                ...\n",
              "39995     neutral                                   @JohnLloydTaylor\n",
              "39996        love                     Happy Mothers Day  All my love\n",
              "39997        love  Happy Mother's Day to all the mommies out ther...\n",
              "39998   happiness  @niariley WASSUP BEAUTIFUL!!! FOLLOW ME!!  PEE...\n",
              "39999        love  @mopedronin bullet train from tokyo    the gf ...\n",
              "\n",
              "[40000 rows x 2 columns]"
            ]
          },
          "metadata": {
            "tags": []
          },
          "execution_count": 122
        }
      ]
    },
    {
      "cell_type": "markdown",
      "metadata": {
        "id": "a6Mo3Kmi2tIm",
        "colab_type": "text"
      },
      "source": [
        "# Separate Training/Test Dataset"
      ]
    },
    {
      "cell_type": "markdown",
      "metadata": {
        "id": "UJuAIRoV3Hkq",
        "colab_type": "text"
      },
      "source": [
        "## Global variable"
      ]
    },
    {
      "cell_type": "code",
      "metadata": {
        "id": "COz5y71e3Kv1",
        "colab_type": "code",
        "colab": {}
      },
      "source": [
        "# Random seed for all random process we will use.\n",
        "RAND_SEED = 3359\n",
        "# Size of training dataset (the rest, i.e., 20%,  will be test data)\n",
        "TRAIN_SIZE = 0.8"
      ],
      "execution_count": 0,
      "outputs": []
    },
    {
      "cell_type": "markdown",
      "metadata": {
        "id": "0yuCmVji3Ov1",
        "colab_type": "text"
      },
      "source": [
        "## Seperate dataset"
      ]
    },
    {
      "cell_type": "code",
      "metadata": {
        "id": "KW6eozgY21ae",
        "colab_type": "code",
        "colab": {}
      },
      "source": [
        "all_idx = list(range(len(data_df)))\n",
        "\n",
        "# Shuffle the list of indices\n",
        "import random\n",
        "random.seed(RAND_SEED)\n",
        "random.shuffle(all_idx)\n",
        "\n",
        "# Split the random indices into two portion according \n",
        "# to the training size defined\n",
        "p = int(len(data_df) * TRAIN_SIZE)\n",
        "train_idx = all_idx[:p]\n",
        "test_idx = all_idx[p:]\n",
        "\n",
        "# Now, retrieve training/test data records from data_df \n",
        "# according to the indices we prepared in train_idx and test_idx\n",
        "train_df = data_df.iloc[train_idx]\n",
        "test_df = data_df.iloc[test_idx]\n",
        "\n",
        "# However, since the original indices from data_df will be attached to \n",
        "# the retrieved records in train_df and test_df,\n",
        "# we need to reset index so indices in train_df/test_df will start from 0 as usual\n",
        "train_df = train_df.reset_index()\n",
        "test_df = test_df.reset_index()\n",
        "\n",
        "# Drop the automatically created \"index\" column\n",
        "train_df = train_df.drop(['index'], axis=1)\n",
        "test_df = test_df.drop(['index'], axis=1)"
      ],
      "execution_count": 0,
      "outputs": []
    },
    {
      "cell_type": "code",
      "metadata": {
        "id": "dZLjBogb46si",
        "colab_type": "code",
        "colab": {
          "base_uri": "https://localhost:8080/",
          "height": 195
        },
        "outputId": "29706ca5-1f8c-4b5f-c15f-cb8e0f5f9942"
      },
      "source": [
        "train_df.head()"
      ],
      "execution_count": 125,
      "outputs": [
        {
          "output_type": "execute_result",
          "data": {
            "text/html": [
              "<div>\n",
              "<style scoped>\n",
              "    .dataframe tbody tr th:only-of-type {\n",
              "        vertical-align: middle;\n",
              "    }\n",
              "\n",
              "    .dataframe tbody tr th {\n",
              "        vertical-align: top;\n",
              "    }\n",
              "\n",
              "    .dataframe thead th {\n",
              "        text-align: right;\n",
              "    }\n",
              "</style>\n",
              "<table border=\"1\" class=\"dataframe\">\n",
              "  <thead>\n",
              "    <tr style=\"text-align: right;\">\n",
              "      <th></th>\n",
              "      <th>sentiment</th>\n",
              "      <th>content</th>\n",
              "    </tr>\n",
              "  </thead>\n",
              "  <tbody>\n",
              "    <tr>\n",
              "      <th>0</th>\n",
              "      <td>enthusiasm</td>\n",
              "      <td>@LeslieCraig haha maybe someday I will be your...</td>\n",
              "    </tr>\n",
              "    <tr>\n",
              "      <th>1</th>\n",
              "      <td>happiness</td>\n",
              "      <td>Skipping school like all the cool kids do</td>\n",
              "    </tr>\n",
              "    <tr>\n",
              "      <th>2</th>\n",
              "      <td>worry</td>\n",
              "      <td>missing cat makes me sad</td>\n",
              "    </tr>\n",
              "    <tr>\n",
              "      <th>3</th>\n",
              "      <td>neutral</td>\n",
              "      <td>@lisamh77 Concord &amp;amp; Irvine, CA only. That'...</td>\n",
              "    </tr>\n",
              "    <tr>\n",
              "      <th>4</th>\n",
              "      <td>love</td>\n",
              "      <td>@steph1985 Bye  Btw, you like Simple Plan, Hoo...</td>\n",
              "    </tr>\n",
              "  </tbody>\n",
              "</table>\n",
              "</div>"
            ],
            "text/plain": [
              "    sentiment                                            content\n",
              "0  enthusiasm  @LeslieCraig haha maybe someday I will be your...\n",
              "1   happiness          Skipping school like all the cool kids do\n",
              "2       worry                           missing cat makes me sad\n",
              "3     neutral  @lisamh77 Concord &amp; Irvine, CA only. That'...\n",
              "4        love  @steph1985 Bye  Btw, you like Simple Plan, Hoo..."
            ]
          },
          "metadata": {
            "tags": []
          },
          "execution_count": 125
        }
      ]
    },
    {
      "cell_type": "markdown",
      "metadata": {
        "id": "UdYAjQJy6gcD",
        "colab_type": "text"
      },
      "source": [
        "We want to further seperate a validation set for training"
      ]
    },
    {
      "cell_type": "code",
      "metadata": {
        "id": "DomPW93L6g7Q",
        "colab_type": "code",
        "colab": {
          "base_uri": "https://localhost:8080/",
          "height": 435
        },
        "outputId": "bf0f6a8c-a638-4bce-e1de-e8ead4dc7ba4"
      },
      "source": [
        "train_dev_size = 0.1\n",
        "m = int(len(train_df) * train_dev_size)\n",
        "\n",
        "train_set = train_df[m:]\n",
        "val_set = train_df[:m]\n",
        "\n",
        "print(\"Training Set: \", len(train_set))\n",
        "print(\"Training-Dev Set: \", len(val_set))\n",
        "\n",
        "train_set\n",
        "val_set"
      ],
      "execution_count": 130,
      "outputs": [
        {
          "output_type": "stream",
          "text": [
            "Training Set:  28800\n",
            "Training-Dev Set:  3200\n"
          ],
          "name": "stdout"
        },
        {
          "output_type": "execute_result",
          "data": {
            "text/html": [
              "<div>\n",
              "<style scoped>\n",
              "    .dataframe tbody tr th:only-of-type {\n",
              "        vertical-align: middle;\n",
              "    }\n",
              "\n",
              "    .dataframe tbody tr th {\n",
              "        vertical-align: top;\n",
              "    }\n",
              "\n",
              "    .dataframe thead th {\n",
              "        text-align: right;\n",
              "    }\n",
              "</style>\n",
              "<table border=\"1\" class=\"dataframe\">\n",
              "  <thead>\n",
              "    <tr style=\"text-align: right;\">\n",
              "      <th></th>\n",
              "      <th>sentiment</th>\n",
              "      <th>content</th>\n",
              "    </tr>\n",
              "  </thead>\n",
              "  <tbody>\n",
              "    <tr>\n",
              "      <th>0</th>\n",
              "      <td>enthusiasm</td>\n",
              "      <td>@LeslieCraig haha maybe someday I will be your...</td>\n",
              "    </tr>\n",
              "    <tr>\n",
              "      <th>1</th>\n",
              "      <td>happiness</td>\n",
              "      <td>Skipping school like all the cool kids do</td>\n",
              "    </tr>\n",
              "    <tr>\n",
              "      <th>2</th>\n",
              "      <td>worry</td>\n",
              "      <td>missing cat makes me sad</td>\n",
              "    </tr>\n",
              "    <tr>\n",
              "      <th>3</th>\n",
              "      <td>neutral</td>\n",
              "      <td>@lisamh77 Concord &amp;amp; Irvine, CA only. That'...</td>\n",
              "    </tr>\n",
              "    <tr>\n",
              "      <th>4</th>\n",
              "      <td>love</td>\n",
              "      <td>@steph1985 Bye  Btw, you like Simple Plan, Hoo...</td>\n",
              "    </tr>\n",
              "    <tr>\n",
              "      <th>...</th>\n",
              "      <td>...</td>\n",
              "      <td>...</td>\n",
              "    </tr>\n",
              "    <tr>\n",
              "      <th>3195</th>\n",
              "      <td>neutral</td>\n",
              "      <td>@buchmamsell ist im der Haus... or something l...</td>\n",
              "    </tr>\n",
              "    <tr>\n",
              "      <th>3196</th>\n",
              "      <td>relief</td>\n",
              "      <td>@TimJackson LOL I can imagine you doing that. ...</td>\n",
              "    </tr>\n",
              "    <tr>\n",
              "      <th>3197</th>\n",
              "      <td>neutral</td>\n",
              "      <td>@verwon Thanks for sharing it. Anything about ...</td>\n",
              "    </tr>\n",
              "    <tr>\n",
              "      <th>3198</th>\n",
              "      <td>sadness</td>\n",
              "      <td>went to the cd store to search for the cd. But</td>\n",
              "    </tr>\n",
              "    <tr>\n",
              "      <th>3199</th>\n",
              "      <td>fun</td>\n",
              "      <td>@kg86 aww.. thanks bro!  glad I got u active o...</td>\n",
              "    </tr>\n",
              "  </tbody>\n",
              "</table>\n",
              "<p>3200 rows × 2 columns</p>\n",
              "</div>"
            ],
            "text/plain": [
              "       sentiment                                            content\n",
              "0     enthusiasm  @LeslieCraig haha maybe someday I will be your...\n",
              "1      happiness          Skipping school like all the cool kids do\n",
              "2          worry                           missing cat makes me sad\n",
              "3        neutral  @lisamh77 Concord &amp; Irvine, CA only. That'...\n",
              "4           love  @steph1985 Bye  Btw, you like Simple Plan, Hoo...\n",
              "...          ...                                                ...\n",
              "3195     neutral  @buchmamsell ist im der Haus... or something l...\n",
              "3196      relief  @TimJackson LOL I can imagine you doing that. ...\n",
              "3197     neutral  @verwon Thanks for sharing it. Anything about ...\n",
              "3198     sadness     went to the cd store to search for the cd. But\n",
              "3199         fun  @kg86 aww.. thanks bro!  glad I got u active o...\n",
              "\n",
              "[3200 rows x 2 columns]"
            ]
          },
          "metadata": {
            "tags": []
          },
          "execution_count": 130
        }
      ]
    },
    {
      "cell_type": "markdown",
      "metadata": {
        "id": "BBgdPBdziF-B",
        "colab_type": "text"
      },
      "source": [
        "# Preprossesing the data"
      ]
    },
    {
      "cell_type": "markdown",
      "metadata": {
        "id": "8BMjuHeFiOog",
        "colab_type": "text"
      },
      "source": [
        "## Tokenization"
      ]
    },
    {
      "cell_type": "code",
      "metadata": {
        "id": "X_9xLKNFiK66",
        "colab_type": "code",
        "colab": {
          "base_uri": "https://localhost:8080/",
          "height": 336
        },
        "outputId": "9284efc5-d20d-448f-ef7a-442b98553645"
      },
      "source": [
        "input_sentences = [content.split(\" \") for content in data_df[\"content\"].values.tolist()]\n",
        "labels = data_df[\"sentiment\"].values.tolist()\n",
        "\n",
        "input_sentences[0]"
      ],
      "execution_count": 131,
      "outputs": [
        {
          "output_type": "execute_result",
          "data": {
            "text/plain": [
              "['@tiffanylue',\n",
              " 'i',\n",
              " 'know',\n",
              " '',\n",
              " 'i',\n",
              " 'was',\n",
              " 'listenin',\n",
              " 'to',\n",
              " 'bad',\n",
              " 'habit',\n",
              " 'earlier',\n",
              " 'and',\n",
              " 'i',\n",
              " 'started',\n",
              " 'freakin',\n",
              " 'at',\n",
              " 'his',\n",
              " 'part',\n",
              " '=[']"
            ]
          },
          "metadata": {
            "tags": []
          },
          "execution_count": 131
        }
      ]
    },
    {
      "cell_type": "markdown",
      "metadata": {
        "id": "IxxxTtGnd-v7",
        "colab_type": "text"
      },
      "source": [
        "Remove redundant words.   ----> i.e. name start with \"@\" (I think this is uncessary)"
      ]
    },
    {
      "cell_type": "code",
      "metadata": {
        "id": "VFW7gpnVeKXq",
        "colab_type": "code",
        "colab": {}
      },
      "source": [
        "\"\"\"\n",
        "import re\n",
        "\n",
        "prefix = '@'\n",
        "\n",
        "for sentence in input_sentences:\n",
        "  for word in sentence:\n",
        "    if word.startswith(prefix):\n",
        "        sentence.remove(word)\n",
        "\n",
        "input_sentences[0]\n",
        "\"\"\""
      ],
      "execution_count": 0,
      "outputs": []
    },
    {
      "cell_type": "markdown",
      "metadata": {
        "id": "h0ggDCX6ioMr",
        "colab_type": "text"
      },
      "source": [
        "## Creating Vocabulary (word index)"
      ]
    },
    {
      "cell_type": "code",
      "metadata": {
        "id": "9Ry3-qR7irW7",
        "colab_type": "code",
        "colab": {}
      },
      "source": [
        "# Initialize word2id and label2id dictionaries that will be used to encode words and labels\n",
        "word2id = dict()\n",
        "label2id = dict()\n",
        "\n",
        "max_words = 0 # maximum number of words in a sentence\n",
        "\n",
        "# Construction of word2id dict\n",
        "for sentence in input_sentences:\n",
        "    for word in sentence:\n",
        "        # Add words to word2id dict if not exist\n",
        "        if word not in word2id:\n",
        "            word2id[word] = len(word2id)\n",
        "    # If length of the sentence is greater than max_words, update max_words\n",
        "    if len(sentence) > max_words:\n",
        "        max_words = len(sentence)\n",
        "    \n",
        "# Construction of label2id and id2label dicts\n",
        "label2id = {l: i for i, l in enumerate(set(labels))}\n",
        "id2label = {v: k for k, v in label2id.items()}\n",
        "id2word = {v: k for k, v in word2id.items()}\n",
        "id2word"
      ],
      "execution_count": 0,
      "outputs": []
    },
    {
      "cell_type": "code",
      "metadata": {
        "id": "XpcFMiyfi7O6",
        "colab_type": "code",
        "outputId": "19e8483c-e2dc-4846-8f94-824fd7bf03a9",
        "colab": {
          "base_uri": "https://localhost:8080/",
          "height": 50
        }
      },
      "source": [
        "print(max_words)\n",
        "print(id2word[2])"
      ],
      "execution_count": 27,
      "outputs": [
        {
          "output_type": "stream",
          "text": [
            "100\n",
            "\n"
          ],
          "name": "stdout"
        }
      ]
    },
    {
      "cell_type": "markdown",
      "metadata": {
        "id": "SdfpPzYqkFAV",
        "colab_type": "text"
      },
      "source": [
        "## Encoding samples with corresponing integer values"
      ]
    },
    {
      "cell_type": "markdown",
      "metadata": {
        "id": "UZW1uCGMBX6n",
        "colab_type": "text"
      },
      "source": [
        "reference to the online material (can ignore it)"
      ]
    },
    {
      "cell_type": "code",
      "metadata": {
        "id": "mfVFsdBWj7OL",
        "colab_type": "code",
        "outputId": "e895ecf9-2c05-4abd-e79b-bc6784682eaf",
        "colab": {
          "base_uri": "https://localhost:8080/",
          "height": 67
        }
      },
      "source": [
        "\n",
        "\"\"\"\n",
        "import keras\n",
        "\n",
        "# Encode input words and labels\n",
        "X = [[word2id[word] for word in sentence] for sentence in input_sentences]\n",
        "Y = [label2id[label] for label in labels]\n",
        "\n",
        "# Apply Padding to X\n",
        "from keras.preprocessing.sequence import pad_sequences\n",
        "X = pad_sequences(X, max_words)\n",
        "\n",
        "# Convert Y to numpy array\n",
        "Y = keras.utils.to_categorical(Y, num_classes=len(label2id), dtype='float32')\n",
        "\n",
        "# Print shapes\n",
        "print(\"Shape of X: {}\".format(X.shape))\n",
        "print(\"Shape of Y: {}\".format(Y.shape))\n",
        "\"\"\""
      ],
      "execution_count": 28,
      "outputs": [
        {
          "output_type": "stream",
          "text": [
            "Using TensorFlow backend.\n"
          ],
          "name": "stderr"
        },
        {
          "output_type": "stream",
          "text": [
            "Shape of X: (40000, 100)\n",
            "Shape of Y: (40000, 13)\n"
          ],
          "name": "stdout"
        }
      ]
    },
    {
      "cell_type": "code",
      "metadata": {
        "id": "BwVb0M9lkLyJ",
        "colab_type": "code",
        "colab": {}
      },
      "source": [
        "sentence = X[0]\n",
        "print(sentence)\n",
        "\n",
        "for wordIndex in sentence:\n",
        "    print(id2word[wordIndex])"
      ],
      "execution_count": 0,
      "outputs": []
    },
    {
      "cell_type": "markdown",
      "metadata": {
        "id": "M23Nr8ddBbu_",
        "colab_type": "text"
      },
      "source": [
        "reference from google"
      ]
    },
    {
      "cell_type": "code",
      "metadata": {
        "id": "cAcayg230N9U",
        "colab_type": "code",
        "colab": {}
      },
      "source": [
        "from tensorflow.python.keras.preprocessing import sequence\n",
        "from tensorflow.python.keras.preprocessing import text\n",
        "\n",
        "# Vectorization parameters\n",
        "# Limit on the number of features. We use the top 20K features.\n",
        "TOP_K = 20000\n",
        "\n",
        "# Limit on the length of text sequences. Sequences longer than this\n",
        "# will be truncated.\n",
        "MAX_SEQUENCE_LENGTH = max_words\n",
        "\n",
        "def sequence_vectorize(train_texts, val_texts):\n",
        "    \"\"\"Vectorizes texts as sequence vectors.\n",
        "\n",
        "    1 text = 1 sequence vector with fixed length.\n",
        "\n",
        "    # Arguments\n",
        "        train_texts: list, training text strings.\n",
        "        val_texts: list, validation text strings.\n",
        "\n",
        "    # Returns\n",
        "        x_train, x_val, word_index: vectorized training and validation\n",
        "            texts and word index dictionary.\n",
        "    \"\"\"\n",
        "    # Create vocabulary with training texts.\n",
        "    tokenizer = text.Tokenizer(num_words=TOP_K)\n",
        "    tokenizer.fit_on_texts(train_texts)\n",
        "\n",
        "    # Vectorize training and validation texts.\n",
        "    x_train = tokenizer.texts_to_sequences(train_texts)\n",
        "    x_val = tokenizer.texts_to_sequences(val_texts)\n",
        "\n",
        "    # Get max sequence length.\n",
        "    max_length = len(max(x_train, key=len))\n",
        "    if max_length > MAX_SEQUENCE_LENGTH:\n",
        "        max_length = MAX_SEQUENCE_LENGTH\n",
        "\n",
        "    # Fix sequence length to max value. Sequences shorter than the length are\n",
        "    # padded in the beginning and sequences longer are truncated\n",
        "    # at the beginning.\n",
        "    x_train = sequence.pad_sequences(x_train, maxlen=max_length)\n",
        "    x_val = sequence.pad_sequences(x_val, maxlen=max_length)\n",
        "    return x_train, x_val, tokenizer.word_index"
      ],
      "execution_count": 0,
      "outputs": []
    },
    {
      "cell_type": "code",
      "metadata": {
        "id": "tjO_UdV_1Wi5",
        "colab_type": "code",
        "colab": {
          "base_uri": "https://localhost:8080/",
          "height": 67
        },
        "outputId": "392da7e2-17b3-4199-99d3-b56fc781a4f1"
      },
      "source": [
        "sequence_vectorize(train_set, val_set)"
      ],
      "execution_count": 136,
      "outputs": [
        {
          "output_type": "execute_result",
          "data": {
            "text/plain": [
              "(array([[1],\n",
              "        [2]], dtype=int32), array([[1],\n",
              "        [2]], dtype=int32), {'content': 2, 'sentiment': 1})"
            ]
          },
          "metadata": {
            "tags": []
          },
          "execution_count": 136
        }
      ]
    },
    {
      "cell_type": "markdown",
      "metadata": {
        "id": "_GGEhMigkfJ-",
        "colab_type": "text"
      },
      "source": [
        "# Build LSTM model with attention"
      ]
    },
    {
      "cell_type": "code",
      "metadata": {
        "id": "E0ExrvW5kV-B",
        "colab_type": "code",
        "outputId": "38c83aa8-0309-4e23-93ec-aa9646d5ea80",
        "colab": {
          "base_uri": "https://localhost:8080/",
          "height": 538
        }
      },
      "source": [
        "embedding_dim = 100 # The dimension of word embeddings\n",
        "\n",
        "# Define input tensor\n",
        "sequence_input = keras.Input(shape=(max_words,), dtype='int32')\n",
        "\n",
        "# Word embedding layer\n",
        "embedded_inputs =keras.layers.Embedding(len(word2id) + 1,\n",
        "                                        embedding_dim,\n",
        "                                        input_length=max_words)(sequence_input)\n",
        "\n",
        "# Apply dropout to prevent overfitting\n",
        "embedded_inputs = keras.layers.Dropout(0.2)(embedded_inputs)\n",
        "\n",
        "# Apply Bidirectional LSTM over embedded inputs\n",
        "lstm_outs = keras.layers.wrappers.Bidirectional(\n",
        "    keras.layers.LSTM(embedding_dim, return_sequences=True)\n",
        ")(embedded_inputs)\n",
        "\n",
        "# Apply dropout to LSTM outputs to prevent overfitting\n",
        "lstm_outs = keras.layers.Dropout(0.2)(lstm_outs)\n",
        "\n",
        "# Attention Mechanism - Generate attention vectors\n",
        "input_dim = int(lstm_outs.shape[2])\n",
        "permuted_inputs = keras.layers.Permute((2, 1))(lstm_outs)\n",
        "attention_vector = keras.layers.TimeDistributed(keras.layers.Dense(1))(lstm_outs)\n",
        "attention_vector = keras.layers.Reshape((max_words,))(attention_vector)\n",
        "attention_vector = keras.layers.Activation('softmax', name='attention_vec')(attention_vector)\n",
        "attention_output = keras.layers.Dot(axes=1)([lstm_outs, attention_vector])\n",
        "\n",
        "# Last layer: fully connected with softmax activation\n",
        "fc = keras.layers.Dense(embedding_dim, activation='relu')(attention_output)\n",
        "output = keras.layers.Dense(len(label2id), activation='softmax')(fc)\n",
        "\n",
        "# Finally building model\n",
        "model = keras.Model(inputs=[sequence_input], outputs=output)\n",
        "model.compile(loss=\"categorical_crossentropy\", metrics=[\"accuracy\"], optimizer='adam')\n",
        "\n",
        "# Print model summary\n",
        "model.summary()"
      ],
      "execution_count": 30,
      "outputs": [
        {
          "output_type": "stream",
          "text": [
            "Model: \"model_1\"\n",
            "__________________________________________________________________________________________________\n",
            "Layer (type)                    Output Shape         Param #     Connected to                     \n",
            "==================================================================================================\n",
            "input_1 (InputLayer)            (None, 100)          0                                            \n",
            "__________________________________________________________________________________________________\n",
            "embedding_1 (Embedding)         (None, 100, 100)     6718000     input_1[0][0]                    \n",
            "__________________________________________________________________________________________________\n",
            "dropout_1 (Dropout)             (None, 100, 100)     0           embedding_1[0][0]                \n",
            "__________________________________________________________________________________________________\n",
            "bidirectional_1 (Bidirectional) (None, 100, 200)     160800      dropout_1[0][0]                  \n",
            "__________________________________________________________________________________________________\n",
            "dropout_2 (Dropout)             (None, 100, 200)     0           bidirectional_1[0][0]            \n",
            "__________________________________________________________________________________________________\n",
            "time_distributed_1 (TimeDistrib (None, 100, 1)       201         dropout_2[0][0]                  \n",
            "__________________________________________________________________________________________________\n",
            "reshape_1 (Reshape)             (None, 100)          0           time_distributed_1[0][0]         \n",
            "__________________________________________________________________________________________________\n",
            "attention_vec (Activation)      (None, 100)          0           reshape_1[0][0]                  \n",
            "__________________________________________________________________________________________________\n",
            "dot_1 (Dot)                     (None, 200)          0           dropout_2[0][0]                  \n",
            "                                                                 attention_vec[0][0]              \n",
            "__________________________________________________________________________________________________\n",
            "dense_2 (Dense)                 (None, 100)          20100       dot_1[0][0]                      \n",
            "__________________________________________________________________________________________________\n",
            "dense_3 (Dense)                 (None, 13)           1313        dense_2[0][0]                    \n",
            "==================================================================================================\n",
            "Total params: 6,900,414\n",
            "Trainable params: 6,900,414\n",
            "Non-trainable params: 0\n",
            "__________________________________________________________________________________________________\n"
          ],
          "name": "stdout"
        }
      ]
    },
    {
      "cell_type": "markdown",
      "metadata": {
        "id": "yUfXvL2pnfHS",
        "colab_type": "text"
      },
      "source": [
        "# Train the model"
      ]
    },
    {
      "cell_type": "code",
      "metadata": {
        "id": "yjNb5YFxkkRK",
        "colab_type": "code",
        "outputId": "ff9008bb-abc2-4c72-e412-7497cc2ae4d6",
        "colab": {
          "base_uri": "https://localhost:8080/",
          "height": 171
        }
      },
      "source": [
        "# Train model 10 iterations\n",
        "model.fit(X, Y, epochs=2, batch_size=64, validation_split=0.1, shuffle=True)"
      ],
      "execution_count": 31,
      "outputs": [
        {
          "output_type": "stream",
          "text": [
            "/usr/local/lib/python3.6/dist-packages/tensorflow/python/framework/indexed_slices.py:434: UserWarning: Converting sparse IndexedSlices to a dense Tensor of unknown shape. This may consume a large amount of memory.\n",
            "  \"Converting sparse IndexedSlices to a dense Tensor of unknown shape. \"\n"
          ],
          "name": "stderr"
        },
        {
          "output_type": "stream",
          "text": [
            "Train on 36000 samples, validate on 4000 samples\n",
            "Epoch 1/2\n",
            "36000/36000 [==============================] - 281s 8ms/step - loss: 2.0628 - accuracy: 0.2816 - val_loss: 1.9840 - val_accuracy: 0.3180\n",
            "Epoch 2/2\n",
            "36000/36000 [==============================] - 284s 8ms/step - loss: 1.7900 - accuracy: 0.3918 - val_loss: 1.9505 - val_accuracy: 0.3565\n"
          ],
          "name": "stdout"
        },
        {
          "output_type": "execute_result",
          "data": {
            "text/plain": [
              "<keras.callbacks.callbacks.History at 0x7fa6ca0ae9b0>"
            ]
          },
          "metadata": {
            "tags": []
          },
          "execution_count": 31
        }
      ]
    },
    {
      "cell_type": "code",
      "metadata": {
        "id": "VArlUvPJoYvz",
        "colab_type": "code",
        "colab": {}
      },
      "source": [
        "model.save(\"lstm_attention_v1_trained.h5\")"
      ],
      "execution_count": 0,
      "outputs": []
    },
    {
      "cell_type": "markdown",
      "metadata": {
        "id": "lGgy_PKwpAS4",
        "colab_type": "text"
      },
      "source": [
        "# Testing and predicting"
      ]
    },
    {
      "cell_type": "code",
      "metadata": {
        "id": "llOQveJzoZWW",
        "colab_type": "code",
        "colab": {}
      },
      "source": [
        "# Re-create the model to get attention vectors as well as label prediction\n",
        "model_with_attentions = keras.Model(inputs=model.input,\n",
        "                                    outputs=[model.output, \n",
        "                                             model.get_layer('attention_vec').output])"
      ],
      "execution_count": 0,
      "outputs": []
    },
    {
      "cell_type": "code",
      "metadata": {
        "id": "3DxnB2dEoa59",
        "colab_type": "code",
        "outputId": "2e3f875a-bace-4fa7-ae33-b82bde450be6",
        "colab": {
          "base_uri": "https://localhost:8080/",
          "height": 258
        }
      },
      "source": [
        "import random\n",
        "import math\n",
        "\n",
        "# Select random samples to illustrate\n",
        "#sample_text = random.choice(dataset[\"content\"].values.tolist())\n",
        "sample_text = \"no offence but this model is shit\"\n",
        "\n",
        "\n",
        "# Encode samples\n",
        "tokenized_sample = sample_text.split(\" \")\n",
        "encoded_samples = [[word2id[word] for word in tokenized_sample]]\n",
        "\n",
        "# Padding\n",
        "encoded_samples = keras.preprocessing.sequence.pad_sequences(encoded_samples, maxlen=max_words)\n",
        "\n",
        "# Make predictions\n",
        "label_probs, attentions = model_with_attentions.predict(encoded_samples)\n",
        "label_probs = {id2label[_id]: prob for (label, _id), prob in zip(label2id.items(),label_probs[0])}\n",
        "\n",
        "# Get word attentions using attenion vector\n",
        "token_attention_dic = {}\n",
        "max_score = 0.0\n",
        "min_score = 0.0\n",
        "for token, attention_score in zip(tokenized_sample, attentions[0][-len(tokenized_sample):]):\n",
        "    token_attention_dic[token] = math.sqrt(attention_score)\n",
        "\n",
        "\n",
        "# VISUALIZATION\n",
        "import matplotlib.pyplot as plt; plt.rcdefaults()\n",
        "import numpy as np\n",
        "import matplotlib.pyplot as plt\n",
        "from IPython.core.display import display, HTML\n",
        "\n",
        "def rgb_to_hex(rgb):\n",
        "    return '#%02x%02x%02x' % rgb\n",
        "    \n",
        "def attention2color(attention_score):\n",
        "    r = 255 - int(attention_score * 255)\n",
        "    color = rgb_to_hex((255, r, r))\n",
        "    return str(color)\n",
        "    \n",
        "# Build HTML String to viualize attentions\n",
        "html_text = \"<hr><p style='font-size: large'><b>Text:  </b>\"\n",
        "for token, attention in token_attention_dic.items():\n",
        "    html_text += \"<span style='background-color:{};'>{} <span> \".format(attention2color(attention),\n",
        "                                                                        token)\n",
        "html_text += \"</p>\"\n",
        "# Display text enriched with attention scores \n",
        "display(HTML(html_text))\n",
        "\n",
        "# PLOT EMOTION SCORES\n",
        "emotions = [label for label, _ in label_probs.items()]\n",
        "scores = [score for _, score in label_probs.items()]\n",
        "plt.figure(figsize=(5,2))\n",
        "plt.bar(np.arange(len(emotions)), scores, align='center', alpha=0.5, color=['black', 'red', 'green', 'blue', 'cyan', \"purple\"])\n",
        "plt.xticks(np.arange(len(emotions)), emotions)\n",
        "plt.ylabel('Scores')\n",
        "plt.show()\n"
      ],
      "execution_count": 86,
      "outputs": [
        {
          "output_type": "display_data",
          "data": {
            "text/html": [
              "<hr><p style='font-size: large'><b>Text:  </b><span style='background-color:#ffb1b1;'>no <span> <span style='background-color:#ffabab;'>offence <span> <span style='background-color:#ffb3b3;'>but <span> <span style='background-color:#ffb5b5;'>this <span> <span style='background-color:#ffb3b3;'>model <span> <span style='background-color:#ffc0c0;'>is <span> <span style='background-color:#ffb9b9;'>shit <span> </p>"
            ],
            "text/plain": [
              "<IPython.core.display.HTML object>"
            ]
          },
          "metadata": {
            "tags": []
          }
        },
        {
          "output_type": "display_data",
          "data": {
            "image/png": "[encoded data removed]",
            "text/plain": [
              "<Figure size 500x200 with 1 Axes>"
            ]
          },
          "metadata": {
            "tags": []
          }
        }
      ]
    },
    {
      "cell_type": "code",
      "metadata": {
        "id": "_l928yZAof8T",
        "colab_type": "code",
        "colab": {
          "base_uri": "https://localhost:8080/",
          "height": 235
        },
        "outputId": "4abdacd8-4519-452d-a79d-07c5335796f3"
      },
      "source": [
        "import operator\n",
        "\n",
        "# create a list of emotion in decending order of their probability \n",
        "emotion_list=[]\n",
        "\n",
        "for  _, emotion in enumerate(label_probs):\n",
        "    temp = [emotion, label_probs[emotion]]\n",
        "    emotion_list.append(temp)\n",
        "\n",
        "sorted(emotion_list, key=operator.itemgetter(1), reverse= True)"
      ],
      "execution_count": 87,
      "outputs": [
        {
          "output_type": "execute_result",
          "data": {
            "text/plain": [
              "[['worry', 0.42755288],\n",
              " ['sadness', 0.2779897],\n",
              " ['neutral', 0.067248635],\n",
              " ['hate', 0.056594618],\n",
              " ['surprise', 0.03338948],\n",
              " ['relief', 0.027693443],\n",
              " ['love', 0.02713557],\n",
              " ['happiness', 0.02033464],\n",
              " ['empty', 0.016740564],\n",
              " ['fun', 0.015996587],\n",
              " ['enthusiasm', 0.01341514],\n",
              " ['boredom', 0.0096796],\n",
              " ['anger', 0.0062292395]]"
            ]
          },
          "metadata": {
            "tags": []
          },
          "execution_count": 87
        }
      ]
    },
    {
      "cell_type": "code",
      "metadata": {
        "id": "G8PA1qQznt7h",
        "colab_type": "code",
        "colab": {}
      },
      "source": [
        ""
      ],
      "execution_count": 0,
      "outputs": []
    },
    {
      "cell_type": "code",
      "metadata": {
        "id": "fTjaCpWyoNVw",
        "colab_type": "code",
        "colab": {}
      },
      "source": [
        ""
      ],
      "execution_count": 0,
      "outputs": []
    }
  ]
}