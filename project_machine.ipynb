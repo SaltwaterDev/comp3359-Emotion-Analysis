{
  "nbformat": 4,
  "nbformat_minor": 0,
  "metadata": {
    "colab": {
      "name": "Copy of project machine.ipynb",
      "provenance": [],
      "collapsed_sections": [],
      "include_colab_link": true
    },
    "kernelspec": {
      "name": "python3",
      "display_name": "Python 3"
    },
    "accelerator": "GPU"
  },
  "cells": [
    {
      "cell_type": "markdown",
      "metadata": {
        "id": "view-in-github",
        "colab_type": "text"
      },
      "source": [
        "<a href=\"https://colab.research.google.com/github/WesleyHung/comp3359-Emotion-Analysis/blob/master/project_machine.ipynb\" target=\"_parent\"><img src=\"https://colab.research.google.com/assets/colab-badge.svg\" alt=\"Open In Colab\"/></a>"
      ]
    },
    {
      "cell_type": "markdown",
      "metadata": {
        "id": "UmNJdnyhcV37",
        "colab_type": "text"
      },
      "source": [
        "# Comp3359 Project\n",
        "# Emotion Analysis AI machine"
      ]
    },
    {
      "cell_type": "markdown",
      "metadata": {
        "id": "n7135-v0chl4",
        "colab_type": "text"
      },
      "source": [
        "\n",
        "Listed some styles of our machine here...\n",
        "*   Text classification\n",
        "*   Supervised learning\n",
        "*   LSTM (Type of RNN)\n",
        "*   Attention Mechanism (encoding/ decoding)\n",
        "\n"
      ]
    },
    {
      "cell_type": "markdown",
      "metadata": {
        "id": "J8pVocC02yYc",
        "colab_type": "text"
      },
      "source": [
        "# Load the data"
      ]
    },
    {
      "cell_type": "code",
      "metadata": {
        "id": "E1HbIW0Ge4oW",
        "colab_type": "code",
        "outputId": "de93c5ed-8d9c-44c0-d132-ddf1524d7b4c",
        "colab": {
          "base_uri": "https://localhost:8080/",
          "height": 126
        }
      },
      "source": [
        "import numpy as np # linear algebra\n",
        "import pandas as pd # data processing, CSV file I/O (e.g. pd.read_csv)\n",
        "import os\n",
        "\n",
        "# Mount Google Drive\n",
        "from google.colab import drive\n",
        "drive.mount('/content/drive')\n",
        "\n",
        "# Specify directory of course materials in Google Drive\n",
        "module_dir = '/content/drive/My Drive/'\n",
        "\n",
        "# Path to data file\n",
        "#I put my dataset in my google drive, you can do so by copying from the sharing file\n",
        "data_path = os.path.join(module_dir, 'text_emotion.csv')    \n",
        "  \n",
        "#Loading the dataset into pandas DataFrame\n",
        "data_df = pd.read_csv(data_path)"
      ],
      "execution_count": 1,
      "outputs": [
        {
          "output_type": "stream",
          "text": [
            "Go to this URL in a browser: https://accounts.google.com/o/oauth2/auth?client_id=947318989803-6bn6qk8qdgf4n4g3pfee6491hc0brc4i.apps.googleusercontent.com&redirect_uri=urn%3aietf%3awg%3aoauth%3a2.0%3aoob&response_type=code&scope=email%20https%3a%2f%2fwww.googleapis.com%2fauth%2fdocs.test%20https%3a%2f%2fwww.googleapis.com%2fauth%2fdrive%20https%3a%2f%2fwww.googleapis.com%2fauth%2fdrive.photos.readonly%20https%3a%2f%2fwww.googleapis.com%2fauth%2fpeopleapi.readonly\n",
            "\n",
            "Enter your authorization code:\n",
            "··········\n",
            "Mounted at /content/drive\n"
          ],
          "name": "stdout"
        }
      ]
    },
    {
      "cell_type": "code",
      "metadata": {
        "id": "b58nK2A-gMqV",
        "colab_type": "code",
        "outputId": "2eface6f-3f37-4157-8180-1006045902ef",
        "colab": {
          "base_uri": "https://localhost:8080/",
          "height": 332
        }
      },
      "source": [
        "# Plot label histogram\n",
        "data_df.sentiment.value_counts().plot.bar()"
      ],
      "execution_count": 2,
      "outputs": [
        {
          "output_type": "execute_result",
          "data": {
            "text/plain": [
              "<matplotlib.axes._subplots.AxesSubplot at 0x7fe7f25a20b8>"
            ]
          },
          "metadata": {
            "tags": []
          },
          "execution_count": 2
        },
        {
          "output_type": "display_data",
          "data": {
            "image/png": "[encoded data removed]",
            "text/plain": [
              "<Figure size 432x288 with 1 Axes>"
            ]
          },
          "metadata": {
            "tags": [],
            "needs_background": "light"
          }
        }
      ]
    },
    {
      "cell_type": "code",
      "metadata": {
        "id": "ouF2RQ143mps",
        "colab_type": "code",
        "outputId": "f95779df-ed7b-48af-a04c-4881d48217b0",
        "colab": {
          "base_uri": "https://localhost:8080/",
          "height": 399
        }
      },
      "source": [
        "data_df"
      ],
      "execution_count": 3,
      "outputs": [
        {
          "output_type": "execute_result",
          "data": {
            "text/html": [
              "<div>\n",
              "<style scoped>\n",
              "    .dataframe tbody tr th:only-of-type {\n",
              "        vertical-align: middle;\n",
              "    }\n",
              "\n",
              "    .dataframe tbody tr th {\n",
              "        vertical-align: top;\n",
              "    }\n",
              "\n",
              "    .dataframe thead th {\n",
              "        text-align: right;\n",
              "    }\n",
              "</style>\n",
              "<table border=\"1\" class=\"dataframe\">\n",
              "  <thead>\n",
              "    <tr style=\"text-align: right;\">\n",
              "      <th></th>\n",
              "      <th>tweet_id</th>\n",
              "      <th>sentiment</th>\n",
              "      <th>author</th>\n",
              "      <th>content</th>\n",
              "    </tr>\n",
              "  </thead>\n",
              "  <tbody>\n",
              "    <tr>\n",
              "      <th>0</th>\n",
              "      <td>1956967341</td>\n",
              "      <td>empty</td>\n",
              "      <td>xoshayzers</td>\n",
              "      <td>@tiffanylue i know  i was listenin to bad habi...</td>\n",
              "    </tr>\n",
              "    <tr>\n",
              "      <th>1</th>\n",
              "      <td>1956967666</td>\n",
              "      <td>sadness</td>\n",
              "      <td>wannamama</td>\n",
              "      <td>Layin n bed with a headache  ughhhh...waitin o...</td>\n",
              "    </tr>\n",
              "    <tr>\n",
              "      <th>2</th>\n",
              "      <td>1956967696</td>\n",
              "      <td>sadness</td>\n",
              "      <td>coolfunky</td>\n",
              "      <td>Funeral ceremony...gloomy friday...</td>\n",
              "    </tr>\n",
              "    <tr>\n",
              "      <th>3</th>\n",
              "      <td>1956967789</td>\n",
              "      <td>enthusiasm</td>\n",
              "      <td>czareaquino</td>\n",
              "      <td>wants to hang out with friends SOON!</td>\n",
              "    </tr>\n",
              "    <tr>\n",
              "      <th>4</th>\n",
              "      <td>1956968416</td>\n",
              "      <td>neutral</td>\n",
              "      <td>xkilljoyx</td>\n",
              "      <td>@dannycastillo We want to trade with someone w...</td>\n",
              "    </tr>\n",
              "    <tr>\n",
              "      <th>...</th>\n",
              "      <td>...</td>\n",
              "      <td>...</td>\n",
              "      <td>...</td>\n",
              "      <td>...</td>\n",
              "    </tr>\n",
              "    <tr>\n",
              "      <th>39995</th>\n",
              "      <td>1753918954</td>\n",
              "      <td>neutral</td>\n",
              "      <td>showMe_Heaven</td>\n",
              "      <td>@JohnLloydTaylor</td>\n",
              "    </tr>\n",
              "    <tr>\n",
              "      <th>39996</th>\n",
              "      <td>1753919001</td>\n",
              "      <td>love</td>\n",
              "      <td>drapeaux</td>\n",
              "      <td>Happy Mothers Day  All my love</td>\n",
              "    </tr>\n",
              "    <tr>\n",
              "      <th>39997</th>\n",
              "      <td>1753919005</td>\n",
              "      <td>love</td>\n",
              "      <td>JenniRox</td>\n",
              "      <td>Happy Mother's Day to all the mommies out ther...</td>\n",
              "    </tr>\n",
              "    <tr>\n",
              "      <th>39998</th>\n",
              "      <td>1753919043</td>\n",
              "      <td>happiness</td>\n",
              "      <td>ipdaman1</td>\n",
              "      <td>@niariley WASSUP BEAUTIFUL!!! FOLLOW ME!!  PEE...</td>\n",
              "    </tr>\n",
              "    <tr>\n",
              "      <th>39999</th>\n",
              "      <td>1753919049</td>\n",
              "      <td>love</td>\n",
              "      <td>Alpharalpha</td>\n",
              "      <td>@mopedronin bullet train from tokyo    the gf ...</td>\n",
              "    </tr>\n",
              "  </tbody>\n",
              "</table>\n",
              "<p>40000 rows × 4 columns</p>\n",
              "</div>"
            ],
            "text/plain": [
              "         tweet_id  ...                                            content\n",
              "0      1956967341  ...  @tiffanylue i know  i was listenin to bad habi...\n",
              "1      1956967666  ...  Layin n bed with a headache  ughhhh...waitin o...\n",
              "2      1956967696  ...                Funeral ceremony...gloomy friday...\n",
              "3      1956967789  ...               wants to hang out with friends SOON!\n",
              "4      1956968416  ...  @dannycastillo We want to trade with someone w...\n",
              "...           ...  ...                                                ...\n",
              "39995  1753918954  ...                                   @JohnLloydTaylor\n",
              "39996  1753919001  ...                     Happy Mothers Day  All my love\n",
              "39997  1753919005  ...  Happy Mother's Day to all the mommies out ther...\n",
              "39998  1753919043  ...  @niariley WASSUP BEAUTIFUL!!! FOLLOW ME!!  PEE...\n",
              "39999  1753919049  ...  @mopedronin bullet train from tokyo    the gf ...\n",
              "\n",
              "[40000 rows x 4 columns]"
            ]
          },
          "metadata": {
            "tags": []
          },
          "execution_count": 3
        }
      ]
    },
    {
      "cell_type": "markdown",
      "metadata": {
        "id": "A2DdEQbM_Tfm",
        "colab_type": "text"
      },
      "source": [
        "Taking the only useful features"
      ]
    },
    {
      "cell_type": "code",
      "metadata": {
        "id": "xnkObufj_OSr",
        "colab_type": "code",
        "outputId": "6180b212-c751-4aae-ad97-655580521216",
        "colab": {
          "base_uri": "https://localhost:8080/",
          "height": 399
        }
      },
      "source": [
        "data_df = data_df[['sentiment', 'content']]\n",
        "data_df"
      ],
      "execution_count": 4,
      "outputs": [
        {
          "output_type": "execute_result",
          "data": {
            "text/html": [
              "<div>\n",
              "<style scoped>\n",
              "    .dataframe tbody tr th:only-of-type {\n",
              "        vertical-align: middle;\n",
              "    }\n",
              "\n",
              "    .dataframe tbody tr th {\n",
              "        vertical-align: top;\n",
              "    }\n",
              "\n",
              "    .dataframe thead th {\n",
              "        text-align: right;\n",
              "    }\n",
              "</style>\n",
              "<table border=\"1\" class=\"dataframe\">\n",
              "  <thead>\n",
              "    <tr style=\"text-align: right;\">\n",
              "      <th></th>\n",
              "      <th>sentiment</th>\n",
              "      <th>content</th>\n",
              "    </tr>\n",
              "  </thead>\n",
              "  <tbody>\n",
              "    <tr>\n",
              "      <th>0</th>\n",
              "      <td>empty</td>\n",
              "      <td>@tiffanylue i know  i was listenin to bad habi...</td>\n",
              "    </tr>\n",
              "    <tr>\n",
              "      <th>1</th>\n",
              "      <td>sadness</td>\n",
              "      <td>Layin n bed with a headache  ughhhh...waitin o...</td>\n",
              "    </tr>\n",
              "    <tr>\n",
              "      <th>2</th>\n",
              "      <td>sadness</td>\n",
              "      <td>Funeral ceremony...gloomy friday...</td>\n",
              "    </tr>\n",
              "    <tr>\n",
              "      <th>3</th>\n",
              "      <td>enthusiasm</td>\n",
              "      <td>wants to hang out with friends SOON!</td>\n",
              "    </tr>\n",
              "    <tr>\n",
              "      <th>4</th>\n",
              "      <td>neutral</td>\n",
              "      <td>@dannycastillo We want to trade with someone w...</td>\n",
              "    </tr>\n",
              "    <tr>\n",
              "      <th>...</th>\n",
              "      <td>...</td>\n",
              "      <td>...</td>\n",
              "    </tr>\n",
              "    <tr>\n",
              "      <th>39995</th>\n",
              "      <td>neutral</td>\n",
              "      <td>@JohnLloydTaylor</td>\n",
              "    </tr>\n",
              "    <tr>\n",
              "      <th>39996</th>\n",
              "      <td>love</td>\n",
              "      <td>Happy Mothers Day  All my love</td>\n",
              "    </tr>\n",
              "    <tr>\n",
              "      <th>39997</th>\n",
              "      <td>love</td>\n",
              "      <td>Happy Mother's Day to all the mommies out ther...</td>\n",
              "    </tr>\n",
              "    <tr>\n",
              "      <th>39998</th>\n",
              "      <td>happiness</td>\n",
              "      <td>@niariley WASSUP BEAUTIFUL!!! FOLLOW ME!!  PEE...</td>\n",
              "    </tr>\n",
              "    <tr>\n",
              "      <th>39999</th>\n",
              "      <td>love</td>\n",
              "      <td>@mopedronin bullet train from tokyo    the gf ...</td>\n",
              "    </tr>\n",
              "  </tbody>\n",
              "</table>\n",
              "<p>40000 rows × 2 columns</p>\n",
              "</div>"
            ],
            "text/plain": [
              "        sentiment                                            content\n",
              "0           empty  @tiffanylue i know  i was listenin to bad habi...\n",
              "1         sadness  Layin n bed with a headache  ughhhh...waitin o...\n",
              "2         sadness                Funeral ceremony...gloomy friday...\n",
              "3      enthusiasm               wants to hang out with friends SOON!\n",
              "4         neutral  @dannycastillo We want to trade with someone w...\n",
              "...           ...                                                ...\n",
              "39995     neutral                                   @JohnLloydTaylor\n",
              "39996        love                     Happy Mothers Day  All my love\n",
              "39997        love  Happy Mother's Day to all the mommies out ther...\n",
              "39998   happiness  @niariley WASSUP BEAUTIFUL!!! FOLLOW ME!!  PEE...\n",
              "39999        love  @mopedronin bullet train from tokyo    the gf ...\n",
              "\n",
              "[40000 rows x 2 columns]"
            ]
          },
          "metadata": {
            "tags": []
          },
          "execution_count": 4
        }
      ]
    },
    {
      "cell_type": "markdown",
      "metadata": {
        "id": "a6Mo3Kmi2tIm",
        "colab_type": "text"
      },
      "source": [
        "# Separate Training/Test Dataset"
      ]
    },
    {
      "cell_type": "markdown",
      "metadata": {
        "id": "UJuAIRoV3Hkq",
        "colab_type": "text"
      },
      "source": [
        "## Global variable"
      ]
    },
    {
      "cell_type": "code",
      "metadata": {
        "id": "COz5y71e3Kv1",
        "colab_type": "code",
        "colab": {}
      },
      "source": [
        "# Random seed for all random process we will use.\n",
        "RAND_SEED = 3359\n",
        "# Size of training dataset (the rest, i.e., 20%,  will be test data)\n",
        "TRAIN_SIZE = 0.8"
      ],
      "execution_count": 0,
      "outputs": []
    },
    {
      "cell_type": "markdown",
      "metadata": {
        "id": "0yuCmVji3Ov1",
        "colab_type": "text"
      },
      "source": [
        "## Seperate dataset"
      ]
    },
    {
      "cell_type": "code",
      "metadata": {
        "id": "KW6eozgY21ae",
        "colab_type": "code",
        "outputId": "d68ebc87-6595-451a-c250-46216a893e82",
        "colab": {
          "base_uri": "https://localhost:8080/",
          "height": 194
        }
      },
      "source": [
        "all_idx = list(range(len(data_df)))\n",
        "\n",
        "# Shuffle the list of indices\n",
        "import random\n",
        "random.seed(RAND_SEED)\n",
        "random.shuffle(all_idx)\n",
        "\n",
        "# Split the random indices into two portion according \n",
        "# to the training size defined\n",
        "p = int(len(data_df) * TRAIN_SIZE)\n",
        "train_idx = all_idx[:p]\n",
        "test_idx = all_idx[p:]\n",
        "\n",
        "# Now, retrieve training/test data records from data_df \n",
        "# according to the indices we prepared in train_idx and test_idx\n",
        "train_df = data_df.iloc[train_idx]\n",
        "test_df = data_df.iloc[test_idx]\n",
        "\n",
        "# However, since the original indices from data_df will be attached to \n",
        "# the retrieved records in train_df and test_df,\n",
        "# we need to reset index so indices in train_df/test_df will start from 0 as usual\n",
        "train_df = train_df.reset_index()\n",
        "test_df = test_df.reset_index()\n",
        "\n",
        "# Drop the automatically created \"index\" column\n",
        "train_df = train_df.drop(['index'], axis=1)\n",
        "test_df = test_df.drop(['index'], axis=1)\n",
        "\n",
        "train_df.head()"
      ],
      "execution_count": 107,
      "outputs": [
        {
          "output_type": "execute_result",
          "data": {
            "text/html": [
              "<div>\n",
              "<style scoped>\n",
              "    .dataframe tbody tr th:only-of-type {\n",
              "        vertical-align: middle;\n",
              "    }\n",
              "\n",
              "    .dataframe tbody tr th {\n",
              "        vertical-align: top;\n",
              "    }\n",
              "\n",
              "    .dataframe thead th {\n",
              "        text-align: right;\n",
              "    }\n",
              "</style>\n",
              "<table border=\"1\" class=\"dataframe\">\n",
              "  <thead>\n",
              "    <tr style=\"text-align: right;\">\n",
              "      <th></th>\n",
              "      <th>sentiment</th>\n",
              "      <th>content</th>\n",
              "    </tr>\n",
              "  </thead>\n",
              "  <tbody>\n",
              "    <tr>\n",
              "      <th>0</th>\n",
              "      <td>enthusiasm</td>\n",
              "      <td>@LeslieCraig haha maybe someday I will be your...</td>\n",
              "    </tr>\n",
              "    <tr>\n",
              "      <th>1</th>\n",
              "      <td>happiness</td>\n",
              "      <td>Skipping school like all the cool kids do</td>\n",
              "    </tr>\n",
              "    <tr>\n",
              "      <th>2</th>\n",
              "      <td>worry</td>\n",
              "      <td>missing cat makes me sad</td>\n",
              "    </tr>\n",
              "    <tr>\n",
              "      <th>3</th>\n",
              "      <td>neutral</td>\n",
              "      <td>@lisamh77 Concord &amp;amp; Irvine, CA only. That'...</td>\n",
              "    </tr>\n",
              "    <tr>\n",
              "      <th>4</th>\n",
              "      <td>love</td>\n",
              "      <td>@steph1985 Bye  Btw, you like Simple Plan, Hoo...</td>\n",
              "    </tr>\n",
              "  </tbody>\n",
              "</table>\n",
              "</div>"
            ],
            "text/plain": [
              "    sentiment                                            content\n",
              "0  enthusiasm  @LeslieCraig haha maybe someday I will be your...\n",
              "1   happiness          Skipping school like all the cool kids do\n",
              "2       worry                           missing cat makes me sad\n",
              "3     neutral  @lisamh77 Concord &amp; Irvine, CA only. That'...\n",
              "4        love  @steph1985 Bye  Btw, you like Simple Plan, Hoo..."
            ]
          },
          "metadata": {
            "tags": []
          },
          "execution_count": 107
        }
      ]
    },
    {
      "cell_type": "markdown",
      "metadata": {
        "id": "BBgdPBdziF-B",
        "colab_type": "text"
      },
      "source": [
        "# Preprossesing the data"
      ]
    },
    {
      "cell_type": "markdown",
      "metadata": {
        "id": "zlG7bU1XRB7Y",
        "colab_type": "text"
      },
      "source": [
        "## Stopword Removal using NLTK"
      ]
    },
    {
      "cell_type": "code",
      "metadata": {
        "id": "GuqM-2m3RHU1",
        "colab_type": "code",
        "colab": {
          "base_uri": "https://localhost:8080/",
          "height": 88
        },
        "outputId": "11d451ec-9d20-42b7-f151-4c504c9abdd9"
      },
      "source": [
        "# The following code is to remove stop words from sentence using nltk\n",
        "# Created by - ANALYTICS VIDHYA\n",
        "\n",
        "# importing libraries\n",
        "import nltk\n",
        "from nltk.corpus import stopwords\n",
        "from nltk.tokenize import word_tokenize\n",
        "nltk.download('stopwords')\n",
        "\n",
        "# set of stop words\n",
        "stop_words = set(stopwords.words('english')) \n",
        "\n",
        "# tokens of words\n",
        "nltk.download('punkt')  \n",
        "\n",
        "for i in range(len(train_df)):\n",
        "\n",
        "  train_word_tokens = word_tokenize(train_df['content'][i])\n",
        "  train_filtered_sentence = []\n",
        "  \n",
        "  for w in train_word_tokens: \n",
        "    if w not in stop_words: \n",
        "      train_filtered_sentence.append(w)\n",
        "  train_df['content'][i] = \" \".join(train_filtered_sentence)\n",
        "\n",
        "\n",
        "for i in range(len(test_df)):\n",
        "\n",
        "  test_word_tokens = word_tokenize(test_df['content'][i])\n",
        "  test_filtered_sentence = []\n",
        "  \n",
        "  for w in test_word_tokens: \n",
        "    if w not in stop_words:\n",
        "      test_filtered_sentence.append(w) \n",
        "  test_df['content'][i] = \" \".join(test_filtered_sentence)\n"
      ],
      "execution_count": 108,
      "outputs": [
        {
          "output_type": "stream",
          "text": [
            "[nltk_data] Downloading package stopwords to /root/nltk_data...\n",
            "[nltk_data]   Package stopwords is already up-to-date!\n",
            "[nltk_data] Downloading package punkt to /root/nltk_data...\n",
            "[nltk_data]   Package punkt is already up-to-date!\n"
          ],
          "name": "stdout"
        }
      ]
    },
    {
      "cell_type": "markdown",
      "metadata": {
        "id": "KwoMTu-lUvia",
        "colab_type": "text"
      },
      "source": [
        "## Tokenize 'content' using NLTK Treebank Word Tokenizer"
      ]
    },
    {
      "cell_type": "code",
      "metadata": {
        "id": "T7A_5TNMS7a2",
        "colab_type": "code",
        "colab": {}
      },
      "source": [
        "from nltk.tokenize import TreebankWordTokenizer\n",
        "tokenizer = TreebankWordTokenizer()\n",
        "\n",
        "for i in range(len(train_df)):\n",
        "\n",
        "  train_word_tokens = tokenizer.tokenize(train_df.content[i])\n",
        "  train_df['content'][i] = train_word_tokens\n",
        "  \n",
        "for i in range(len(test_df)):\n",
        "\n",
        "  test_word_tokens = tokenizer.tokenize(test_df.content[i])\n",
        "  test_df['content'][i] = test_word_tokens\n"
      ],
      "execution_count": 0,
      "outputs": []
    },
    {
      "cell_type": "code",
      "metadata": {
        "id": "pxDsB9rrWl_K",
        "colab_type": "code",
        "colab": {
          "base_uri": "https://localhost:8080/",
          "height": 230
        },
        "outputId": "8251fb64-68a6-42e0-f0c3-67ca3f803e36"
      },
      "source": [
        "test_df.content"
      ],
      "execution_count": 110,
      "outputs": [
        {
          "output_type": "execute_result",
          "data": {
            "text/plain": [
              "0       [@, nomaez, hey, man, ,, thanks, twitting, twi...\n",
              "1       [add, myspace, ?, ?, www.myspace.com/pwnage_or...\n",
              "2       [Almost, made, reading, comedy, outlet, ., Hea...\n",
              "3               [@, Mira_Brody, What, BF, ?, Is, glue, ?]\n",
              "4       [It, appears, I, 'm, going, home, tomorrow, .....\n",
              "                              ...                        \n",
              "7995    [@, Kalediscope, Girl, *cries*, I, 'm, allergi...\n",
              "7996    [@, AchtungMusic, haha, ., I, know, ., Why, ea...\n",
              "7997    [wow, ,, 5, pm, rolled, around, really, fast, ...\n",
              "7998    [@, jennettemccurdy, WILL, DO, !, !, (, ?, ?, ...\n",
              "7999    [Microsoft, Announced, Windows, 7, Release, Ca...\n",
              "Name: content, Length: 8000, dtype: object"
            ]
          },
          "metadata": {
            "tags": []
          },
          "execution_count": 110
        }
      ]
    },
    {
      "cell_type": "markdown",
      "metadata": {
        "id": "1O57C_J6kCON",
        "colab_type": "text"
      },
      "source": [
        "## Applying byte pair encoding to word segmentation on 'content'"
      ]
    },
    {
      "cell_type": "code",
      "metadata": {
        "id": "2ZVm0fcImS98",
        "colab_type": "code",
        "colab": {
          "base_uri": "https://localhost:8080/",
          "height": 239
        },
        "outputId": "ffbd025a-3105-4f48-ea32-c59eb13ac20d"
      },
      "source": [
        "# we use the folowwing module for word segmentation\n",
        "#!pip install subword-nmt\n",
        "\n",
        "#extract the 'content' data as we only need the content to be segmented\n",
        "train_df_content = train_df['content']\n",
        "test_df_content = test_df['content']\n",
        "\n",
        "f_train = open(\"train_content.txt\", \"a\")\n",
        "f_test = open(\"test_content.txt\", \"a\")\n",
        "\n",
        "for content in train_df_content:\n",
        "  f_train.write(content + '\\n')\n",
        "\n",
        "for content in test_df_content:\n",
        "  f_test.write(content + '\\n')\n",
        "\n",
        "f_train.close()\n",
        "f_test.close()"
      ],
      "execution_count": 112,
      "outputs": [
        {
          "output_type": "error",
          "ename": "TypeError",
          "evalue": "ignored",
          "traceback": [
            "\u001b[0;31m---------------------------------------------------------------------------\u001b[0m",
            "\u001b[0;31mTypeError\u001b[0m                                 Traceback (most recent call last)",
            "\u001b[0;32m<ipython-input-112-9c95e2715446>\u001b[0m in \u001b[0;36m<module>\u001b[0;34m()\u001b[0m\n\u001b[1;32m      6\u001b[0m \u001b[0;34m\u001b[0m\u001b[0m\n\u001b[1;32m      7\u001b[0m \u001b[0;32mfor\u001b[0m \u001b[0mcontent\u001b[0m \u001b[0;32min\u001b[0m \u001b[0mtrain_df_content\u001b[0m\u001b[0;34m:\u001b[0m\u001b[0;34m\u001b[0m\u001b[0;34m\u001b[0m\u001b[0m\n\u001b[0;32m----> 8\u001b[0;31m   \u001b[0mf_train\u001b[0m\u001b[0;34m.\u001b[0m\u001b[0mwrite\u001b[0m\u001b[0;34m(\u001b[0m\u001b[0mcontent\u001b[0m \u001b[0;34m+\u001b[0m \u001b[0;34m'\\n'\u001b[0m\u001b[0;34m)\u001b[0m\u001b[0;34m\u001b[0m\u001b[0;34m\u001b[0m\u001b[0m\n\u001b[0m\u001b[1;32m      9\u001b[0m \u001b[0;34m\u001b[0m\u001b[0m\n\u001b[1;32m     10\u001b[0m \u001b[0;32mfor\u001b[0m \u001b[0mcontent\u001b[0m \u001b[0;32min\u001b[0m \u001b[0mtest_df_content\u001b[0m\u001b[0;34m:\u001b[0m\u001b[0;34m\u001b[0m\u001b[0;34m\u001b[0m\u001b[0m\n",
            "\u001b[0;31mTypeError\u001b[0m: can only concatenate list (not \"str\") to list"
          ]
        }
      ]
    },
    {
      "cell_type": "code",
      "metadata": {
        "id": "tMbWtdnel7cv",
        "colab_type": "code",
        "colab": {}
      },
      "source": [
        "# parameteres for the following command \n",
        "num_operations=20000\n",
        "\n",
        "codes_file = '/content/new_bpe.{num_operations}'\n",
        "train_df_content = '/content/train_content.txt'\n",
        "test_df_content = '/content/test_content.txt'\n",
        "\n",
        "bpe_train_df_content = '/content/bpe_train_content.txt'\n",
        "bpe_test_df_content = '/content/bpe_test_content.txt'"
      ],
      "execution_count": 0,
      "outputs": []
    },
    {
      "cell_type": "code",
      "metadata": {
        "id": "rpieIoDoW6_V",
        "colab_type": "code",
        "colab": {}
      },
      "source": [
        "# learn sub-word from train and test data content\n",
        "!subword-nmt learn-bpe -s {num_operations} < {train_df_content} > {codes_file}\n",
        "!subword-nmt learn-bpe -s {num_operations} < {test_df_content} > {codes_file}"
      ],
      "execution_count": 0,
      "outputs": []
    },
    {
      "cell_type": "code",
      "metadata": {
        "id": "6OlsgwixW8EY",
        "colab_type": "code",
        "colab": {}
      },
      "source": [
        "#start BPE word segmentation\n",
        "!subword-nmt apply-bpe -c {codes_file} < {train_df_content} > {bpe_train_df_content}\n",
        "!subword-nmt apply-bpe -c {codes_file} < {test_df_content} > {bpe_test_df_content}"
      ],
      "execution_count": 0,
      "outputs": []
    },
    {
      "cell_type": "code",
      "metadata": {
        "id": "sR8PqRTN202c",
        "colab_type": "code",
        "colab": {}
      },
      "source": [
        "f_train = open(\"bpe_train_df_content.txt\", \"a\")\n",
        "f_train.write('bpe_content\\n')  # make a name for the data\n",
        "\n",
        "f_train_content = open(\"bpe_train_content.txt\", \"r\")\n",
        "for content in f_train_content:\n",
        "  f_train.write(content)\n",
        "f_train_content.close()\n",
        "f_train.close()\n",
        "\n",
        "\n",
        "\n",
        "f_test = open(\"bpe_test_df_content.txt\", \"a\")\n",
        "f_test.write('bpe_content\\n')   # make a name for the data\n",
        "\n",
        "f_test_content = open(\"bpe_test_content.txt\", \"r\")\n",
        "\n",
        "for content in f_test_content:\n",
        "  f_test.write(content)\n",
        "f_test_content.close()\n",
        "f_test.close()\n"
      ],
      "execution_count": 0,
      "outputs": []
    },
    {
      "cell_type": "code",
      "metadata": {
        "id": "zVgQ-iJL4j1k",
        "colab_type": "code",
        "colab": {
          "base_uri": "https://localhost:8080/",
          "height": 88
        },
        "outputId": "614cb4cb-2238-4393-a6a1-dbfa427f389e"
      },
      "source": [
        "# convert .txt format back to .csv format\n",
        "bpe_train_content_df = pd.read_fwf('bpe_train_df_content.txt')\n",
        "bpe_train_content_df = bpe_train_content_df[['bpe_content']]\n",
        "\n",
        "bpe_test_content_df = pd.read_fwf('bpe_test_df_content.txt')\n",
        "bpe_test_content_df = bpe_test_content_df[['bpe_content']]\\\n",
        "\n",
        "#merge them back to dataframe format\n",
        "train_df['bpe_content'] = bpe_train_content_df\n",
        "test_df['bpe_content'] = bpe_test_content_df\n",
        "\n",
        "#convert them to string type\n",
        "train_df.bpe_content = train_df.bpe_content.astype(str)\n",
        "test_df.bpe_content = test_df.bpe_content.astype(str)\n",
        "\n",
        "train_df.dtypes"
      ],
      "execution_count": 94,
      "outputs": [
        {
          "output_type": "execute_result",
          "data": {
            "text/plain": [
              "sentiment      object\n",
              "content        object\n",
              "bpe_content    object\n",
              "dtype: object"
            ]
          },
          "metadata": {
            "tags": []
          },
          "execution_count": 94
        }
      ]
    },
    {
      "cell_type": "code",
      "metadata": {
        "id": "S75CA3gDoSRG",
        "colab_type": "code",
        "colab": {
          "base_uri": "https://localhost:8080/",
          "height": 399
        },
        "outputId": "a47924ba-c1b4-4c99-d944-0def913b1395"
      },
      "source": [
        "train_df"
      ],
      "execution_count": 86,
      "outputs": [
        {
          "output_type": "execute_result",
          "data": {
            "text/html": [
              "<div>\n",
              "<style scoped>\n",
              "    .dataframe tbody tr th:only-of-type {\n",
              "        vertical-align: middle;\n",
              "    }\n",
              "\n",
              "    .dataframe tbody tr th {\n",
              "        vertical-align: top;\n",
              "    }\n",
              "\n",
              "    .dataframe thead th {\n",
              "        text-align: right;\n",
              "    }\n",
              "</style>\n",
              "<table border=\"1\" class=\"dataframe\">\n",
              "  <thead>\n",
              "    <tr style=\"text-align: right;\">\n",
              "      <th></th>\n",
              "      <th>sentiment</th>\n",
              "      <th>content</th>\n",
              "      <th>bpe_content</th>\n",
              "    </tr>\n",
              "  </thead>\n",
              "  <tbody>\n",
              "    <tr>\n",
              "      <th>0</th>\n",
              "      <td>enthusiasm</td>\n",
              "      <td>@ LeslieCraig haha maybe someday I publicist !...</td>\n",
              "      <td>@ Les@@ lie@@ Craig haha maybe someday I publ@...</td>\n",
              "    </tr>\n",
              "    <tr>\n",
              "      <th>1</th>\n",
              "      <td>happiness</td>\n",
              "      <td>Skipping school like cool kids</td>\n",
              "      <td>S@@ ki@@ pping school like cool kids</td>\n",
              "    </tr>\n",
              "    <tr>\n",
              "      <th>2</th>\n",
              "      <td>worry</td>\n",
              "      <td>missing cat makes sad</td>\n",
              "      <td>missing cat makes sad</td>\n",
              "    </tr>\n",
              "    <tr>\n",
              "      <th>3</th>\n",
              "      <td>neutral</td>\n",
              "      <td>@ lisamh77 Concord &amp; amp ; Irvine , CA . That ...</td>\n",
              "      <td>@ l@@ is@@ am@@ h@@ 77 Con@@ cord &amp; amp ; Ir@@...</td>\n",
              "    </tr>\n",
              "    <tr>\n",
              "      <th>4</th>\n",
              "      <td>love</td>\n",
              "      <td>@ steph1985 Bye Btw , like Simple Plan , Hooba...</td>\n",
              "      <td>@ steph@@ 198@@ 5 Bye Btw , like Simple Plan ,...</td>\n",
              "    </tr>\n",
              "    <tr>\n",
              "      <th>...</th>\n",
              "      <td>...</td>\n",
              "      <td>...</td>\n",
              "      <td>...</td>\n",
              "    </tr>\n",
              "    <tr>\n",
              "      <th>31995</th>\n",
              "      <td>love</td>\n",
              "      <td>@ manoyjoe : thanks . happy mother 's day mom ...</td>\n",
              "      <td>@ man@@ oy@@ joe : thanks . happy mother 's da...</td>\n",
              "    </tr>\n",
              "    <tr>\n",
              "      <th>31996</th>\n",
              "      <td>empty</td>\n",
              "      <td>I jus dropped dog im tall .</td>\n",
              "      <td>I jus dropped dog im tall .</td>\n",
              "    </tr>\n",
              "    <tr>\n",
              "      <th>31997</th>\n",
              "      <td>love</td>\n",
              "      <td>@ gio511 We twitter reunion would awesome meet...</td>\n",
              "      <td>@ gi@@ o@@ 5@@ 11 We twitter reunion would awe...</td>\n",
              "    </tr>\n",
              "    <tr>\n",
              "      <th>31998</th>\n",
              "      <td>worry</td>\n",
              "      <td>@ positron76 You come Chile ... AC/DC would fine</td>\n",
              "      <td>@ posit@@ ron@@ 76 You come Ch@@ ile ... AC@@ ...</td>\n",
              "    </tr>\n",
              "    <tr>\n",
              "      <th>31999</th>\n",
              "      <td>fun</td>\n",
              "      <td>@ Rick_Tarrant nice ! It 's mommas day</td>\n",
              "      <td>@ R@@ ick@@ _T@@ arr@@ ant nice ! It 's mommas...</td>\n",
              "    </tr>\n",
              "  </tbody>\n",
              "</table>\n",
              "<p>32000 rows × 3 columns</p>\n",
              "</div>"
            ],
            "text/plain": [
              "        sentiment  ...                                        bpe_content\n",
              "0      enthusiasm  ...  @ Les@@ lie@@ Craig haha maybe someday I publ@...\n",
              "1       happiness  ...               S@@ ki@@ pping school like cool kids\n",
              "2           worry  ...                              missing cat makes sad\n",
              "3         neutral  ...  @ l@@ is@@ am@@ h@@ 77 Con@@ cord & amp ; Ir@@...\n",
              "4            love  ...  @ steph@@ 198@@ 5 Bye Btw , like Simple Plan ,...\n",
              "...           ...  ...                                                ...\n",
              "31995        love  ...  @ man@@ oy@@ joe : thanks . happy mother 's da...\n",
              "31996       empty  ...                        I jus dropped dog im tall .\n",
              "31997        love  ...  @ gi@@ o@@ 5@@ 11 We twitter reunion would awe...\n",
              "31998       worry  ...  @ posit@@ ron@@ 76 You come Ch@@ ile ... AC@@ ...\n",
              "31999         fun  ...  @ R@@ ick@@ _T@@ arr@@ ant nice ! It 's mommas...\n",
              "\n",
              "[32000 rows x 3 columns]"
            ]
          },
          "metadata": {
            "tags": []
          },
          "execution_count": 86
        }
      ]
    },
    {
      "cell_type": "markdown",
      "metadata": {
        "id": "8BMjuHeFiOog",
        "colab_type": "text"
      },
      "source": [
        "## Label the emotions as target"
      ]
    },
    {
      "cell_type": "code",
      "metadata": {
        "id": "X_9xLKNFiK66",
        "colab_type": "code",
        "colab": {}
      },
      "source": [
        "labels = train_df[\"sentiment\"].values.tolist()\n",
        "val_labels = test_df[\"sentiment\"].values.tolist()"
      ],
      "execution_count": 0,
      "outputs": []
    },
    {
      "cell_type": "markdown",
      "metadata": {
        "id": "h0ggDCX6ioMr",
        "colab_type": "text"
      },
      "source": [
        "## Creating list of emotions"
      ]
    },
    {
      "cell_type": "code",
      "metadata": {
        "id": "ICTXypj8GHS3",
        "colab_type": "code",
        "outputId": "614af14c-0466-4acb-ea59-1a0f3e1182bb",
        "colab": {
          "base_uri": "https://localhost:8080/",
          "height": 72
        }
      },
      "source": [
        "label2id = dict()\n",
        "label2id = {l: i for i, l in enumerate(set(labels))}\n",
        "print(label2id)\n",
        "id2label = {v: k for k, v in label2id.items()}\n",
        "print(id2label)"
      ],
      "execution_count": 37,
      "outputs": [
        {
          "output_type": "stream",
          "text": [
            "{'boredom': 0, 'worry': 1, 'happiness': 2, 'anger': 3, 'surprise': 4, 'neutral': 5, 'sadness': 6, 'hate': 7, 'fun': 8, 'enthusiasm': 9, 'love': 10, 'relief': 11, 'empty': 12}\n",
            "{0: 'boredom', 1: 'worry', 2: 'happiness', 3: 'anger', 4: 'surprise', 5: 'neutral', 6: 'sadness', 7: 'hate', 8: 'fun', 9: 'enthusiasm', 10: 'love', 11: 'relief', 12: 'empty'}\n"
          ],
          "name": "stdout"
        }
      ]
    },
    {
      "cell_type": "markdown",
      "metadata": {
        "id": "IoWDUFfS5DvW",
        "colab_type": "text"
      },
      "source": [
        "## Encoding the training dataset and validation dataset"
      ]
    },
    {
      "cell_type": "code",
      "metadata": {
        "id": "G1_15xLVafIn",
        "colab_type": "code",
        "colab": {
          "base_uri": "https://localhost:8080/",
          "height": 35
        },
        "outputId": "f12d904b-fc36-4551-fb36-a5b30251c216"
      },
      "source": [
        "max_words = 0 # maximum number of words in a sentence\n",
        "\n",
        "word2id = dict()\n",
        "\n",
        "# Construction of word2id dict\n",
        "for content in train_df.content:\n",
        "    for word in content:\n",
        "        # Add words to word2id dict if not exist\n",
        "        if word not in word2id:\n",
        "            word2id[word] = len(word2id)\n",
        "    # If length of the sentence is greater than max_words, update max_words\n",
        "    if len(content) > max_words:\n",
        "        max_words = len(content)\n",
        "\n",
        "for content in test_df.content:\n",
        "    for word in content:\n",
        "        # Add words to word2id dict if not exist\n",
        "        if word not in word2id:\n",
        "            word2id[word] = len(word2id)\n",
        "    # If length of the sentence is greater than max_words, update max_words\n",
        "    if len(content) > max_words:\n",
        "        max_words = len(content)\n",
        "\n",
        "max_words"
      ],
      "execution_count": 122,
      "outputs": [
        {
          "output_type": "execute_result",
          "data": {
            "text/plain": [
              "105"
            ]
          },
          "metadata": {
            "tags": []
          },
          "execution_count": 122
        }
      ]
    },
    {
      "cell_type": "markdown",
      "metadata": {
        "id": "SdfpPzYqkFAV",
        "colab_type": "text"
      },
      "source": [
        "## Encoding train(content) and labels(sentiment) to corresponing integer values"
      ]
    },
    {
      "cell_type": "code",
      "metadata": {
        "id": "mfVFsdBWj7OL",
        "colab_type": "code",
        "outputId": "655f9f86-41e9-4955-e413-63a27d242de3",
        "colab": {
          "base_uri": "https://localhost:8080/",
          "height": 141
        }
      },
      "source": [
        "#reference to the online material\n",
        "import keras\n",
        "\n",
        "# Encode input words and labels\n",
        "train = [[word2id[word] for word in sentence] for sentence in train_df.content]\n",
        "val = [[word2id[word] for word in sentence] for sentence in test_df.content]\n",
        "Y = [label2id[label] for label in labels]\n",
        "val_Y = [label2id[label] for label in val_labels]\n",
        "\n",
        "# Apply Padding to X\n",
        "from keras.preprocessing.sequence import pad_sequences\n",
        "train = pad_sequences(train, max_words)\n",
        "val = pad_sequences(test, max_words)\n",
        "\n",
        "# Convert Y to numpy array\n",
        "Y = keras.utils.to_categorical(Y, num_classes=len(label2id), dtype='float32')\n",
        "val_Y = keras.utils.to_categorical(val_Y, num_classes=len(label2id), dtype='float32')\n",
        "\n",
        "# Print shapes\n",
        "print(\"Shape of train: {}\".format(train.shape))\n",
        "print(\"Shape of Y: {}\".format(Y.shape))\n",
        "print(\"-------------\")\n",
        "print(\"Shape of val: {}\".format(val.shape))\n",
        "print(\"Shape of val_Y: {}\".format(val_Y.shape))\n",
        "print(\"-------------\")\n",
        "print(len(word2id))"
      ],
      "execution_count": 128,
      "outputs": [
        {
          "output_type": "stream",
          "text": [
            "Shape of train: (32000, 105)\n",
            "Shape of Y: (32000, 13)\n",
            "-------------\n",
            "Shape of val: (8000, 105)\n",
            "Shape of val_Y: (8000, 13)\n",
            "-------------\n",
            "60924\n"
          ],
          "name": "stdout"
        }
      ]
    },
    {
      "cell_type": "code",
      "metadata": {
        "id": "cAcayg230N9U",
        "colab_type": "code",
        "colab": {}
      },
      "source": [
        "from tensorflow.python.keras.preprocessing import sequence\n",
        "from tensorflow.python.keras.preprocessing import text\n",
        "\n",
        "# Vectorization parameters\n",
        "# Limit on the number of features. We use the top 20K features.\n",
        "TOP_K = 20000\n",
        "\n",
        "# Limit on the length of text sequences. Sequences longer than this\n",
        "# will be truncated.\n",
        "MAX_SEQUENCE_LENGTH = 500\n",
        "\n",
        "def sequence_vectorize(train_texts, val_texts):\n",
        "    \"\"\"Vectorizes texts as sequence vectors.\n",
        "\n",
        "    1 text = 1 sequence vector with fixed length.\n",
        "\n",
        "    # Arguments\n",
        "        train_texts: list, training text strings.\n",
        "        val_texts: list, validation text strings.\n",
        "\n",
        "    # Returns\n",
        "        x_train, x_val, word_index: vectorized training and validation\n",
        "            texts and word index dictionary.\n",
        "    \"\"\"\n",
        "\n",
        "    # Create vocabulary with training texts.\n",
        "    tokenizer = text.Tokenizer(num_words=TOP_K)\n",
        "    tokenizer.fit_on_texts(train_texts)\n",
        "\n",
        "    # Vectorize training and validation texts.\n",
        "    x_train = tokenizer.texts_to_sequences(train_texts)\n",
        "    x_val = tokenizer.texts_to_sequences(val_texts)\n",
        "\n",
        "    print(x_train[1])\n",
        "\n",
        "    # Get max sequence length.\n",
        "    max_length = len(max(x_train, key=len))\n",
        "    \n",
        "    if max_length > MAX_SEQUENCE_LENGTH:\n",
        "      max_length = MAX_SEQUENCE_LENGTH\n",
        "    \n",
        "    # Fix sequence length to max value. Sequences shorter than the length are\n",
        "    # padded in the beginning and sequences longer are truncated\n",
        "    # at the beginning.\n",
        "    x_train = sequence.pad_sequences(x_train, maxlen=max_length)\n",
        "    x_val = sequence.pad_sequences(x_val, maxlen=max_length)\n",
        "    return x_train, x_val, tokenizer.word_index, max_length"
      ],
      "execution_count": 0,
      "outputs": []
    },
    {
      "cell_type": "code",
      "metadata": {
        "id": "tjO_UdV_1Wi5",
        "colab_type": "code",
        "outputId": "5a4bfc46-f7e9-4039-8a0d-f74c01329888",
        "colab": {
          "base_uri": "https://localhost:8080/",
          "height": 364
        }
      },
      "source": [
        "#tokenize the train dataset and test dataset \n",
        "train, val, word_index, max_words = sequence_vectorize(train_df['content'], test_df['content'])\n",
        "\n",
        "print(train[1])\n",
        "print(train_df.content[1])\n",
        "max_words"
      ],
      "execution_count": 120,
      "outputs": [
        {
          "output_type": "error",
          "ename": "AttributeError",
          "evalue": "ignored",
          "traceback": [
            "\u001b[0;31m---------------------------------------------------------------------------\u001b[0m",
            "\u001b[0;31mAttributeError\u001b[0m                            Traceback (most recent call last)",
            "\u001b[0;32m<ipython-input-120-10804f8deff6>\u001b[0m in \u001b[0;36m<module>\u001b[0;34m()\u001b[0m\n\u001b[0;32m----> 1\u001b[0;31m \u001b[0mtrain\u001b[0m\u001b[0;34m,\u001b[0m \u001b[0mval\u001b[0m\u001b[0;34m,\u001b[0m \u001b[0mword_index\u001b[0m\u001b[0;34m,\u001b[0m \u001b[0mmax_words\u001b[0m \u001b[0;34m=\u001b[0m \u001b[0msequence_vectorize\u001b[0m\u001b[0;34m(\u001b[0m\u001b[0mtrain_df\u001b[0m\u001b[0;34m[\u001b[0m\u001b[0;34m'content'\u001b[0m\u001b[0;34m]\u001b[0m\u001b[0;34m,\u001b[0m \u001b[0mtest_df\u001b[0m\u001b[0;34m[\u001b[0m\u001b[0;34m'content'\u001b[0m\u001b[0;34m]\u001b[0m\u001b[0;34m)\u001b[0m\u001b[0;34m\u001b[0m\u001b[0;34m\u001b[0m\u001b[0m\n\u001b[0m\u001b[1;32m      2\u001b[0m \u001b[0;34m\u001b[0m\u001b[0m\n\u001b[1;32m      3\u001b[0m \u001b[0mprint\u001b[0m\u001b[0;34m(\u001b[0m\u001b[0mtrain\u001b[0m\u001b[0;34m[\u001b[0m\u001b[0;36m1\u001b[0m\u001b[0;34m]\u001b[0m\u001b[0;34m)\u001b[0m\u001b[0;34m\u001b[0m\u001b[0;34m\u001b[0m\u001b[0m\n\u001b[1;32m      4\u001b[0m \u001b[0mprint\u001b[0m\u001b[0;34m(\u001b[0m\u001b[0mtrain_df\u001b[0m\u001b[0;34m.\u001b[0m\u001b[0mcontent\u001b[0m\u001b[0;34m[\u001b[0m\u001b[0;36m1\u001b[0m\u001b[0;34m]\u001b[0m\u001b[0;34m)\u001b[0m\u001b[0;34m\u001b[0m\u001b[0;34m\u001b[0m\u001b[0m\n\u001b[1;32m      5\u001b[0m \u001b[0mmax_words\u001b[0m\u001b[0;34m\u001b[0m\u001b[0;34m\u001b[0m\u001b[0m\n",
            "\u001b[0;32m<ipython-input-119-e1256e5dd55b>\u001b[0m in \u001b[0;36msequence_vectorize\u001b[0;34m(train_texts, val_texts)\u001b[0m\n\u001b[1;32m     26\u001b[0m \u001b[0;34m\u001b[0m\u001b[0m\n\u001b[1;32m     27\u001b[0m     \u001b[0;31m# Vectorize training and validation texts.\u001b[0m\u001b[0;34m\u001b[0m\u001b[0;34m\u001b[0m\u001b[0;34m\u001b[0m\u001b[0m\n\u001b[0;32m---> 28\u001b[0;31m     \u001b[0mx_train\u001b[0m \u001b[0;34m=\u001b[0m \u001b[0mtokenizer\u001b[0m\u001b[0;34m.\u001b[0m\u001b[0mtexts_to_sequences\u001b[0m\u001b[0;34m(\u001b[0m\u001b[0mtrain_texts\u001b[0m\u001b[0;34m)\u001b[0m\u001b[0;34m\u001b[0m\u001b[0;34m\u001b[0m\u001b[0m\n\u001b[0m\u001b[1;32m     29\u001b[0m     \u001b[0mx_val\u001b[0m \u001b[0;34m=\u001b[0m \u001b[0mtokenizer\u001b[0m\u001b[0;34m.\u001b[0m\u001b[0mtexts_to_sequences\u001b[0m\u001b[0;34m(\u001b[0m\u001b[0mval_texts\u001b[0m\u001b[0;34m)\u001b[0m\u001b[0;34m\u001b[0m\u001b[0;34m\u001b[0m\u001b[0m\n\u001b[1;32m     30\u001b[0m \u001b[0;34m\u001b[0m\u001b[0m\n",
            "\u001b[0;31mAttributeError\u001b[0m: 'TreebankWordTokenizer' object has no attribute 'texts_to_sequences'"
          ]
        }
      ]
    },
    {
      "cell_type": "markdown",
      "metadata": {
        "id": "_GGEhMigkfJ-",
        "colab_type": "text"
      },
      "source": [
        "# Build LSTM model with attention"
      ]
    },
    {
      "cell_type": "code",
      "metadata": {
        "id": "E0ExrvW5kV-B",
        "colab_type": "code",
        "outputId": "d566ff2b-df3c-4c47-ea82-e670b7016646",
        "colab": {
          "base_uri": "https://localhost:8080/",
          "height": 568
        }
      },
      "source": [
        "embedding_dim = 100 # The dimension of word embeddings\n",
        "\n",
        "# Define input tensor\n",
        "sequence_input = keras.Input(shape=(max_words,), dtype='int32')\n",
        "\n",
        "# Word embedding layer\n",
        "embedded_inputs =keras.layers.Embedding(len(train) + 1,\n",
        "                                        embedding_dim,\n",
        "                                        input_length=max_words)(sequence_input)\n",
        "\n",
        "# Apply dropout to prevent overfitting\n",
        "embedded_inputs = keras.layers.Dropout(0.2)(embedded_inputs)\n",
        "\n",
        "# Apply Bidirectional LSTM over embedded inputs\n",
        "lstm_outs = keras.layers.wrappers.Bidirectional(\n",
        "    keras.layers.LSTM(embedding_dim, return_sequences=True)\n",
        ")(embedded_inputs)\n",
        "\n",
        "# Apply dropout to LSTM outputs to prevent overfitting\n",
        "lstm_outs = keras.layers.Dropout(0.2)(lstm_outs)\n",
        "\n",
        "\n",
        "# Attention Mechanism - Generate attention vectors\n",
        "input_dim = int(lstm_outs.shape[2])\n",
        "permuted_inputs = keras.layers.Permute((2, 1))(lstm_outs)\n",
        "attention_vector = keras.layers.TimeDistributed(keras.layers.Dense(1))(lstm_outs)\n",
        "attention_vector = keras.layers.Reshape((max_words,))(attention_vector)\n",
        "attention_vector = keras.layers.Activation('softmax', name='attention_vec')(attention_vector)\n",
        "attention_output = keras.layers.Dot(axes=1)([lstm_outs, attention_vector])\n",
        "\n",
        "# Last layer: fully connected with softmax activation\n",
        "fc = keras.layers.Dense(embedding_dim, activation='relu')(attention_output)\n",
        "output = keras.layers.Dense(len(label2id), activation='softmax')(fc)\n",
        "\n",
        "# Finally building model\n",
        "model = keras.Model(inputs=[sequence_input], outputs=output)\n",
        "model.compile(loss=\"categorical_crossentropy\", metrics=[\"accuracy\"], optimizer='adam')\n",
        "\n",
        "# Print model summary\n",
        "model.summary()"
      ],
      "execution_count": 126,
      "outputs": [
        {
          "output_type": "stream",
          "text": [
            "Model: \"model_6\"\n",
            "__________________________________________________________________________________________________\n",
            "Layer (type)                    Output Shape         Param #     Connected to                     \n",
            "==================================================================================================\n",
            "input_5 (InputLayer)            (None, 105)          0                                            \n",
            "__________________________________________________________________________________________________\n",
            "embedding_5 (Embedding)         (None, 105, 100)     3200100     input_5[0][0]                    \n",
            "__________________________________________________________________________________________________\n",
            "dropout_9 (Dropout)             (None, 105, 100)     0           embedding_5[0][0]                \n",
            "__________________________________________________________________________________________________\n",
            "bidirectional_5 (Bidirectional) (None, 105, 200)     160800      dropout_9[0][0]                  \n",
            "__________________________________________________________________________________________________\n",
            "dropout_10 (Dropout)            (None, 105, 200)     0           bidirectional_5[0][0]            \n",
            "__________________________________________________________________________________________________\n",
            "time_distributed_5 (TimeDistrib (None, 105, 1)       201         dropout_10[0][0]                 \n",
            "__________________________________________________________________________________________________\n",
            "reshape_5 (Reshape)             (None, 105)          0           time_distributed_5[0][0]         \n",
            "__________________________________________________________________________________________________\n",
            "attention_vec (Activation)      (None, 105)          0           reshape_5[0][0]                  \n",
            "__________________________________________________________________________________________________\n",
            "dot_5 (Dot)                     (None, 200)          0           dropout_10[0][0]                 \n",
            "                                                                 attention_vec[0][0]              \n",
            "__________________________________________________________________________________________________\n",
            "dense_14 (Dense)                (None, 100)          20100       dot_5[0][0]                      \n",
            "__________________________________________________________________________________________________\n",
            "dense_15 (Dense)                (None, 13)           1313        dense_14[0][0]                   \n",
            "==================================================================================================\n",
            "Total params: 3,382,514\n",
            "Trainable params: 3,382,514\n",
            "Non-trainable params: 0\n",
            "__________________________________________________________________________________________________\n"
          ],
          "name": "stdout"
        }
      ]
    },
    {
      "cell_type": "markdown",
      "metadata": {
        "id": "yUfXvL2pnfHS",
        "colab_type": "text"
      },
      "source": [
        "# Train the model"
      ]
    },
    {
      "cell_type": "code",
      "metadata": {
        "id": "yjNb5YFxkkRK",
        "colab_type": "code",
        "outputId": "ca150646-56bc-400a-86d1-319748f93d9e",
        "colab": {
          "base_uri": "https://localhost:8080/",
          "height": 408
        }
      },
      "source": [
        "# Train model 10 iterations\n",
        "history = model.fit(train, Y, epochs=10, batch_size=128, validation_split=0.1, shuffle=True)"
      ],
      "execution_count": 130,
      "outputs": [
        {
          "output_type": "stream",
          "text": [
            "Train on 28800 samples, validate on 3200 samples\n",
            "Epoch 1/10\n",
            "28800/28800 [==============================] - 119s 4ms/step - loss: 1.4609 - accuracy: 0.5063 - val_loss: 2.1226 - val_accuracy: 0.3328\n",
            "Epoch 2/10\n",
            "28800/28800 [==============================] - 118s 4ms/step - loss: 1.2071 - accuracy: 0.6075 - val_loss: 2.3419 - val_accuracy: 0.3025\n",
            "Epoch 3/10\n",
            "28800/28800 [==============================] - 120s 4ms/step - loss: 0.9867 - accuracy: 0.6860 - val_loss: 2.4835 - val_accuracy: 0.2872\n",
            "Epoch 4/10\n",
            "28800/28800 [==============================] - 120s 4ms/step - loss: 0.8102 - accuracy: 0.7450 - val_loss: 2.7325 - val_accuracy: 0.2962\n",
            "Epoch 5/10\n",
            "28800/28800 [==============================] - 119s 4ms/step - loss: 0.6855 - accuracy: 0.7838 - val_loss: 2.9836 - val_accuracy: 0.2741\n",
            "Epoch 6/10\n",
            "28800/28800 [==============================] - 119s 4ms/step - loss: 0.5998 - accuracy: 0.8100 - val_loss: 3.0892 - val_accuracy: 0.2731\n",
            "Epoch 7/10\n",
            "28800/28800 [==============================] - 119s 4ms/step - loss: 0.5304 - accuracy: 0.8319 - val_loss: 3.2870 - val_accuracy: 0.2703\n",
            "Epoch 8/10\n",
            "28800/28800 [==============================] - 119s 4ms/step - loss: 0.4800 - accuracy: 0.8480 - val_loss: 3.4792 - val_accuracy: 0.2703\n",
            "Epoch 9/10\n",
            "28800/28800 [==============================] - 120s 4ms/step - loss: 0.4368 - accuracy: 0.8599 - val_loss: 3.9918 - val_accuracy: 0.2669\n",
            "Epoch 10/10\n",
            "28800/28800 [==============================] - 119s 4ms/step - loss: 0.4015 - accuracy: 0.8734 - val_loss: 3.9560 - val_accuracy: 0.2597\n"
          ],
          "name": "stdout"
        },
        {
          "output_type": "execute_result",
          "data": {
            "text/plain": [
              "<keras.callbacks.callbacks.History at 0x7fe707ea3470>"
            ]
          },
          "metadata": {
            "tags": []
          },
          "execution_count": 130
        }
      ]
    },
    {
      "cell_type": "code",
      "metadata": {
        "id": "VArlUvPJoYvz",
        "colab_type": "code",
        "colab": {}
      },
      "source": [
        "import torch\n",
        "from torchvision import datasets, models, transforms\n",
        "\n",
        "model_save_name = \"lstm_attention_v2_trained.h5\" \n",
        "path = F\"/content/drive/My Drive/Colab Notebooks/{model_save_name}\" \n",
        "#torch.save(model.state_dict(), path)\n",
        "model.save(path)"
      ],
      "execution_count": 0,
      "outputs": []
    },
    {
      "cell_type": "markdown",
      "metadata": {
        "id": "wu_BMhnI8S0F",
        "colab_type": "text"
      },
      "source": [
        "If you want to use the existing model, I've already store it in our shared file. "
      ]
    },
    {
      "cell_type": "code",
      "metadata": {
        "id": "UdTqk5uo8ewb",
        "colab_type": "code",
        "outputId": "cfaf3051-9598-4e6f-c10b-f24dd4abc4d2",
        "colab": {
          "base_uri": "https://localhost:8080/",
          "height": 55
        }
      },
      "source": [
        "\"\"\"\n",
        "!pip install gdown==3.6.0\n",
        "\n",
        "v1_id = \"1M1VxKSiCgecAkogInyEwc4Phx3b9PzbF\"\n",
        "v2_id = \"1-AbA0OevJmKWaknYsmGRSfYzwsM7IlU2\"\n",
        "\n",
        "#!gdown https://drive.google.com/uc?id={v1_id}  #v1_model\n",
        "#!gdown https://drive.google.com/uc?id={v2_id}  #v2_model\n",
        "\"\"\""
      ],
      "execution_count": 0,
      "outputs": [
        {
          "output_type": "execute_result",
          "data": {
            "text/plain": [
              "'\\n!pip install gdown==3.6.0\\n\\nv1_id = \"1M1VxKSiCgecAkogInyEwc4Phx3b9PzbF\"\\nv2_id = \"1-AbA0OevJmKWaknYsmGRSfYzwsM7IlU2\"\\n\\n#!gdown https://drive.google.com/uc?id={v1_id}  #v1_model\\n#!gdown https://drive.google.com/uc?id={v2_id}  #v2_model\\n'"
            ]
          },
          "metadata": {
            "tags": []
          },
          "execution_count": 124
        }
      ]
    },
    {
      "cell_type": "code",
      "metadata": {
        "id": "fifFMdTeTnm5",
        "colab_type": "code",
        "outputId": "3a349e67-5e01-484b-ca51-d978a584a772",
        "colab": {
          "base_uri": "https://localhost:8080/",
          "height": 87
        }
      },
      "source": [
        "\"\"\"\n",
        "import keras\n",
        "model_from_drive = keras.models.load_model('lstm_attention_v1_trained.h5')\n",
        "\"\"\""
      ],
      "execution_count": 0,
      "outputs": [
        {
          "output_type": "stream",
          "text": [
            "Using TensorFlow backend.\n",
            "/usr/local/lib/python3.6/dist-packages/tensorflow/python/framework/indexed_slices.py:434: UserWarning: Converting sparse IndexedSlices to a dense Tensor of unknown shape. This may consume a large amount of memory.\n",
            "  \"Converting sparse IndexedSlices to a dense Tensor of unknown shape. \"\n"
          ],
          "name": "stderr"
        }
      ]
    },
    {
      "cell_type": "markdown",
      "metadata": {
        "id": "lGgy_PKwpAS4",
        "colab_type": "text"
      },
      "source": [
        "# Testing and predicting"
      ]
    },
    {
      "cell_type": "markdown",
      "metadata": {
        "id": "q040otVlL3NW",
        "colab_type": "text"
      },
      "source": [
        "## Test"
      ]
    },
    {
      "cell_type": "code",
      "metadata": {
        "id": "tdqvpVkpL_XK",
        "colab_type": "code",
        "outputId": "5ff8df8f-35a0-41e1-a622-6d2369b32eea",
        "colab": {
          "base_uri": "https://localhost:8080/",
          "height": 35
        }
      },
      "source": [
        "\n",
        "# Create a new model instance\n",
        "#If you using the loaded model, uncomment this line:\n",
        "#model = model_from_drive\n",
        "\n",
        "\n",
        "# Re-evaluate the model\n",
        "loss, acc = model.evaluate(val, val_Y, verbose=2)\n",
        "print(\"Restored model, accuracy: {:5.2f}%\".format(100*acc))\n"
      ],
      "execution_count": 131,
      "outputs": [
        {
          "output_type": "stream",
          "text": [
            "Restored model, accuracy: 26.27%\n"
          ],
          "name": "stdout"
        }
      ]
    },
    {
      "cell_type": "markdown",
      "metadata": {
        "id": "dMcgDbNUL5lF",
        "colab_type": "text"
      },
      "source": [
        "## Predict"
      ]
    },
    {
      "cell_type": "code",
      "metadata": {
        "id": "llOQveJzoZWW",
        "colab_type": "code",
        "outputId": "9dac72d1-8d65-4407-debf-f3c501c3e285",
        "colab": {
          "base_uri": "https://localhost:8080/",
          "height": 55
        }
      },
      "source": [
        "# Re-create the model to get attention vectors as well as label prediction\n",
        "model_with_attentions = keras.Model(inputs=model.input,\n",
        "                                    outputs=[model.output, \n",
        "                                             model.get_layer('attention_vec').output])\n",
        "\n",
        "\"\"\"\n",
        "# If you just use the downloaded model wothout trained yourself, please use here:\n",
        "model_with_attentions = keras.Model(inputs=model_from_drive.input,\n",
        "                                    outputs=[model_from_drive.output, \n",
        "                                             model_from_drive.get_layer('attention_vec').output])\n",
        "\"\"\""
      ],
      "execution_count": 51,
      "outputs": [
        {
          "output_type": "execute_result",
          "data": {
            "text/plain": [
              "\"\\n# If you just use the downloaded model wothout trained yourself, please use here:\\nmodel_with_attentions = keras.Model(inputs=model_from_drive.input,\\n                                    outputs=[model_from_drive.output, \\n                                             model_from_drive.get_layer('attention_vec').output])\\n\""
            ]
          },
          "metadata": {
            "tags": []
          },
          "execution_count": 51
        }
      ]
    },
    {
      "cell_type": "code",
      "metadata": {
        "id": "3DxnB2dEoa59",
        "colab_type": "code",
        "outputId": "1ef074a4-d592-4f3a-bd59-03de2224fa5a",
        "colab": {
          "base_uri": "https://localhost:8080/",
          "height": 259
        }
      },
      "source": [
        "import random\n",
        "import math\n",
        "\n",
        "# Select random samples to illustrate\n",
        "sample_text = \"what are you doing\"\n",
        "sample_text = sample_text.lower()\n",
        "#sample_text = random.choice(val)\n",
        "\n",
        "\n",
        "# Encode samples\n",
        "tokenized_sample = sample_text.split(\" \")\n",
        "encoded_samples = [[word_index[word] for word in tokenized_sample]]\n",
        "\n",
        "# Padding\n",
        "encoded_samples = keras.preprocessing.sequence.pad_sequences(encoded_samples, maxlen=max_words)\n",
        "\n",
        "#encoded_samples = sample_text\n",
        "#print(encoded_samples.shape)\n",
        "# Make predictions\n",
        "label_probs, attentions = model_with_attentions.predict(encoded_samples)\n",
        "label_probs = {id2label[_id]: prob for (label, _id), prob in zip(label2id.items(),label_probs[0])}\n",
        "\n",
        "# Get word attentions using attenion vector\n",
        "token_attention_dic = {}\n",
        "max_score = 0.0\n",
        "min_score = 0.0\n",
        "for token, attention_score in zip(tokenized_sample, attentions[0][-len(tokenized_sample):]):\n",
        "    token_attention_dic[token] = math.sqrt(attention_score)\n",
        "\n",
        "\n",
        "# VISUALIZATION\n",
        "import matplotlib.pyplot as plt; plt.rcdefaults()\n",
        "import numpy as np\n",
        "import matplotlib.pyplot as plt\n",
        "from IPython.core.display import display, HTML\n",
        "\n",
        "def rgb_to_hex(rgb):\n",
        "    return '#%02x%02x%02x' % rgb\n",
        "    \n",
        "def attention2color(attention_score):\n",
        "    r = 255 - int(attention_score * 255)\n",
        "    color = rgb_to_hex((255, r, r))\n",
        "    return str(color)\n",
        "    \n",
        "# Build HTML String to viualize attentions\n",
        "html_text = \"<hr><p style='font-size: large'><b>Text:  </b>\"\n",
        "for token, attention in token_attention_dic.items():\n",
        "    html_text += \"<span style='background-color:{};'>{} <span> \".format(attention2color(attention),\n",
        "                                                                        token)\n",
        "html_text += \"</p>\"\n",
        "# Display text enriched with attention scores \n",
        "display(HTML(html_text))\n",
        "\n",
        "# PLOT EMOTION SCORES\n",
        "emotions = [label for label, _ in label_probs.items()]\n",
        "scores = [score for _, score in label_probs.items()]\n",
        "plt.figure(figsize=(5,2))\n",
        "plt.bar(np.arange(len(emotions)), scores, align='center', alpha=0.5, color=['black', 'red', 'green', 'blue', 'cyan', \"purple\"])\n",
        "plt.xticks(np.arange(len(emotions)), emotions)\n",
        "plt.ylabel('Scores')\n",
        "plt.show()\n"
      ],
      "execution_count": 54,
      "outputs": [
        {
          "output_type": "display_data",
          "data": {
            "text/html": [
              "<hr><p style='font-size: large'><b>Text:  </b><span style='background-color:#ff7474;'>what <span> <span style='background-color:#ffb5b5;'>are <span> <span style='background-color:#ffb6b6;'>you <span> <span style='background-color:#ffc7c7;'>doing <span> </p>"
            ],
            "text/plain": [
              "<IPython.core.display.HTML object>"
            ]
          },
          "metadata": {
            "tags": []
          }
        },
        {
          "output_type": "display_data",
          "data": {
            "image/png": "[encoded data removed]",
            "text/plain": [
              "<Figure size 500x200 with 1 Axes>"
            ]
          },
          "metadata": {
            "tags": []
          }
        }
      ]
    },
    {
      "cell_type": "markdown",
      "metadata": {
        "id": "jn_KAqDW-ee3",
        "colab_type": "text"
      },
      "source": [
        "In case the above chart is hard to see, here is the list of proboabilities showing the likeliness of emotions."
      ]
    },
    {
      "cell_type": "code",
      "metadata": {
        "id": "_l928yZAof8T",
        "colab_type": "code",
        "outputId": "78e2a773-24ec-439a-b490-e00ae6f42693",
        "colab": {
          "base_uri": "https://localhost:8080/",
          "height": 248
        }
      },
      "source": [
        "import operator\n",
        "\n",
        "# create a list of emotion in decending order of their probability \n",
        "emotion_list=[]\n",
        "\n",
        "for  _, emotion in enumerate(label_probs):\n",
        "    temp = [emotion, label_probs[emotion]]\n",
        "    emotion_list.append(temp)\n",
        "\n",
        "sorted(emotion_list, key=operator.itemgetter(1), reverse= True)"
      ],
      "execution_count": 55,
      "outputs": [
        {
          "output_type": "execute_result",
          "data": {
            "text/plain": [
              "[['worry', 0.35792974],\n",
              " ['neutral', 0.260627],\n",
              " ['sadness', 0.226002],\n",
              " ['surprise', 0.09963546],\n",
              " ['hate', 0.024357434],\n",
              " ['empty', 0.013586671],\n",
              " ['love', 0.011085417],\n",
              " ['relief', 0.0026744956],\n",
              " ['boredom', 0.0013502156],\n",
              " ['enthusiasm', 0.0011065771],\n",
              " ['anger', 0.0008735581],\n",
              " ['happiness', 0.00047115175],\n",
              " ['fun', 0.0003002882]]"
            ]
          },
          "metadata": {
            "tags": []
          },
          "execution_count": 55
        }
      ]
    },
    {
      "cell_type": "markdown",
      "metadata": {
        "id": "Qx5FMi7FG6Pd",
        "colab_type": "text"
      },
      "source": [
        "# Serveral gusses of improving the model "
      ]
    },
    {
      "cell_type": "markdown",
      "metadata": {
        "id": "GV5q1KtrHA3f",
        "colab_type": "text"
      },
      "source": [
        "*   half the data with labels of many dataset\n",
        "*   cut out the label with too few dataset\n",
        "*   using sub-wording tokenization\n",
        "*   hyperparameter tuning\n",
        "*   NOT CONVERGE\n",
        "*   model achtecture re-design\n",
        "*   remove stop words (e.g. there, is, a, ...)\n",
        "\n"
      ]
    },
    {
      "cell_type": "code",
      "metadata": {
        "id": "2j7gWWfSPIQG",
        "colab_type": "code",
        "colab": {}
      },
      "source": [
        ""
      ],
      "execution_count": 0,
      "outputs": []
    }
  ]
}