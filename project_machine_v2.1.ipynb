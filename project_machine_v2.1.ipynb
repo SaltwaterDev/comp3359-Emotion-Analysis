{
  "nbformat": 4,
  "nbformat_minor": 0,
  "metadata": {
    "colab": {
      "name": "Copy of project machine.ipynb",
      "provenance": [],
      "collapsed_sections": [],
      "include_colab_link": true
    },
    "kernelspec": {
      "name": "python3",
      "display_name": "Python 3"
    },
    "accelerator": "GPU"
  },
  "cells": [
    {
      "cell_type": "markdown",
      "metadata": {
        "id": "view-in-github",
        "colab_type": "text"
      },
      "source": [
        "<a href=\"https://colab.research.google.com/github/WesleyHung/comp3359-Emotion-Analysis/blob/master/project_machine_v2.1.ipynb\" target=\"_parent\"><img src=\"https://colab.research.google.com/assets/colab-badge.svg\" alt=\"Open In Colab\"/></a>"
      ]
    },
    {
      "cell_type": "markdown",
      "metadata": {
        "id": "UmNJdnyhcV37",
        "colab_type": "text"
      },
      "source": [
        "# Comp3359 Project\n",
        "# Emotion Analysis AI machine"
      ]
    },
    {
      "cell_type": "markdown",
      "metadata": {
        "id": "n7135-v0chl4",
        "colab_type": "text"
      },
      "source": [
        "\n",
        "Listed some styles of our machine here...\n",
        "*   Text classification\n",
        "*   Supervised learning\n",
        "*   LSTM (Type of RNN)\n",
        "*   Attention Mechanism (encoding/ decoding)\n",
        "\n"
      ]
    },
    {
      "cell_type": "markdown",
      "metadata": {
        "id": "J8pVocC02yYc",
        "colab_type": "text"
      },
      "source": [
        "# Load the data"
      ]
    },
    {
      "cell_type": "code",
      "metadata": {
        "id": "E1HbIW0Ge4oW",
        "colab_type": "code",
        "outputId": "c67b0d47-83c4-49db-a9e0-44becad24765",
        "colab": {
          "base_uri": "https://localhost:8080/",
          "height": 35
        }
      },
      "source": [
        "import numpy as np # linear algebra\n",
        "import pandas as pd # data processing, CSV file I/O (e.g. pd.read_csv)\n",
        "import os\n",
        "\n",
        "# Mount Google Drive\n",
        "from google.colab import drive\n",
        "drive.mount('/content/drive')\n",
        "\n",
        "# Specify directory of course materials in Google Drive\n",
        "module_dir = '/content/drive/My Drive/'\n",
        "\n",
        "# Path to data file\n",
        "#I put my dataset in my google drive, you can do so by copying from the sharing file\n",
        "data_path = os.path.join(module_dir, 'text_emotion.csv')\n",
        "  \n",
        "#Loading the dataset into pandas DataFrame\n",
        "data_df = pd.read_csv(data_path)"
      ],
      "execution_count": 162,
      "outputs": [
        {
          "output_type": "stream",
          "text": [
            "Drive already mounted at /content/drive; to attempt to forcibly remount, call drive.mount(\"/content/drive\", force_remount=True).\n"
          ],
          "name": "stdout"
        }
      ]
    },
    {
      "cell_type": "code",
      "metadata": {
        "id": "b58nK2A-gMqV",
        "colab_type": "code",
        "outputId": "248bc40d-0993-4fea-cf14-ce5cdec25dbf",
        "colab": {
          "base_uri": "https://localhost:8080/",
          "height": 332
        }
      },
      "source": [
        "# Plot label histogram\n",
        "data_df.sentiment.value_counts().plot.bar()"
      ],
      "execution_count": 61,
      "outputs": [
        {
          "output_type": "execute_result",
          "data": {
            "text/plain": [
              "<matplotlib.axes._subplots.AxesSubplot at 0x7f645d88c0f0>"
            ]
          },
          "metadata": {
            "tags": []
          },
          "execution_count": 61
        },
        {
          "output_type": "display_data",
          "data": {
            "image/png": "[encoded data removed]",
            "text/plain": [
              "<Figure size 432x288 with 1 Axes>"
            ]
          },
          "metadata": {
            "tags": [],
            "needs_background": "light"
          }
        }
      ]
    },
    {
      "cell_type": "code",
      "metadata": {
        "id": "ouF2RQ143mps",
        "colab_type": "code",
        "outputId": "ef4ce188-4553-4d36-d525-2d30ed1621f2",
        "colab": {
          "base_uri": "https://localhost:8080/",
          "height": 399
        }
      },
      "source": [
        "data_df"
      ],
      "execution_count": 149,
      "outputs": [
        {
          "output_type": "execute_result",
          "data": {
            "text/html": [
              "<div>\n",
              "<style scoped>\n",
              "    .dataframe tbody tr th:only-of-type {\n",
              "        vertical-align: middle;\n",
              "    }\n",
              "\n",
              "    .dataframe tbody tr th {\n",
              "        vertical-align: top;\n",
              "    }\n",
              "\n",
              "    .dataframe thead th {\n",
              "        text-align: right;\n",
              "    }\n",
              "</style>\n",
              "<table border=\"1\" class=\"dataframe\">\n",
              "  <thead>\n",
              "    <tr style=\"text-align: right;\">\n",
              "      <th></th>\n",
              "      <th>tweet_id</th>\n",
              "      <th>sentiment</th>\n",
              "      <th>author</th>\n",
              "      <th>content</th>\n",
              "    </tr>\n",
              "  </thead>\n",
              "  <tbody>\n",
              "    <tr>\n",
              "      <th>0</th>\n",
              "      <td>1956967341</td>\n",
              "      <td>empty</td>\n",
              "      <td>xoshayzers</td>\n",
              "      <td>@tiffanylue i know  i was listenin to bad habi...</td>\n",
              "    </tr>\n",
              "    <tr>\n",
              "      <th>1</th>\n",
              "      <td>1956967666</td>\n",
              "      <td>sadness</td>\n",
              "      <td>wannamama</td>\n",
              "      <td>Layin n bed with a headache  ughhhh...waitin o...</td>\n",
              "    </tr>\n",
              "    <tr>\n",
              "      <th>2</th>\n",
              "      <td>1956967696</td>\n",
              "      <td>sadness</td>\n",
              "      <td>coolfunky</td>\n",
              "      <td>Funeral ceremony...gloomy friday...</td>\n",
              "    </tr>\n",
              "    <tr>\n",
              "      <th>3</th>\n",
              "      <td>1956967789</td>\n",
              "      <td>enthusiasm</td>\n",
              "      <td>czareaquino</td>\n",
              "      <td>wants to hang out with friends SOON!</td>\n",
              "    </tr>\n",
              "    <tr>\n",
              "      <th>4</th>\n",
              "      <td>1956968416</td>\n",
              "      <td>neutral</td>\n",
              "      <td>xkilljoyx</td>\n",
              "      <td>@dannycastillo We want to trade with someone w...</td>\n",
              "    </tr>\n",
              "    <tr>\n",
              "      <th>...</th>\n",
              "      <td>...</td>\n",
              "      <td>...</td>\n",
              "      <td>...</td>\n",
              "      <td>...</td>\n",
              "    </tr>\n",
              "    <tr>\n",
              "      <th>39995</th>\n",
              "      <td>1753918954</td>\n",
              "      <td>neutral</td>\n",
              "      <td>showMe_Heaven</td>\n",
              "      <td>@JohnLloydTaylor</td>\n",
              "    </tr>\n",
              "    <tr>\n",
              "      <th>39996</th>\n",
              "      <td>1753919001</td>\n",
              "      <td>love</td>\n",
              "      <td>drapeaux</td>\n",
              "      <td>Happy Mothers Day  All my love</td>\n",
              "    </tr>\n",
              "    <tr>\n",
              "      <th>39997</th>\n",
              "      <td>1753919005</td>\n",
              "      <td>love</td>\n",
              "      <td>JenniRox</td>\n",
              "      <td>Happy Mother's Day to all the mommies out ther...</td>\n",
              "    </tr>\n",
              "    <tr>\n",
              "      <th>39998</th>\n",
              "      <td>1753919043</td>\n",
              "      <td>happiness</td>\n",
              "      <td>ipdaman1</td>\n",
              "      <td>@niariley WASSUP BEAUTIFUL!!! FOLLOW ME!!  PEE...</td>\n",
              "    </tr>\n",
              "    <tr>\n",
              "      <th>39999</th>\n",
              "      <td>1753919049</td>\n",
              "      <td>love</td>\n",
              "      <td>Alpharalpha</td>\n",
              "      <td>@mopedronin bullet train from tokyo    the gf ...</td>\n",
              "    </tr>\n",
              "  </tbody>\n",
              "</table>\n",
              "<p>40000 rows × 4 columns</p>\n",
              "</div>"
            ],
            "text/plain": [
              "         tweet_id  ...                                            content\n",
              "0      1956967341  ...  @tiffanylue i know  i was listenin to bad habi...\n",
              "1      1956967666  ...  Layin n bed with a headache  ughhhh...waitin o...\n",
              "2      1956967696  ...                Funeral ceremony...gloomy friday...\n",
              "3      1956967789  ...               wants to hang out with friends SOON!\n",
              "4      1956968416  ...  @dannycastillo We want to trade with someone w...\n",
              "...           ...  ...                                                ...\n",
              "39995  1753918954  ...                                   @JohnLloydTaylor\n",
              "39996  1753919001  ...                     Happy Mothers Day  All my love\n",
              "39997  1753919005  ...  Happy Mother's Day to all the mommies out ther...\n",
              "39998  1753919043  ...  @niariley WASSUP BEAUTIFUL!!! FOLLOW ME!!  PEE...\n",
              "39999  1753919049  ...  @mopedronin bullet train from tokyo    the gf ...\n",
              "\n",
              "[40000 rows x 4 columns]"
            ]
          },
          "metadata": {
            "tags": []
          },
          "execution_count": 149
        }
      ]
    },
    {
      "cell_type": "markdown",
      "metadata": {
        "id": "A2DdEQbM_Tfm",
        "colab_type": "text"
      },
      "source": [
        "Taking the only useful features"
      ]
    },
    {
      "cell_type": "code",
      "metadata": {
        "id": "xnkObufj_OSr",
        "colab_type": "code",
        "outputId": "53b5d719-5e35-40fd-bfed-27020df630f9",
        "colab": {
          "base_uri": "https://localhost:8080/",
          "height": 35
        }
      },
      "source": [
        "data_df = data_df[['sentiment', 'content']]\n",
        "\n",
        "for i in range(len(data_df)):\n",
        "  new_data_df = list(data_df.content[i].split(\" \"))\n",
        "  new_data_df = [x for x in new_data_df if not x.startswith('@')]\n",
        "  data_df.content[i] = \" \".join(new_data_df)\n"
      ],
      "execution_count": 163,
      "outputs": [
        {
          "output_type": "execute_result",
          "data": {
            "text/plain": [
              "'We want to trade with someone who has Houston tickets, but no one will.'"
            ]
          },
          "metadata": {
            "tags": []
          },
          "execution_count": 163
        }
      ]
    },
    {
      "cell_type": "code",
      "metadata": {
        "id": "U9iYqJzlOhfq",
        "colab_type": "code",
        "colab": {
          "base_uri": "https://localhost:8080/",
          "height": 399
        },
        "outputId": "b6dba866-5de5-4124-97be-d5bd9ee5f038"
      },
      "source": [
        "data_df"
      ],
      "execution_count": 164,
      "outputs": [
        {
          "output_type": "execute_result",
          "data": {
            "text/html": [
              "<div>\n",
              "<style scoped>\n",
              "    .dataframe tbody tr th:only-of-type {\n",
              "        vertical-align: middle;\n",
              "    }\n",
              "\n",
              "    .dataframe tbody tr th {\n",
              "        vertical-align: top;\n",
              "    }\n",
              "\n",
              "    .dataframe thead th {\n",
              "        text-align: right;\n",
              "    }\n",
              "</style>\n",
              "<table border=\"1\" class=\"dataframe\">\n",
              "  <thead>\n",
              "    <tr style=\"text-align: right;\">\n",
              "      <th></th>\n",
              "      <th>sentiment</th>\n",
              "      <th>content</th>\n",
              "    </tr>\n",
              "  </thead>\n",
              "  <tbody>\n",
              "    <tr>\n",
              "      <th>0</th>\n",
              "      <td>empty</td>\n",
              "      <td>i know  i was listenin to bad habit earlier an...</td>\n",
              "    </tr>\n",
              "    <tr>\n",
              "      <th>1</th>\n",
              "      <td>sadness</td>\n",
              "      <td>Layin n bed with a headache  ughhhh...waitin o...</td>\n",
              "    </tr>\n",
              "    <tr>\n",
              "      <th>2</th>\n",
              "      <td>sadness</td>\n",
              "      <td>Funeral ceremony...gloomy friday...</td>\n",
              "    </tr>\n",
              "    <tr>\n",
              "      <th>3</th>\n",
              "      <td>enthusiasm</td>\n",
              "      <td>wants to hang out with friends SOON!</td>\n",
              "    </tr>\n",
              "    <tr>\n",
              "      <th>4</th>\n",
              "      <td>neutral</td>\n",
              "      <td>We want to trade with someone who has Houston ...</td>\n",
              "    </tr>\n",
              "    <tr>\n",
              "      <th>...</th>\n",
              "      <td>...</td>\n",
              "      <td>...</td>\n",
              "    </tr>\n",
              "    <tr>\n",
              "      <th>39995</th>\n",
              "      <td>neutral</td>\n",
              "      <td></td>\n",
              "    </tr>\n",
              "    <tr>\n",
              "      <th>39996</th>\n",
              "      <td>love</td>\n",
              "      <td>Happy Mothers Day  All my love</td>\n",
              "    </tr>\n",
              "    <tr>\n",
              "      <th>39997</th>\n",
              "      <td>love</td>\n",
              "      <td>Happy Mother's Day to all the mommies out ther...</td>\n",
              "    </tr>\n",
              "    <tr>\n",
              "      <th>39998</th>\n",
              "      <td>happiness</td>\n",
              "      <td>WASSUP BEAUTIFUL!!! FOLLOW ME!!  PEEP OUT MY N...</td>\n",
              "    </tr>\n",
              "    <tr>\n",
              "      <th>39999</th>\n",
              "      <td>love</td>\n",
              "      <td>bullet train from tokyo    the gf and i have b...</td>\n",
              "    </tr>\n",
              "  </tbody>\n",
              "</table>\n",
              "<p>40000 rows × 2 columns</p>\n",
              "</div>"
            ],
            "text/plain": [
              "        sentiment                                            content\n",
              "0           empty  i know  i was listenin to bad habit earlier an...\n",
              "1         sadness  Layin n bed with a headache  ughhhh...waitin o...\n",
              "2         sadness                Funeral ceremony...gloomy friday...\n",
              "3      enthusiasm               wants to hang out with friends SOON!\n",
              "4         neutral  We want to trade with someone who has Houston ...\n",
              "...           ...                                                ...\n",
              "39995     neutral                                                   \n",
              "39996        love                     Happy Mothers Day  All my love\n",
              "39997        love  Happy Mother's Day to all the mommies out ther...\n",
              "39998   happiness  WASSUP BEAUTIFUL!!! FOLLOW ME!!  PEEP OUT MY N...\n",
              "39999        love  bullet train from tokyo    the gf and i have b...\n",
              "\n",
              "[40000 rows x 2 columns]"
            ]
          },
          "metadata": {
            "tags": []
          },
          "execution_count": 164
        }
      ]
    },
    {
      "cell_type": "markdown",
      "metadata": {
        "id": "3Ark0EPImiOK",
        "colab_type": "text"
      },
      "source": [
        "## Halves the dataset that has too much emotion (no good performance)\n"
      ]
    },
    {
      "cell_type": "code",
      "metadata": {
        "id": "0F5-fAV9mh5F",
        "colab_type": "code",
        "colab": {
          "base_uri": "https://localhost:8080/",
          "height": 399
        },
        "outputId": "86669e90-d22f-4a67-a82f-e9ba38cc290e"
      },
      "source": [
        "worry_df = data_df.loc[data_df['sentiment']=='worry']\n",
        "neutral_df = data_df.loc[data_df['sentiment']=='neutral']\n",
        "\n",
        "# halves the amount of the dataframe\n",
        "new_worry_size = len(worry_df)//2\n",
        "new_neutral_size = len(neutral_df)//2\n",
        "\n",
        "worry_df = worry_df.iloc[:new_worry_size]\n",
        "neutral_df = neutral_df.iloc[:new_neutral_size]"
      ],
      "execution_count": 62,
      "outputs": [
        {
          "output_type": "execute_result",
          "data": {
            "text/html": [
              "<div>\n",
              "<style scoped>\n",
              "    .dataframe tbody tr th:only-of-type {\n",
              "        vertical-align: middle;\n",
              "    }\n",
              "\n",
              "    .dataframe tbody tr th {\n",
              "        vertical-align: top;\n",
              "    }\n",
              "\n",
              "    .dataframe thead th {\n",
              "        text-align: right;\n",
              "    }\n",
              "</style>\n",
              "<table border=\"1\" class=\"dataframe\">\n",
              "  <thead>\n",
              "    <tr style=\"text-align: right;\">\n",
              "      <th></th>\n",
              "      <th>tweet_id</th>\n",
              "      <th>sentiment</th>\n",
              "      <th>author</th>\n",
              "      <th>content</th>\n",
              "    </tr>\n",
              "  </thead>\n",
              "  <tbody>\n",
              "    <tr>\n",
              "      <th>5</th>\n",
              "      <td>1956968477</td>\n",
              "      <td>worry</td>\n",
              "      <td>xxxPEACHESxxx</td>\n",
              "      <td>Re-pinging @ghostridah14: why didn't you go to...</td>\n",
              "    </tr>\n",
              "    <tr>\n",
              "      <th>7</th>\n",
              "      <td>1956968636</td>\n",
              "      <td>worry</td>\n",
              "      <td>mcsleazy</td>\n",
              "      <td>Hmmm. http://www.djhero.com/ is down</td>\n",
              "    </tr>\n",
              "    <tr>\n",
              "      <th>11</th>\n",
              "      <td>1956969531</td>\n",
              "      <td>worry</td>\n",
              "      <td>dudeitsmanda</td>\n",
              "      <td>Choked on her retainers</td>\n",
              "    </tr>\n",
              "    <tr>\n",
              "      <th>18</th>\n",
              "      <td>1956971473</td>\n",
              "      <td>worry</td>\n",
              "      <td>LCJ82</td>\n",
              "      <td>@PerezHilton lady gaga tweeted about not being...</td>\n",
              "    </tr>\n",
              "    <tr>\n",
              "      <th>20</th>\n",
              "      <td>1956971981</td>\n",
              "      <td>worry</td>\n",
              "      <td>andreagauster</td>\n",
              "      <td>@raaaaaaek oh too bad! I hope it gets better. ...</td>\n",
              "    </tr>\n",
              "    <tr>\n",
              "      <th>...</th>\n",
              "      <td>...</td>\n",
              "      <td>...</td>\n",
              "      <td>...</td>\n",
              "      <td>...</td>\n",
              "    </tr>\n",
              "    <tr>\n",
              "      <th>13498</th>\n",
              "      <td>1964053218</td>\n",
              "      <td>worry</td>\n",
              "      <td>meldiane</td>\n",
              "      <td>@chelseytx I don't have the app that does it</td>\n",
              "    </tr>\n",
              "    <tr>\n",
              "      <th>13499</th>\n",
              "      <td>1964053324</td>\n",
              "      <td>worry</td>\n",
              "      <td>Lena81</td>\n",
              "      <td>Oh no!!!!! It's raining on our Sea World parad...</td>\n",
              "    </tr>\n",
              "    <tr>\n",
              "      <th>13501</th>\n",
              "      <td>1964053424</td>\n",
              "      <td>worry</td>\n",
              "      <td>Treeflower86</td>\n",
              "      <td>@shanedawson YOU SHOULD TOUR!! *lol* I live al...</td>\n",
              "    </tr>\n",
              "    <tr>\n",
              "      <th>13502</th>\n",
              "      <td>1964053771</td>\n",
              "      <td>worry</td>\n",
              "      <td>Cherye101</td>\n",
              "      <td>is very angrrry! my FB account just got delete...</td>\n",
              "    </tr>\n",
              "    <tr>\n",
              "      <th>13510</th>\n",
              "      <td>1964055476</td>\n",
              "      <td>worry</td>\n",
              "      <td>lisa_x</td>\n",
              "      <td>my cat just fell off my bed lmfao, bless her. ...</td>\n",
              "    </tr>\n",
              "  </tbody>\n",
              "</table>\n",
              "<p>4229 rows × 4 columns</p>\n",
              "</div>"
            ],
            "text/plain": [
              "         tweet_id  ...                                            content\n",
              "5      1956968477  ...  Re-pinging @ghostridah14: why didn't you go to...\n",
              "7      1956968636  ...               Hmmm. http://www.djhero.com/ is down\n",
              "11     1956969531  ...                            Choked on her retainers\n",
              "18     1956971473  ...  @PerezHilton lady gaga tweeted about not being...\n",
              "20     1956971981  ...  @raaaaaaek oh too bad! I hope it gets better. ...\n",
              "...           ...  ...                                                ...\n",
              "13498  1964053218  ...       @chelseytx I don't have the app that does it\n",
              "13499  1964053324  ...  Oh no!!!!! It's raining on our Sea World parad...\n",
              "13501  1964053424  ...  @shanedawson YOU SHOULD TOUR!! *lol* I live al...\n",
              "13502  1964053771  ...  is very angrrry! my FB account just got delete...\n",
              "13510  1964055476  ...  my cat just fell off my bed lmfao, bless her. ...\n",
              "\n",
              "[4229 rows x 4 columns]"
            ]
          },
          "metadata": {
            "tags": []
          },
          "execution_count": 62
        }
      ]
    },
    {
      "cell_type": "code",
      "metadata": {
        "id": "WdQOnmLmy82D",
        "colab_type": "code",
        "colab": {}
      },
      "source": [
        "#drop all the worry label and neutral label from the original dataframe first\n",
        "data_df = data_df[data_df.sentiment != 'worry']\n",
        "data_df = data_df[data_df.sentiment != 'neutral']"
      ],
      "execution_count": 0,
      "outputs": []
    },
    {
      "cell_type": "code",
      "metadata": {
        "id": "MU2f9v2dxo6Q",
        "colab_type": "code",
        "colab": {
          "base_uri": "https://localhost:8080/",
          "height": 332
        },
        "outputId": "84cc3687-ae28-4347-8488-8f058894c5f0"
      },
      "source": [
        "#insert the new worry and neutral datafreame back again\n",
        "data_df = data_df.append(worry_df)\n",
        "data_df = data_df.append(neutral_df)\n",
        "\n",
        "data_df.sentiment.value_counts().plot.bar()"
      ],
      "execution_count": 64,
      "outputs": [
        {
          "output_type": "execute_result",
          "data": {
            "text/plain": [
              "<matplotlib.axes._subplots.AxesSubplot at 0x7f645d8a75f8>"
            ]
          },
          "metadata": {
            "tags": []
          },
          "execution_count": 64
        },
        {
          "output_type": "display_data",
          "data": {
            "image/png": "[encoded data removed]",
            "text/plain": [
              "<Figure size 432x288 with 1 Axes>"
            ]
          },
          "metadata": {
            "tags": [],
            "needs_background": "light"
          }
        }
      ]
    },
    {
      "cell_type": "markdown",
      "metadata": {
        "id": "GdeCc9M_mjng",
        "colab_type": "text"
      },
      "source": [
        "## Delete the dataset that has too few emotion"
      ]
    },
    {
      "cell_type": "code",
      "metadata": {
        "id": "WBbxzThOmj0Q",
        "colab_type": "code",
        "colab": {
          "base_uri": "https://localhost:8080/",
          "height": 332
        },
        "outputId": "0b9e912c-43e4-4220-f414-117b897a73bb"
      },
      "source": [
        "#drop all the label which has too few dataset\n",
        "data_df = data_df[data_df.sentiment != 'anger']\n",
        "data_df = data_df[data_df.sentiment != 'boredom']\n",
        "\n",
        "data_df.sentiment.value_counts().plot.bar()"
      ],
      "execution_count": 165,
      "outputs": [
        {
          "output_type": "execute_result",
          "data": {
            "text/plain": [
              "<matplotlib.axes._subplots.AxesSubplot at 0x7f6352ca66a0>"
            ]
          },
          "metadata": {
            "tags": []
          },
          "execution_count": 165
        },
        {
          "output_type": "display_data",
          "data": {
            "image/png": "[encoded data removed]",
            "text/plain": [
              "<Figure size 432x288 with 1 Axes>"
            ]
          },
          "metadata": {
            "tags": [],
            "needs_background": "light"
          }
        }
      ]
    },
    {
      "cell_type": "markdown",
      "metadata": {
        "id": "a6Mo3Kmi2tIm",
        "colab_type": "text"
      },
      "source": [
        "# Separate Training/Test Dataset"
      ]
    },
    {
      "cell_type": "markdown",
      "metadata": {
        "id": "UJuAIRoV3Hkq",
        "colab_type": "text"
      },
      "source": [
        "## Global variable"
      ]
    },
    {
      "cell_type": "code",
      "metadata": {
        "id": "COz5y71e3Kv1",
        "colab_type": "code",
        "colab": {}
      },
      "source": [
        "# Random seed for all random process we will use.\n",
        "RAND_SEED = 3359\n",
        "# Size of training dataset (the rest, i.e., 20%,  will be test data)\n",
        "TRAIN_SIZE = 0.8"
      ],
      "execution_count": 0,
      "outputs": []
    },
    {
      "cell_type": "markdown",
      "metadata": {
        "id": "0yuCmVji3Ov1",
        "colab_type": "text"
      },
      "source": [
        "## Seperate dataset"
      ]
    },
    {
      "cell_type": "code",
      "metadata": {
        "id": "KW6eozgY21ae",
        "colab_type": "code",
        "outputId": "19109378-ebc2-457f-b2e2-6e53c870a118",
        "colab": {
          "base_uri": "https://localhost:8080/",
          "height": 194
        }
      },
      "source": [
        "all_idx = list(range(len(data_df)))\n",
        "\n",
        "# Shuffle the list of indices\n",
        "import random\n",
        "random.seed(RAND_SEED)\n",
        "random.shuffle(all_idx)\n",
        "\n",
        "# Split the random indices into two portion according \n",
        "# to the training size defined\n",
        "p = int(len(data_df) * TRAIN_SIZE)\n",
        "train_idx = all_idx[:p]\n",
        "test_idx = all_idx[p:]\n",
        "\n",
        "# Now, retrieve training/test data records from data_df \n",
        "# according to the indices we prepared in train_idx and test_idx\n",
        "train_df = data_df.iloc[train_idx]\n",
        "test_df = data_df.iloc[test_idx]\n",
        "\n",
        "# However, since the original indices from data_df will be attached to \n",
        "# the retrieved records in train_df and test_df,\n",
        "# we need to reset index so indices in train_df/test_df will start from 0 as usual\n",
        "train_df = train_df.reset_index()\n",
        "test_df = test_df.reset_index()\n",
        "\n",
        "# Drop the automatically created \"index\" column\n",
        "train_df = train_df.drop(['index'], axis=1)\n",
        "test_df = test_df.drop(['index'], axis=1)\n",
        "\n",
        "train_df.head()"
      ],
      "execution_count": 167,
      "outputs": [
        {
          "output_type": "execute_result",
          "data": {
            "text/html": [
              "<div>\n",
              "<style scoped>\n",
              "    .dataframe tbody tr th:only-of-type {\n",
              "        vertical-align: middle;\n",
              "    }\n",
              "\n",
              "    .dataframe tbody tr th {\n",
              "        vertical-align: top;\n",
              "    }\n",
              "\n",
              "    .dataframe thead th {\n",
              "        text-align: right;\n",
              "    }\n",
              "</style>\n",
              "<table border=\"1\" class=\"dataframe\">\n",
              "  <thead>\n",
              "    <tr style=\"text-align: right;\">\n",
              "      <th></th>\n",
              "      <th>sentiment</th>\n",
              "      <th>content</th>\n",
              "    </tr>\n",
              "  </thead>\n",
              "  <tbody>\n",
              "    <tr>\n",
              "      <th>0</th>\n",
              "      <td>worry</td>\n",
              "      <td>These nice boys realized that we were too shor...</td>\n",
              "    </tr>\n",
              "    <tr>\n",
              "      <th>1</th>\n",
              "      <td>hate</td>\n",
              "      <td>ugh! Fuck it. Today doesn't look like it's goi...</td>\n",
              "    </tr>\n",
              "    <tr>\n",
              "      <th>2</th>\n",
              "      <td>worry</td>\n",
              "      <td>yeah I know! other than youtube rip I don't kn...</td>\n",
              "    </tr>\n",
              "    <tr>\n",
              "      <th>3</th>\n",
              "      <td>love</td>\n",
              "      <td>The fever's gone ... Thanks Jen!</td>\n",
              "    </tr>\n",
              "    <tr>\n",
              "      <th>4</th>\n",
              "      <td>worry</td>\n",
              "      <td>yeah &amp;amp; when it goes wrong it's the worst f...</td>\n",
              "    </tr>\n",
              "  </tbody>\n",
              "</table>\n",
              "</div>"
            ],
            "text/plain": [
              "  sentiment                                            content\n",
              "0     worry  These nice boys realized that we were too shor...\n",
              "1      hate  ugh! Fuck it. Today doesn't look like it's goi...\n",
              "2     worry  yeah I know! other than youtube rip I don't kn...\n",
              "3      love                   The fever's gone ... Thanks Jen!\n",
              "4     worry  yeah &amp; when it goes wrong it's the worst f..."
            ]
          },
          "metadata": {
            "tags": []
          },
          "execution_count": 167
        }
      ]
    },
    {
      "cell_type": "markdown",
      "metadata": {
        "id": "BBgdPBdziF-B",
        "colab_type": "text"
      },
      "source": [
        "# Preprossesing the data"
      ]
    },
    {
      "cell_type": "markdown",
      "metadata": {
        "id": "zlG7bU1XRB7Y",
        "colab_type": "text"
      },
      "source": [
        "## Stopword Removal using NLTK"
      ]
    },
    {
      "cell_type": "code",
      "metadata": {
        "id": "GuqM-2m3RHU1",
        "colab_type": "code",
        "colab": {
          "base_uri": "https://localhost:8080/",
          "height": 88
        },
        "outputId": "5e9c796a-42a8-4d63-c335-4471bd13b1dc"
      },
      "source": [
        "# The following code is to remove stop words from sentence using nltk\n",
        "# Created by - ANALYTICS VIDHYA\n",
        "\n",
        "# importing libraries\n",
        "import nltk\n",
        "from nltk.corpus import stopwords\n",
        "from nltk.tokenize import word_tokenize\n",
        "nltk.download('stopwords')\n",
        "\n",
        "# set of stop words\n",
        "stop_words = set(stopwords.words('english')) \n",
        "\n",
        "# tokens of words\n",
        "nltk.download('punkt')  \n",
        "\n",
        "for i in range(len(train_df)):\n",
        "\n",
        "  train_word_tokens = word_tokenize(train_df['content'][i])\n",
        "  train_filtered_sentence = []\n",
        "  \n",
        "  for w in train_word_tokens: \n",
        "    if w not in stop_words: \n",
        "      train_filtered_sentence.append(w)\n",
        "  train_df['content'][i] = \" \".join(train_filtered_sentence)\n",
        "\n",
        "\n",
        "for i in range(len(test_df)):\n",
        "\n",
        "  test_word_tokens = word_tokenize(test_df['content'][i])\n",
        "  test_filtered_sentence = []\n",
        "  \n",
        "  for w in test_word_tokens: \n",
        "    if w not in stop_words:\n",
        "      test_filtered_sentence.append(w) \n",
        "  test_df['content'][i] = \" \".join(test_filtered_sentence)\n"
      ],
      "execution_count": 168,
      "outputs": [
        {
          "output_type": "stream",
          "text": [
            "[nltk_data] Downloading package stopwords to /root/nltk_data...\n",
            "[nltk_data]   Package stopwords is already up-to-date!\n",
            "[nltk_data] Downloading package punkt to /root/nltk_data...\n",
            "[nltk_data]   Package punkt is already up-to-date!\n"
          ],
          "name": "stdout"
        }
      ]
    },
    {
      "cell_type": "markdown",
      "metadata": {
        "id": "KwoMTu-lUvia",
        "colab_type": "text"
      },
      "source": [
        "## Tokenize 'content' using NLTK Treebank Word Tokenizer"
      ]
    },
    {
      "cell_type": "code",
      "metadata": {
        "id": "T7A_5TNMS7a2",
        "colab_type": "code",
        "colab": {}
      },
      "source": [
        "from nltk.tokenize import TreebankWordTokenizer\n",
        "tokenizer = TreebankWordTokenizer()\n",
        "\n",
        "for i in range(len(train_df)):\n",
        "\n",
        "  train_word_tokens = tokenizer.tokenize(train_df.content[i])\n",
        "  #train_df['content'][i] = train_word_tokens\n",
        "  train_df['content'][i] = \" \".join(train_word_tokens)\n",
        "  \n",
        "for i in range(len(test_df)):\n",
        "\n",
        "  test_word_tokens = tokenizer.tokenize(test_df.content[i])\n",
        "  #test_df['content'][i] = test_word_tokens\n",
        "  test_df['content'][i] = \" \".join(test_word_tokens)\n"
      ],
      "execution_count": 0,
      "outputs": []
    },
    {
      "cell_type": "code",
      "metadata": {
        "id": "pxDsB9rrWl_K",
        "colab_type": "code",
        "colab": {
          "base_uri": "https://localhost:8080/",
          "height": 230
        },
        "outputId": "79e905bc-9aae-4926-9cb0-7ea98314eab6"
      },
      "source": [
        "test_df.content"
      ],
      "execution_count": 111,
      "outputs": [
        {
          "output_type": "execute_result",
          "data": {
            "text/plain": [
              "0          @ irgxana I know ... kittie professional ... .\n",
              "1       @ AceConcierge Glad got safe & amp ; saw daugh...\n",
              "2                                  heading baguio hours .\n",
              "3       @ gfalcone601 giii help really wana find gorge...\n",
              "4       Home Whitney 's . No sleep . Church bit . Dang...\n",
              "                              ...                        \n",
              "7938                              got back home ... bored\n",
              "7939    Happy Mother 's Day beautiful Moms . ( I 'm ki...\n",
              "7940    rumage around topless freezer find something e...\n",
              "7941                       @ AbeerforBill playing journey\n",
              "7942                  Hate song ? http : //blip.fm/~5jg6f\n",
              "Name: content, Length: 7943, dtype: object"
            ]
          },
          "metadata": {
            "tags": []
          },
          "execution_count": 111
        }
      ]
    },
    {
      "cell_type": "markdown",
      "metadata": {
        "id": "1O57C_J6kCON",
        "colab_type": "text"
      },
      "source": [
        "## Applying byte pair encoding to word segmentation on 'content'"
      ]
    },
    {
      "cell_type": "code",
      "metadata": {
        "id": "2ZVm0fcImS98",
        "colab_type": "code",
        "colab": {}
      },
      "source": [
        "# we use the folowwing module for word segmentation\n",
        "#!pip install subword-nmt\n",
        "\n",
        "#extract the 'content' data as we only need the content to be segmented\n",
        "train_df_content = train_df['content']\n",
        "test_df_content = test_df['content']\n",
        "\n",
        "f_train = open(\"train_content.txt\", \"a\")\n",
        "f_test = open(\"test_content.txt\", \"a\")\n",
        "\n",
        "for content in train_df_content:\n",
        "  f_train.write(content + '\\n')\n",
        "\n",
        "for content in test_df_content:\n",
        "  f_test.write(content + '\\n')\n",
        "\n",
        "f_train.close()\n",
        "f_test.close()"
      ],
      "execution_count": 0,
      "outputs": []
    },
    {
      "cell_type": "code",
      "metadata": {
        "id": "tMbWtdnel7cv",
        "colab_type": "code",
        "colab": {}
      },
      "source": [
        "# parameteres for the following command \n",
        "num_operations=20000\n",
        "\n",
        "codes_file = '/content/new_bpe.20000'\n",
        "train_df_content = '/content/train_content.txt'\n",
        "test_df_content = '/content/test_content.txt'\n",
        "\n",
        "bpe_train_df_content = '/content/bpe_train_content.txt'\n",
        "bpe_test_df_content = '/content/bpe_test_content.txt'"
      ],
      "execution_count": 0,
      "outputs": []
    },
    {
      "cell_type": "code",
      "metadata": {
        "id": "rpieIoDoW6_V",
        "colab_type": "code",
        "colab": {}
      },
      "source": [
        "# learn sub-word from train and test data content\n",
        "!subword-nmt learn-bpe -s {num_operations} < {train_df_content} > {codes_file}\n",
        "!subword-nmt learn-bpe -s {num_operations} < {test_df_content} > {codes_file}"
      ],
      "execution_count": 0,
      "outputs": []
    },
    {
      "cell_type": "code",
      "metadata": {
        "id": "6OlsgwixW8EY",
        "colab_type": "code",
        "colab": {}
      },
      "source": [
        "#start BPE word segmentation\n",
        "!subword-nmt apply-bpe -c {codes_file} < {train_df_content} > {bpe_train_df_content}\n",
        "!subword-nmt apply-bpe -c {codes_file} < {test_df_content} > {bpe_test_df_content}"
      ],
      "execution_count": 0,
      "outputs": []
    },
    {
      "cell_type": "code",
      "metadata": {
        "id": "sR8PqRTN202c",
        "colab_type": "code",
        "colab": {}
      },
      "source": [
        "f_train = open(\"bpe_train_df_content.txt\", \"a\")\n",
        "f_train.write('bpe_content\\n')  # make a name for the data\n",
        "\n",
        "f_train_content = open(\"bpe_train_content.txt\", \"r\")\n",
        "for content in f_train_content:\n",
        "  f_train.write(content)\n",
        "f_train_content.close()\n",
        "f_train.close()\n",
        "\n",
        "\n",
        "\n",
        "f_test = open(\"bpe_test_df_content.txt\", \"a\")\n",
        "f_test.write('bpe_content\\n')   # make a name for the data\n",
        "\n",
        "f_test_content = open(\"bpe_test_content.txt\", \"r\")\n",
        "\n",
        "for content in f_test_content:\n",
        "  f_test.write(content)\n",
        "f_test_content.close()\n",
        "f_test.close()\n"
      ],
      "execution_count": 0,
      "outputs": []
    },
    {
      "cell_type": "code",
      "metadata": {
        "id": "zVgQ-iJL4j1k",
        "colab_type": "code",
        "colab": {
          "base_uri": "https://localhost:8080/",
          "height": 88
        },
        "outputId": "272e6e09-2c24-481b-e2d5-241665c297e5"
      },
      "source": [
        "# convert .txt format back to .csv format\n",
        "bpe_train_content_df = pd.read_fwf('bpe_train_df_content.txt')\n",
        "bpe_train_content_df = bpe_train_content_df[['bpe_content']]\n",
        "\n",
        "bpe_test_content_df = pd.read_fwf('bpe_test_df_content.txt')\n",
        "bpe_test_content_df = bpe_test_content_df[['bpe_content']]\\\n",
        "\n",
        "#merge them back to dataframe format\n",
        "train_df['bpe_content'] = bpe_train_content_df\n",
        "test_df['bpe_content'] = bpe_test_content_df\n",
        "\n",
        "#convert them to string type\n",
        "train_df.bpe_content = train_df.bpe_content.astype(str)\n",
        "test_df.bpe_content = test_df.bpe_content.astype(str)\n",
        "\n",
        "train_df.dtypes"
      ],
      "execution_count": 174,
      "outputs": [
        {
          "output_type": "execute_result",
          "data": {
            "text/plain": [
              "sentiment      object\n",
              "content        object\n",
              "bpe_content    object\n",
              "dtype: object"
            ]
          },
          "metadata": {
            "tags": []
          },
          "execution_count": 174
        }
      ]
    },
    {
      "cell_type": "code",
      "metadata": {
        "id": "S75CA3gDoSRG",
        "colab_type": "code",
        "colab": {
          "base_uri": "https://localhost:8080/",
          "height": 399
        },
        "outputId": "f3fb633c-15a3-4d0f-b866-ddecaf8840b9"
      },
      "source": [
        "train_df"
      ],
      "execution_count": 175,
      "outputs": [
        {
          "output_type": "execute_result",
          "data": {
            "text/html": [
              "<div>\n",
              "<style scoped>\n",
              "    .dataframe tbody tr th:only-of-type {\n",
              "        vertical-align: middle;\n",
              "    }\n",
              "\n",
              "    .dataframe tbody tr th {\n",
              "        vertical-align: top;\n",
              "    }\n",
              "\n",
              "    .dataframe thead th {\n",
              "        text-align: right;\n",
              "    }\n",
              "</style>\n",
              "<table border=\"1\" class=\"dataframe\">\n",
              "  <thead>\n",
              "    <tr style=\"text-align: right;\">\n",
              "      <th></th>\n",
              "      <th>sentiment</th>\n",
              "      <th>content</th>\n",
              "      <th>bpe_content</th>\n",
              "    </tr>\n",
              "  </thead>\n",
              "  <tbody>\n",
              "    <tr>\n",
              "      <th>0</th>\n",
              "      <td>worry</td>\n",
              "      <td>These nice boys realized short see concert mov...</td>\n",
              "      <td>These nice boys realized short see concert mov...</td>\n",
              "    </tr>\n",
              "    <tr>\n",
              "      <th>1</th>\n",
              "      <td>hate</td>\n",
              "      <td>ugh ! Fuck . Today n't look like 's going work...</td>\n",
              "      <td>ugh ! Fuck . Today n't look like 's going work...</td>\n",
              "    </tr>\n",
              "    <tr>\n",
              "      <th>2</th>\n",
              "      <td>worry</td>\n",
              "      <td>yeah I know ! youtube rip I n't know keep .</td>\n",
              "      <td>yeah I know ! youtube rip I n't know keep .</td>\n",
              "    </tr>\n",
              "    <tr>\n",
              "      <th>3</th>\n",
              "      <td>love</td>\n",
              "      <td>The fever 's gone ... Thanks Jen !</td>\n",
              "      <td>The fever 's gone ... Thanks Jen !</td>\n",
              "    </tr>\n",
              "    <tr>\n",
              "      <th>4</th>\n",
              "      <td>worry</td>\n",
              "      <td>yeah &amp; amp ; goes wrong 's worst feeling ever</td>\n",
              "      <td>yeah &amp; amp ; goes wrong 's worst feeling ever</td>\n",
              "    </tr>\n",
              "    <tr>\n",
              "      <th>...</th>\n",
              "      <td>...</td>\n",
              "      <td>...</td>\n",
              "      <td>...</td>\n",
              "    </tr>\n",
              "    <tr>\n",
              "      <th>31763</th>\n",
              "      <td>worry</td>\n",
              "      <td>Have slept afternoon evening getting back NYC ...</td>\n",
              "      <td>Have slept afternoon evening getting back NYC ...</td>\n",
              "    </tr>\n",
              "    <tr>\n",
              "      <th>31764</th>\n",
              "      <td>neutral</td>\n",
              "      <td>.</td>\n",
              "      <td>.</td>\n",
              "    </tr>\n",
              "    <tr>\n",
              "      <th>31765</th>\n",
              "      <td>worry</td>\n",
              "      <td>okey</td>\n",
              "      <td>o@@ key</td>\n",
              "    </tr>\n",
              "    <tr>\n",
              "      <th>31766</th>\n",
              "      <td>happiness</td>\n",
              "      <td>fun b-day celebration .</td>\n",
              "      <td>fun b-day celebr@@ ation .</td>\n",
              "    </tr>\n",
              "    <tr>\n",
              "      <th>31767</th>\n",
              "      <td>worry</td>\n",
              "      <td>ok , finally starting hit draw , short game go...</td>\n",
              "      <td>ok , finally starting hit draw , short game go...</td>\n",
              "    </tr>\n",
              "  </tbody>\n",
              "</table>\n",
              "<p>31768 rows × 3 columns</p>\n",
              "</div>"
            ],
            "text/plain": [
              "       sentiment  ...                                        bpe_content\n",
              "0          worry  ...  These nice boys realized short see concert mov...\n",
              "1           hate  ...  ugh ! Fuck . Today n't look like 's going work...\n",
              "2          worry  ...        yeah I know ! youtube rip I n't know keep .\n",
              "3           love  ...                 The fever 's gone ... Thanks Jen !\n",
              "4          worry  ...      yeah & amp ; goes wrong 's worst feeling ever\n",
              "...          ...  ...                                                ...\n",
              "31763      worry  ...  Have slept afternoon evening getting back NYC ...\n",
              "31764    neutral  ...                                                  .\n",
              "31765      worry  ...                                            o@@ key\n",
              "31766  happiness  ...                         fun b-day celebr@@ ation .\n",
              "31767      worry  ...  ok , finally starting hit draw , short game go...\n",
              "\n",
              "[31768 rows x 3 columns]"
            ]
          },
          "metadata": {
            "tags": []
          },
          "execution_count": 175
        }
      ]
    },
    {
      "cell_type": "markdown",
      "metadata": {
        "id": "8BMjuHeFiOog",
        "colab_type": "text"
      },
      "source": [
        "## Label the emotions as target"
      ]
    },
    {
      "cell_type": "code",
      "metadata": {
        "id": "X_9xLKNFiK66",
        "colab_type": "code",
        "colab": {}
      },
      "source": [
        "labels = train_df[\"sentiment\"].values.tolist()\n",
        "val_labels = test_df[\"sentiment\"].values.tolist()"
      ],
      "execution_count": 0,
      "outputs": []
    },
    {
      "cell_type": "markdown",
      "metadata": {
        "id": "h0ggDCX6ioMr",
        "colab_type": "text"
      },
      "source": [
        "## Creating list of emotions"
      ]
    },
    {
      "cell_type": "code",
      "metadata": {
        "id": "ICTXypj8GHS3",
        "colab_type": "code",
        "outputId": "f54c4040-a91b-4e65-c55c-a1229bded31f",
        "colab": {
          "base_uri": "https://localhost:8080/",
          "height": 52
        }
      },
      "source": [
        "label2id = dict()\n",
        "label2id = {l: i for i, l in enumerate(set(labels))}\n",
        "print(label2id)\n",
        "id2label = {v: k for k, v in label2id.items()}\n",
        "print(id2label)"
      ],
      "execution_count": 177,
      "outputs": [
        {
          "output_type": "stream",
          "text": [
            "{'relief': 0, 'fun': 1, 'sadness': 2, 'enthusiasm': 3, 'worry': 4, 'neutral': 5, 'love': 6, 'surprise': 7, 'empty': 8, 'happiness': 9, 'hate': 10}\n",
            "{0: 'relief', 1: 'fun', 2: 'sadness', 3: 'enthusiasm', 4: 'worry', 5: 'neutral', 6: 'love', 7: 'surprise', 8: 'empty', 9: 'happiness', 10: 'hate'}\n"
          ],
          "name": "stdout"
        }
      ]
    },
    {
      "cell_type": "markdown",
      "metadata": {
        "id": "IoWDUFfS5DvW",
        "colab_type": "text"
      },
      "source": [
        "## Encoding the training dataset and validation dataset"
      ]
    },
    {
      "cell_type": "code",
      "metadata": {
        "id": "G1_15xLVafIn",
        "colab_type": "code",
        "colab": {
          "base_uri": "https://localhost:8080/",
          "height": 35
        },
        "outputId": "0dbcb4b0-f1ab-4be6-e1a0-ff62b0383b35"
      },
      "source": [
        "max_words = 0 # maximum number of words in a sentence\n",
        "\n",
        "word2id = dict()\n",
        "\n",
        "# Construction of word2id dict\n",
        "for content in train_df.bpe_content:\n",
        "    for word in content:\n",
        "        # Add words to word2id dict if not exist\n",
        "        if word not in word2id:\n",
        "            word2id[word] = len(word2id)\n",
        "    # If length of the sentence is greater than max_words, update max_words\n",
        "    if len(content) > max_words:\n",
        "        max_words = len(content)\n",
        "\n",
        "for content in test_df.bpe_content:\n",
        "    for word in content:\n",
        "        # Add words to word2id dict if not exist\n",
        "        if word not in word2id:\n",
        "            word2id[word] = len(word2id)\n",
        "    # If length of the sentence is greater than max_words, update max_words\n",
        "    if len(content) > max_words:\n",
        "        max_words = len(content)\n",
        "\n",
        "max_words"
      ],
      "execution_count": 178,
      "outputs": [
        {
          "output_type": "execute_result",
          "data": {
            "text/plain": [
              "152"
            ]
          },
          "metadata": {
            "tags": []
          },
          "execution_count": 178
        }
      ]
    },
    {
      "cell_type": "markdown",
      "metadata": {
        "id": "SdfpPzYqkFAV",
        "colab_type": "text"
      },
      "source": [
        "## Encoding train(content) and labels(sentiment) to corresponing integer values"
      ]
    },
    {
      "cell_type": "code",
      "metadata": {
        "id": "mfVFsdBWj7OL",
        "colab_type": "code",
        "outputId": "df034e1b-beb9-4a9e-e5c4-56d038426464",
        "colab": {
          "base_uri": "https://localhost:8080/",
          "height": 141
        }
      },
      "source": [
        "#reference to the online material\n",
        "import keras\n",
        "\n",
        "# Encode input words and labels\n",
        "train = [[word2id[word] for word in sentence] for sentence in train_df.content]\n",
        "val = [[word2id[word] for word in sentence] for sentence in test_df.content]\n",
        "Y = [label2id[label] for label in labels]\n",
        "val_Y = [label2id[label] for label in val_labels]\n",
        "\n",
        "# Apply Padding to X\n",
        "from keras.preprocessing.sequence import pad_sequences\n",
        "train = pad_sequences(train, max_words)\n",
        "val = pad_sequences(val, max_words)\n",
        "\n",
        "# Convert Y to numpy array\n",
        "Y = keras.utils.to_categorical(Y, num_classes=len(label2id), dtype='float32')\n",
        "val_Y = keras.utils.to_categorical(val_Y, num_classes=len(label2id), dtype='float32')\n",
        "\n",
        "# Print shapes\n",
        "print(\"Shape of train: {}\".format(train.shape))\n",
        "print(\"Shape of Y: {}\".format(Y.shape))\n",
        "print(\"-------------\")\n",
        "print(\"Shape of val: {}\".format(val.shape))\n",
        "print(\"Shape of val_Y: {}\".format(val_Y.shape))\n",
        "print(\"-------------\")\n",
        "print(len(word2id))"
      ],
      "execution_count": 179,
      "outputs": [
        {
          "output_type": "stream",
          "text": [
            "Shape of train: (31768, 152)\n",
            "Shape of Y: (31768, 11)\n",
            "-------------\n",
            "Shape of val: (7943, 152)\n",
            "Shape of val_Y: (7943, 11)\n",
            "-------------\n",
            "98\n"
          ],
          "name": "stdout"
        }
      ]
    },
    {
      "cell_type": "code",
      "metadata": {
        "id": "cAcayg230N9U",
        "colab_type": "code",
        "colab": {}
      },
      "source": [
        "from tensorflow.python.keras.preprocessing import sequence\n",
        "from tensorflow.python.keras.preprocessing import text\n",
        "\n",
        "# Vectorization parameters\n",
        "# Limit on the number of features. We use the top 20K features.\n",
        "TOP_K = 20000\n",
        "\n",
        "# Limit on the length of text sequences. Sequences longer than this\n",
        "# will be truncated.\n",
        "MAX_SEQUENCE_LENGTH = 500\n",
        "\n",
        "def sequence_vectorize(train_texts, val_texts):\n",
        "    \"\"\"Vectorizes texts as sequence vectors.\n",
        "\n",
        "    1 text = 1 sequence vector with fixed length.\n",
        "\n",
        "    # Arguments\n",
        "        train_texts: list, training text strings.\n",
        "        val_texts: list, validation text strings.\n",
        "\n",
        "    # Returns\n",
        "        x_train, x_val, word_index: vectorized training and validation\n",
        "            texts and word index dictionary.\n",
        "    \"\"\"\n",
        "\n",
        "    # Create vocabulary with training texts.\n",
        "    tokenizer = text.Tokenizer(num_words=TOP_K)\n",
        "    tokenizer.fit_on_texts(train_texts)\n",
        "\n",
        "    # Vectorize training and validation texts.\n",
        "    x_train = tokenizer.texts_to_sequences(train_texts)\n",
        "    x_val = tokenizer.texts_to_sequences(val_texts)\n",
        "\n",
        "    print(x_train[1])\n",
        "\n",
        "    # Get max sequence length.\n",
        "    max_length = len(max(x_train, key=len))\n",
        "    \n",
        "    if max_length > MAX_SEQUENCE_LENGTH:\n",
        "      max_length = MAX_SEQUENCE_LENGTH\n",
        "    \n",
        "    # Fix sequence length to max value. Sequences shorter than the length are\n",
        "    # padded in the beginning and sequences longer are truncated\n",
        "    # at the beginning.\n",
        "    x_train = sequence.pad_sequences(x_train, maxlen=max_length)\n",
        "    x_val = sequence.pad_sequences(x_val, maxlen=max_length)\n",
        "    return x_train, x_val, tokenizer.word_index, max_length"
      ],
      "execution_count": 0,
      "outputs": []
    },
    {
      "cell_type": "code",
      "metadata": {
        "id": "tjO_UdV_1Wi5",
        "colab_type": "code",
        "outputId": "597eb333-bd41-474a-c0b1-15cdd5d5e5ec",
        "colab": {
          "base_uri": "https://localhost:8080/",
          "height": 124
        }
      },
      "source": [
        "#tokenize the train dataset and test dataset \n",
        "train, val, word_index, max_words = sequence_vectorize(train_df['bpe_content'], test_df['bpe_content'])\n",
        "\n",
        "print(train[1])\n",
        "print(train_df.bpe_content[1])\n",
        "max_words"
      ],
      "execution_count": 129,
      "outputs": [
        {
          "output_type": "stream",
          "text": [
            "[8208, 216, 505, 15, 3, 132, 8, 2, 16, 14, 4, 65]\n",
            "[   0    0    0    0    0    0    0    0    0    0    0    0    0    0\n",
            "    0    0    0    0    0 8208  216  505   15    3  132    8    2   16\n",
            "   14    4   65]\n",
            "@ lexiloohoo ugh ! Fuck . Today n't look like 's going work 'm sorry\n"
          ],
          "name": "stdout"
        },
        {
          "output_type": "execute_result",
          "data": {
            "text/plain": [
              "31"
            ]
          },
          "metadata": {
            "tags": []
          },
          "execution_count": 129
        }
      ]
    },
    {
      "cell_type": "markdown",
      "metadata": {
        "id": "_GGEhMigkfJ-",
        "colab_type": "text"
      },
      "source": [
        "# Build LSTM model with attention"
      ]
    },
    {
      "cell_type": "code",
      "metadata": {
        "id": "E0ExrvW5kV-B",
        "colab_type": "code",
        "outputId": "87fc9349-780a-4c26-f9e6-84fe97071e36",
        "colab": {
          "base_uri": "https://localhost:8080/",
          "height": 568
        }
      },
      "source": [
        "embedding_dim = 100 # The dimension of word embeddings\n",
        "\n",
        "# Define input tensor\n",
        "sequence_input = keras.Input(shape=(max_words,), dtype='int32')\n",
        "\n",
        "# Word embedding layer\n",
        "embedded_inputs =keras.layers.Embedding(len(train) + 1,\n",
        "                                        embedding_dim,\n",
        "                                        input_length=max_words)(sequence_input)\n",
        "\n",
        "# Apply dropout to prevent overfitting\n",
        "embedded_inputs = keras.layers.Dropout(0.2)(embedded_inputs)\n",
        "\n",
        "# Apply Bidirectional LSTM over embedded inputs\n",
        "lstm_outs = keras.layers.wrappers.Bidirectional(\n",
        "    keras.layers.LSTM(embedding_dim, return_sequences=True)\n",
        ")(embedded_inputs)\n",
        "\n",
        "# Apply dropout to LSTM outputs to prevent overfitting\n",
        "lstm_outs = keras.layers.Dropout(0.2)(lstm_outs)\n",
        "\n",
        "\n",
        "# Attention Mechanism - Generate attention vectors\n",
        "input_dim = int(lstm_outs.shape[2])\n",
        "permuted_inputs = keras.layers.Permute((2, 1))(lstm_outs)\n",
        "attention_vector = keras.layers.TimeDistributed(keras.layers.Dense(1))(lstm_outs)\n",
        "attention_vector = keras.layers.Reshape((max_words,))(attention_vector)\n",
        "attention_vector = keras.layers.Activation('softmax', name='attention_vec')(attention_vector)\n",
        "attention_output = keras.layers.Dot(axes=1)([lstm_outs, attention_vector])\n",
        "\n",
        "# Last layer: fully connected with softmax activation\n",
        "fc = keras.layers.Dense(embedding_dim, activation='relu')(attention_output)\n",
        "output = keras.layers.Dense(len(label2id), activation='softmax')(fc)\n",
        "\n",
        "# Finally building model\n",
        "model = keras.Model(inputs=[sequence_input], outputs=output)\n",
        "model.compile(loss=\"categorical_crossentropy\", metrics=[\"accuracy\"], optimizer='adam')\n",
        "\n",
        "# Print model summary\n",
        "model.summary()"
      ],
      "execution_count": 180,
      "outputs": [
        {
          "output_type": "stream",
          "text": [
            "Model: \"model_6\"\n",
            "__________________________________________________________________________________________________\n",
            "Layer (type)                    Output Shape         Param #     Connected to                     \n",
            "==================================================================================================\n",
            "input_6 (InputLayer)            (None, 152)          0                                            \n",
            "__________________________________________________________________________________________________\n",
            "embedding_6 (Embedding)         (None, 152, 100)     3176900     input_6[0][0]                    \n",
            "__________________________________________________________________________________________________\n",
            "dropout_11 (Dropout)            (None, 152, 100)     0           embedding_6[0][0]                \n",
            "__________________________________________________________________________________________________\n",
            "bidirectional_6 (Bidirectional) (None, 152, 200)     160800      dropout_11[0][0]                 \n",
            "__________________________________________________________________________________________________\n",
            "dropout_12 (Dropout)            (None, 152, 200)     0           bidirectional_6[0][0]            \n",
            "__________________________________________________________________________________________________\n",
            "time_distributed_6 (TimeDistrib (None, 152, 1)       201         dropout_12[0][0]                 \n",
            "__________________________________________________________________________________________________\n",
            "reshape_6 (Reshape)             (None, 152)          0           time_distributed_6[0][0]         \n",
            "__________________________________________________________________________________________________\n",
            "attention_vec (Activation)      (None, 152)          0           reshape_6[0][0]                  \n",
            "__________________________________________________________________________________________________\n",
            "dot_6 (Dot)                     (None, 200)          0           dropout_12[0][0]                 \n",
            "                                                                 attention_vec[0][0]              \n",
            "__________________________________________________________________________________________________\n",
            "dense_17 (Dense)                (None, 100)          20100       dot_6[0][0]                      \n",
            "__________________________________________________________________________________________________\n",
            "dense_18 (Dense)                (None, 11)           1111        dense_17[0][0]                   \n",
            "==================================================================================================\n",
            "Total params: 3,359,112\n",
            "Trainable params: 3,359,112\n",
            "Non-trainable params: 0\n",
            "__________________________________________________________________________________________________\n"
          ],
          "name": "stdout"
        }
      ]
    },
    {
      "cell_type": "markdown",
      "metadata": {
        "id": "yUfXvL2pnfHS",
        "colab_type": "text"
      },
      "source": [
        "# Train the model"
      ]
    },
    {
      "cell_type": "code",
      "metadata": {
        "id": "yjNb5YFxkkRK",
        "colab_type": "code",
        "outputId": "0b94cc02-74b5-49e7-f74f-83cf14c24d16",
        "colab": {
          "base_uri": "https://localhost:8080/",
          "height": 446
        }
      },
      "source": [
        "# Train model 10 iterations\n",
        "history = model.fit(train, Y, epochs=10, batch_size=128, validation_split=0.1, shuffle=True)"
      ],
      "execution_count": 181,
      "outputs": [
        {
          "output_type": "stream",
          "text": [
            "/usr/local/lib/python3.6/dist-packages/tensorflow/python/framework/indexed_slices.py:434: UserWarning: Converting sparse IndexedSlices to a dense Tensor of unknown shape. This may consume a large amount of memory.\n",
            "  \"Converting sparse IndexedSlices to a dense Tensor of unknown shape. \"\n"
          ],
          "name": "stderr"
        },
        {
          "output_type": "stream",
          "text": [
            "Train on 28591 samples, validate on 3177 samples\n",
            "Epoch 1/10\n",
            "28591/28591 [==============================] - 104s 4ms/step - loss: 2.1172 - accuracy: 0.2337 - val_loss: 2.0981 - val_accuracy: 0.2468\n",
            "Epoch 2/10\n",
            "28591/28591 [==============================] - 103s 4ms/step - loss: 2.0640 - accuracy: 0.2658 - val_loss: 2.0750 - val_accuracy: 0.2606\n",
            "Epoch 3/10\n",
            "28591/28591 [==============================] - 103s 4ms/step - loss: 2.0402 - accuracy: 0.2798 - val_loss: 2.0539 - val_accuracy: 0.2776\n",
            "Epoch 4/10\n",
            "28591/28591 [==============================] - 103s 4ms/step - loss: 2.0199 - accuracy: 0.2910 - val_loss: 2.0405 - val_accuracy: 0.2871\n",
            "Epoch 5/10\n",
            "28591/28591 [==============================] - 104s 4ms/step - loss: 2.0059 - accuracy: 0.2983 - val_loss: 2.0270 - val_accuracy: 0.2927\n",
            "Epoch 6/10\n",
            "28591/28591 [==============================] - 103s 4ms/step - loss: 1.9961 - accuracy: 0.3042 - val_loss: 2.0223 - val_accuracy: 0.2858\n",
            "Epoch 7/10\n",
            "28591/28591 [==============================] - 103s 4ms/step - loss: 1.9855 - accuracy: 0.3096 - val_loss: 2.0096 - val_accuracy: 0.2952\n",
            "Epoch 8/10\n",
            "28591/28591 [==============================] - 104s 4ms/step - loss: 1.9720 - accuracy: 0.3100 - val_loss: 1.9997 - val_accuracy: 0.2987\n",
            "Epoch 9/10\n",
            "28591/28591 [==============================] - 104s 4ms/step - loss: 1.9579 - accuracy: 0.3155 - val_loss: 1.9850 - val_accuracy: 0.3056\n",
            "Epoch 10/10\n",
            "28591/28591 [==============================] - 104s 4ms/step - loss: 1.9453 - accuracy: 0.3201 - val_loss: 1.9826 - val_accuracy: 0.3015\n"
          ],
          "name": "stdout"
        }
      ]
    },
    {
      "cell_type": "code",
      "metadata": {
        "id": "VArlUvPJoYvz",
        "colab_type": "code",
        "colab": {}
      },
      "source": [
        "import torch\n",
        "from torchvision import datasets, models, transforms\n",
        "\n",
        "model_save_name = \"lstm_attention_v2.1_trained.h5\" \n",
        "path = F\"/content/drive/My Drive/Colab Notebooks/{model_save_name}\" \n",
        "#torch.save(model.state_dict(), path)\n",
        "model.save(path)"
      ],
      "execution_count": 0,
      "outputs": []
    },
    {
      "cell_type": "markdown",
      "metadata": {
        "id": "wu_BMhnI8S0F",
        "colab_type": "text"
      },
      "source": [
        "If you want to use the existing model, I've already store it in our shared file. "
      ]
    },
    {
      "cell_type": "code",
      "metadata": {
        "id": "UdTqk5uo8ewb",
        "colab_type": "code",
        "outputId": "cfaf3051-9598-4e6f-c10b-f24dd4abc4d2",
        "colab": {
          "base_uri": "https://localhost:8080/",
          "height": 55
        }
      },
      "source": [
        "\"\"\"\n",
        "!pip install gdown==3.6.0\n",
        "\n",
        "v1_id = \"1M1VxKSiCgecAkogInyEwc4Phx3b9PzbF\"\n",
        "v2_id = \"1-AbA0OevJmKWaknYsmGRSfYzwsM7IlU2\"\n",
        "v2.1_id = \"\"\n",
        "\n",
        "#!gdown https://drive.google.com/uc?id={v1_id}  #v1_model\n",
        "#!gdown https://drive.google.com/uc?id={v2_id}  #v2_model\n",
        "\"\"\""
      ],
      "execution_count": 0,
      "outputs": [
        {
          "output_type": "execute_result",
          "data": {
            "text/plain": [
              "'\\n!pip install gdown==3.6.0\\n\\nv1_id = \"1M1VxKSiCgecAkogInyEwc4Phx3b9PzbF\"\\nv2_id = \"1-AbA0OevJmKWaknYsmGRSfYzwsM7IlU2\"\\n\\n#!gdown https://drive.google.com/uc?id={v1_id}  #v1_model\\n#!gdown https://drive.google.com/uc?id={v2_id}  #v2_model\\n'"
            ]
          },
          "metadata": {
            "tags": []
          },
          "execution_count": 124
        }
      ]
    },
    {
      "cell_type": "code",
      "metadata": {
        "id": "fifFMdTeTnm5",
        "colab_type": "code",
        "outputId": "3a349e67-5e01-484b-ca51-d978a584a772",
        "colab": {
          "base_uri": "https://localhost:8080/",
          "height": 87
        }
      },
      "source": [
        "\"\"\"\n",
        "import keras\n",
        "model_from_drive = keras.models.load_model('lstm_attention_v1_trained.h5')\n",
        "\"\"\""
      ],
      "execution_count": 0,
      "outputs": [
        {
          "output_type": "stream",
          "text": [
            "Using TensorFlow backend.\n",
            "/usr/local/lib/python3.6/dist-packages/tensorflow/python/framework/indexed_slices.py:434: UserWarning: Converting sparse IndexedSlices to a dense Tensor of unknown shape. This may consume a large amount of memory.\n",
            "  \"Converting sparse IndexedSlices to a dense Tensor of unknown shape. \"\n"
          ],
          "name": "stderr"
        }
      ]
    },
    {
      "cell_type": "markdown",
      "metadata": {
        "id": "lGgy_PKwpAS4",
        "colab_type": "text"
      },
      "source": [
        "# Testing and predicting"
      ]
    },
    {
      "cell_type": "markdown",
      "metadata": {
        "id": "q040otVlL3NW",
        "colab_type": "text"
      },
      "source": [
        "## Test"
      ]
    },
    {
      "cell_type": "code",
      "metadata": {
        "id": "tdqvpVkpL_XK",
        "colab_type": "code",
        "outputId": "6ffc74b6-5ac6-40a1-a0d5-68c142f5526b",
        "colab": {
          "base_uri": "https://localhost:8080/",
          "height": 35
        }
      },
      "source": [
        "\n",
        "# Create a new model instance\n",
        "#If you using the loaded model, uncomment this line:\n",
        "#model = model_from_drive\n",
        "\n",
        "\n",
        "# Re-evaluate the model\n",
        "loss, acc = model.evaluate(val, val_Y, verbose=2)\n",
        "print(\"Restored model, accuracy: {:5.2f}%\".format(100*acc))\n"
      ],
      "execution_count": 182,
      "outputs": [
        {
          "output_type": "stream",
          "text": [
            "Restored model, accuracy: 31.32%\n"
          ],
          "name": "stdout"
        }
      ]
    },
    {
      "cell_type": "markdown",
      "metadata": {
        "id": "dMcgDbNUL5lF",
        "colab_type": "text"
      },
      "source": [
        "## Predict"
      ]
    },
    {
      "cell_type": "code",
      "metadata": {
        "id": "llOQveJzoZWW",
        "colab_type": "code",
        "outputId": "9dac72d1-8d65-4407-debf-f3c501c3e285",
        "colab": {
          "base_uri": "https://localhost:8080/",
          "height": 55
        }
      },
      "source": [
        "# Re-create the model to get attention vectors as well as label prediction\n",
        "model_with_attentions = keras.Model(inputs=model.input,\n",
        "                                    outputs=[model.output, \n",
        "                                             model.get_layer('attention_vec').output])\n",
        "\n",
        "\"\"\"\n",
        "# If you just use the downloaded model wothout trained yourself, please use here:\n",
        "model_with_attentions = keras.Model(inputs=model_from_drive.input,\n",
        "                                    outputs=[model_from_drive.output, \n",
        "                                             model_from_drive.get_layer('attention_vec').output])\n",
        "\"\"\""
      ],
      "execution_count": 51,
      "outputs": [
        {
          "output_type": "execute_result",
          "data": {
            "text/plain": [
              "\"\\n# If you just use the downloaded model wothout trained yourself, please use here:\\nmodel_with_attentions = keras.Model(inputs=model_from_drive.input,\\n                                    outputs=[model_from_drive.output, \\n                                             model_from_drive.get_layer('attention_vec').output])\\n\""
            ]
          },
          "metadata": {
            "tags": []
          },
          "execution_count": 51
        }
      ]
    },
    {
      "cell_type": "code",
      "metadata": {
        "id": "3DxnB2dEoa59",
        "colab_type": "code",
        "outputId": "352a9fca-39cb-409a-8090-d0c0ecfc69d6",
        "colab": {
          "base_uri": "https://localhost:8080/",
          "height": 239
        }
      },
      "source": [
        "import random\n",
        "import math\n",
        "\n",
        "# Select random samples to illustrate\n",
        "sample_text = \"what are you doing\"\n",
        "sample_text = sample_text.lower()\n",
        "#sample_text = random.choice(val)\n",
        "\n",
        "\n",
        "# Encode samples\n",
        "tokenized_sample = sample_text.split(\" \")\n",
        "encoded_samples = [[word_index[word] for word in tokenized_sample]]\n",
        "\n",
        "# Padding\n",
        "encoded_samples = keras.preprocessing.sequence.pad_sequences(encoded_samples, maxlen=max_words)\n",
        "\n",
        "#encoded_samples = sample_text\n",
        "#print(encoded_samples.shape)\n",
        "# Make predictions\n",
        "label_probs, attentions = model_with_attentions.predict(encoded_samples)\n",
        "label_probs = {id2label[_id]: prob for (label, _id), prob in zip(label2id.items(),label_probs[0])}\n",
        "\n",
        "# Get word attentions using attenion vector\n",
        "token_attention_dic = {}\n",
        "max_score = 0.0\n",
        "min_score = 0.0\n",
        "for token, attention_score in zip(tokenized_sample, attentions[0][-len(tokenized_sample):]):\n",
        "    token_attention_dic[token] = math.sqrt(attention_score)\n",
        "\n",
        "\n",
        "# VISUALIZATION\n",
        "import matplotlib.pyplot as plt; plt.rcdefaults()\n",
        "import numpy as np\n",
        "import matplotlib.pyplot as plt\n",
        "from IPython.core.display import display, HTML\n",
        "\n",
        "def rgb_to_hex(rgb):\n",
        "    return '#%02x%02x%02x' % rgb\n",
        "    \n",
        "def attention2color(attention_score):\n",
        "    r = 255 - int(attention_score * 255)\n",
        "    color = rgb_to_hex((255, r, r))\n",
        "    return str(color)\n",
        "    \n",
        "# Build HTML String to viualize attentions\n",
        "html_text = \"<hr><p style='font-size: large'><b>Text:  </b>\"\n",
        "for token, attention in token_attention_dic.items():\n",
        "    html_text += \"<span style='background-color:{};'>{} <span> \".format(attention2color(attention),\n",
        "                                                                        token)\n",
        "html_text += \"</p>\"\n",
        "# Display text enriched with attention scores \n",
        "display(HTML(html_text))\n",
        "\n",
        "# PLOT EMOTION SCORES\n",
        "emotions = [label for label, _ in label_probs.items()]\n",
        "scores = [score for _, score in label_probs.items()]\n",
        "plt.figure(figsize=(5,2))\n",
        "plt.bar(np.arange(len(emotions)), scores, align='center', alpha=0.5, color=['black', 'red', 'green', 'blue', 'cyan', \"purple\"])\n",
        "plt.xticks(np.arange(len(emotions)), emotions)\n",
        "plt.ylabel('Scores')\n",
        "plt.show()\n"
      ],
      "execution_count": 183,
      "outputs": [
        {
          "output_type": "error",
          "ename": "NameError",
          "evalue": "ignored",
          "traceback": [
            "\u001b[0;31m---------------------------------------------------------------------------\u001b[0m",
            "\u001b[0;31mNameError\u001b[0m                                 Traceback (most recent call last)",
            "\u001b[0;32m<ipython-input-183-70c4927e932e>\u001b[0m in \u001b[0;36m<module>\u001b[0;34m()\u001b[0m\n\u001b[1;32m     18\u001b[0m \u001b[0;31m#print(encoded_samples.shape)\u001b[0m\u001b[0;34m\u001b[0m\u001b[0;34m\u001b[0m\u001b[0;34m\u001b[0m\u001b[0m\n\u001b[1;32m     19\u001b[0m \u001b[0;31m# Make predictions\u001b[0m\u001b[0;34m\u001b[0m\u001b[0;34m\u001b[0m\u001b[0;34m\u001b[0m\u001b[0m\n\u001b[0;32m---> 20\u001b[0;31m \u001b[0mlabel_probs\u001b[0m\u001b[0;34m,\u001b[0m \u001b[0mattentions\u001b[0m \u001b[0;34m=\u001b[0m \u001b[0mmodel_with_attentions\u001b[0m\u001b[0;34m.\u001b[0m\u001b[0mpredict\u001b[0m\u001b[0;34m(\u001b[0m\u001b[0mencoded_samples\u001b[0m\u001b[0;34m)\u001b[0m\u001b[0;34m\u001b[0m\u001b[0;34m\u001b[0m\u001b[0m\n\u001b[0m\u001b[1;32m     21\u001b[0m \u001b[0mlabel_probs\u001b[0m \u001b[0;34m=\u001b[0m \u001b[0;34m{\u001b[0m\u001b[0mid2label\u001b[0m\u001b[0;34m[\u001b[0m\u001b[0m_id\u001b[0m\u001b[0;34m]\u001b[0m\u001b[0;34m:\u001b[0m \u001b[0mprob\u001b[0m \u001b[0;32mfor\u001b[0m \u001b[0;34m(\u001b[0m\u001b[0mlabel\u001b[0m\u001b[0;34m,\u001b[0m \u001b[0m_id\u001b[0m\u001b[0;34m)\u001b[0m\u001b[0;34m,\u001b[0m \u001b[0mprob\u001b[0m \u001b[0;32min\u001b[0m \u001b[0mzip\u001b[0m\u001b[0;34m(\u001b[0m\u001b[0mlabel2id\u001b[0m\u001b[0;34m.\u001b[0m\u001b[0mitems\u001b[0m\u001b[0;34m(\u001b[0m\u001b[0;34m)\u001b[0m\u001b[0;34m,\u001b[0m\u001b[0mlabel_probs\u001b[0m\u001b[0;34m[\u001b[0m\u001b[0;36m0\u001b[0m\u001b[0;34m]\u001b[0m\u001b[0;34m)\u001b[0m\u001b[0;34m}\u001b[0m\u001b[0;34m\u001b[0m\u001b[0;34m\u001b[0m\u001b[0m\n\u001b[1;32m     22\u001b[0m \u001b[0;34m\u001b[0m\u001b[0m\n",
            "\u001b[0;31mNameError\u001b[0m: name 'model_with_attentions' is not defined"
          ]
        }
      ]
    },
    {
      "cell_type": "markdown",
      "metadata": {
        "id": "jn_KAqDW-ee3",
        "colab_type": "text"
      },
      "source": [
        "In case the above chart is hard to see, here is the list of proboabilities showing the likeliness of emotions."
      ]
    },
    {
      "cell_type": "code",
      "metadata": {
        "id": "_l928yZAof8T",
        "colab_type": "code",
        "outputId": "78e2a773-24ec-439a-b490-e00ae6f42693",
        "colab": {
          "base_uri": "https://localhost:8080/",
          "height": 248
        }
      },
      "source": [
        "import operator\n",
        "\n",
        "# create a list of emotion in decending order of their probability \n",
        "emotion_list=[]\n",
        "\n",
        "for  _, emotion in enumerate(label_probs):\n",
        "    temp = [emotion, label_probs[emotion]]\n",
        "    emotion_list.append(temp)\n",
        "\n",
        "sorted(emotion_list, key=operator.itemgetter(1), reverse= True)"
      ],
      "execution_count": 55,
      "outputs": [
        {
          "output_type": "execute_result",
          "data": {
            "text/plain": [
              "[['worry', 0.35792974],\n",
              " ['neutral', 0.260627],\n",
              " ['sadness', 0.226002],\n",
              " ['surprise', 0.09963546],\n",
              " ['hate', 0.024357434],\n",
              " ['empty', 0.013586671],\n",
              " ['love', 0.011085417],\n",
              " ['relief', 0.0026744956],\n",
              " ['boredom', 0.0013502156],\n",
              " ['enthusiasm', 0.0011065771],\n",
              " ['anger', 0.0008735581],\n",
              " ['happiness', 0.00047115175],\n",
              " ['fun', 0.0003002882]]"
            ]
          },
          "metadata": {
            "tags": []
          },
          "execution_count": 55
        }
      ]
    },
    {
      "cell_type": "markdown",
      "metadata": {
        "id": "Qx5FMi7FG6Pd",
        "colab_type": "text"
      },
      "source": [
        "# Serveral gusses of improving the model "
      ]
    },
    {
      "cell_type": "markdown",
      "metadata": {
        "id": "GV5q1KtrHA3f",
        "colab_type": "text"
      },
      "source": [
        "*   half the data with labels of many dataset (not brings a sufficient performance)\n",
        "*   cut out the label with too few dataset\n",
        "*   using sub-wording tokenization\n",
        "*   hyperparameter tuning\n",
        "*   NOT CONVERGE\n",
        "*   model achtecture re-design\n",
        "*   remove stop words (e.g. there, is, a, ...)\n",
        "*   tag name (with prefix '@') removal\n",
        "\n"
      ]
    },
    {
      "cell_type": "code",
      "metadata": {
        "id": "h4KwEZq2TmNK",
        "colab_type": "code",
        "colab": {}
      },
      "source": [
        ""
      ],
      "execution_count": 0,
      "outputs": []
    }
  ]
}