{
  "nbformat": 4,
  "nbformat_minor": 0,
  "metadata": {
    "colab": {
      "name": "Copy of project machine.ipynb",
      "provenance": [],
      "collapsed_sections": [],
      "toc_visible": true,
      "include_colab_link": true
    },
    "kernelspec": {
      "name": "python3",
      "display_name": "Python 3"
    },
    "accelerator": "GPU"
  },
  "cells": [
    {
      "cell_type": "markdown",
      "metadata": {
        "id": "view-in-github",
        "colab_type": "text"
      },
      "source": [
        "<a href=\"https://colab.research.google.com/github/WesleyHung/comp3359-Emotion-Analysis/blob/master/Copy_of_project_machine.ipynb\" target=\"_parent\"><img src=\"https://colab.research.google.com/assets/colab-badge.svg\" alt=\"Open In Colab\"/></a>"
      ]
    },
    {
      "cell_type": "markdown",
      "metadata": {
        "id": "UmNJdnyhcV37",
        "colab_type": "text"
      },
      "source": [
        "# Comp3359 Project\n",
        "# Emotion Analysis AI machine"
      ]
    },
    {
      "cell_type": "markdown",
      "metadata": {
        "id": "n7135-v0chl4",
        "colab_type": "text"
      },
      "source": [
        "\n",
        "Listed some styles of our machine here...\n",
        "*   Text classification\n",
        "*   Supervised learning\n",
        "*   LSTM (Type of RNN)\n",
        "*   Attention Mechanism (encoding/ decoding)\n",
        "\n"
      ]
    },
    {
      "cell_type": "markdown",
      "metadata": {
        "id": "J8pVocC02yYc",
        "colab_type": "text"
      },
      "source": [
        "# Load the data"
      ]
    },
    {
      "cell_type": "code",
      "metadata": {
        "id": "E1HbIW0Ge4oW",
        "colab_type": "code",
        "outputId": "530bc5ce-5df2-4d75-9c8a-185003d597ee",
        "colab": {
          "base_uri": "https://localhost:8080/",
          "height": 55
        }
      },
      "source": [
        "import numpy as np # linear algebra\n",
        "import pandas as pd # data processing, CSV file I/O (e.g. pd.read_csv)\n",
        "import os\n",
        "\n",
        "# Mount Google Drive\n",
        "from google.colab import drive\n",
        "drive.mount('/content/drive')\n",
        "\n",
        "# Specify directory of course materials in Google Drive\n",
        "module_dir = '/content/drive/My Drive/'\n",
        "\n",
        "# Path to data file\n",
        "#I put my dataset in my google drive, you can do so by copying from the sharing file\n",
        "data_path = os.path.join(module_dir, 'text_emotion.csv')    \n",
        "  \n",
        "#Loading the dataset into pandas DataFrame\n",
        "data_df = pd.read_csv(data_path)"
      ],
      "execution_count": 50,
      "outputs": [
        {
          "output_type": "stream",
          "text": [
            "Drive already mounted at /content/drive; to attempt to forcibly remount, call drive.mount(\"/content/drive\", force_remount=True).\n"
          ],
          "name": "stdout"
        }
      ]
    },
    {
      "cell_type": "code",
      "metadata": {
        "id": "b58nK2A-gMqV",
        "colab_type": "code",
        "outputId": "5f1f938d-a83e-4dd7-c465-f04d8ab933e4",
        "colab": {
          "base_uri": "https://localhost:8080/",
          "height": 332
        }
      },
      "source": [
        "# Plot label histogram\n",
        "data_df.sentiment.value_counts().plot.bar()"
      ],
      "execution_count": 51,
      "outputs": [
        {
          "output_type": "execute_result",
          "data": {
            "text/plain": [
              "<matplotlib.axes._subplots.AxesSubplot at 0x7f717f787c18>"
            ]
          },
          "metadata": {
            "tags": []
          },
          "execution_count": 51
        },
        {
          "output_type": "display_data",
          "data": {
            "image/png": "[encoded data removed]",
            "text/plain": [
              "<Figure size 432x288 with 1 Axes>"
            ]
          },
          "metadata": {
            "tags": [],
            "needs_background": "light"
          }
        }
      ]
    },
    {
      "cell_type": "code",
      "metadata": {
        "id": "ouF2RQ143mps",
        "colab_type": "code",
        "outputId": "7793ec43-44eb-45fb-b3c7-5008d9a75396",
        "colab": {
          "base_uri": "https://localhost:8080/",
          "height": 399
        }
      },
      "source": [
        "data_df"
      ],
      "execution_count": 52,
      "outputs": [
        {
          "output_type": "execute_result",
          "data": {
            "text/html": [
              "<div>\n",
              "<style scoped>\n",
              "    .dataframe tbody tr th:only-of-type {\n",
              "        vertical-align: middle;\n",
              "    }\n",
              "\n",
              "    .dataframe tbody tr th {\n",
              "        vertical-align: top;\n",
              "    }\n",
              "\n",
              "    .dataframe thead th {\n",
              "        text-align: right;\n",
              "    }\n",
              "</style>\n",
              "<table border=\"1\" class=\"dataframe\">\n",
              "  <thead>\n",
              "    <tr style=\"text-align: right;\">\n",
              "      <th></th>\n",
              "      <th>tweet_id</th>\n",
              "      <th>sentiment</th>\n",
              "      <th>author</th>\n",
              "      <th>content</th>\n",
              "    </tr>\n",
              "  </thead>\n",
              "  <tbody>\n",
              "    <tr>\n",
              "      <th>0</th>\n",
              "      <td>1956967341</td>\n",
              "      <td>empty</td>\n",
              "      <td>xoshayzers</td>\n",
              "      <td>@tiffanylue i know  i was listenin to bad habi...</td>\n",
              "    </tr>\n",
              "    <tr>\n",
              "      <th>1</th>\n",
              "      <td>1956967666</td>\n",
              "      <td>sadness</td>\n",
              "      <td>wannamama</td>\n",
              "      <td>Layin n bed with a headache  ughhhh...waitin o...</td>\n",
              "    </tr>\n",
              "    <tr>\n",
              "      <th>2</th>\n",
              "      <td>1956967696</td>\n",
              "      <td>sadness</td>\n",
              "      <td>coolfunky</td>\n",
              "      <td>Funeral ceremony...gloomy friday...</td>\n",
              "    </tr>\n",
              "    <tr>\n",
              "      <th>3</th>\n",
              "      <td>1956967789</td>\n",
              "      <td>enthusiasm</td>\n",
              "      <td>czareaquino</td>\n",
              "      <td>wants to hang out with friends SOON!</td>\n",
              "    </tr>\n",
              "    <tr>\n",
              "      <th>4</th>\n",
              "      <td>1956968416</td>\n",
              "      <td>neutral</td>\n",
              "      <td>xkilljoyx</td>\n",
              "      <td>@dannycastillo We want to trade with someone w...</td>\n",
              "    </tr>\n",
              "    <tr>\n",
              "      <th>...</th>\n",
              "      <td>...</td>\n",
              "      <td>...</td>\n",
              "      <td>...</td>\n",
              "      <td>...</td>\n",
              "    </tr>\n",
              "    <tr>\n",
              "      <th>39995</th>\n",
              "      <td>1753918954</td>\n",
              "      <td>neutral</td>\n",
              "      <td>showMe_Heaven</td>\n",
              "      <td>@JohnLloydTaylor</td>\n",
              "    </tr>\n",
              "    <tr>\n",
              "      <th>39996</th>\n",
              "      <td>1753919001</td>\n",
              "      <td>love</td>\n",
              "      <td>drapeaux</td>\n",
              "      <td>Happy Mothers Day  All my love</td>\n",
              "    </tr>\n",
              "    <tr>\n",
              "      <th>39997</th>\n",
              "      <td>1753919005</td>\n",
              "      <td>love</td>\n",
              "      <td>JenniRox</td>\n",
              "      <td>Happy Mother's Day to all the mommies out ther...</td>\n",
              "    </tr>\n",
              "    <tr>\n",
              "      <th>39998</th>\n",
              "      <td>1753919043</td>\n",
              "      <td>happiness</td>\n",
              "      <td>ipdaman1</td>\n",
              "      <td>@niariley WASSUP BEAUTIFUL!!! FOLLOW ME!!  PEE...</td>\n",
              "    </tr>\n",
              "    <tr>\n",
              "      <th>39999</th>\n",
              "      <td>1753919049</td>\n",
              "      <td>love</td>\n",
              "      <td>Alpharalpha</td>\n",
              "      <td>@mopedronin bullet train from tokyo    the gf ...</td>\n",
              "    </tr>\n",
              "  </tbody>\n",
              "</table>\n",
              "<p>40000 rows × 4 columns</p>\n",
              "</div>"
            ],
            "text/plain": [
              "         tweet_id  ...                                            content\n",
              "0      1956967341  ...  @tiffanylue i know  i was listenin to bad habi...\n",
              "1      1956967666  ...  Layin n bed with a headache  ughhhh...waitin o...\n",
              "2      1956967696  ...                Funeral ceremony...gloomy friday...\n",
              "3      1956967789  ...               wants to hang out with friends SOON!\n",
              "4      1956968416  ...  @dannycastillo We want to trade with someone w...\n",
              "...           ...  ...                                                ...\n",
              "39995  1753918954  ...                                   @JohnLloydTaylor\n",
              "39996  1753919001  ...                     Happy Mothers Day  All my love\n",
              "39997  1753919005  ...  Happy Mother's Day to all the mommies out ther...\n",
              "39998  1753919043  ...  @niariley WASSUP BEAUTIFUL!!! FOLLOW ME!!  PEE...\n",
              "39999  1753919049  ...  @mopedronin bullet train from tokyo    the gf ...\n",
              "\n",
              "[40000 rows x 4 columns]"
            ]
          },
          "metadata": {
            "tags": []
          },
          "execution_count": 52
        }
      ]
    },
    {
      "cell_type": "markdown",
      "metadata": {
        "id": "A2DdEQbM_Tfm",
        "colab_type": "text"
      },
      "source": [
        "Taking the only useful features"
      ]
    },
    {
      "cell_type": "code",
      "metadata": {
        "id": "xnkObufj_OSr",
        "colab_type": "code",
        "outputId": "323cee9d-d446-4f4a-d122-390d0b95ccf5",
        "colab": {
          "base_uri": "https://localhost:8080/",
          "height": 399
        }
      },
      "source": [
        "data_df = data_df[['sentiment', 'content']]\n",
        "data_df"
      ],
      "execution_count": 53,
      "outputs": [
        {
          "output_type": "execute_result",
          "data": {
            "text/html": [
              "<div>\n",
              "<style scoped>\n",
              "    .dataframe tbody tr th:only-of-type {\n",
              "        vertical-align: middle;\n",
              "    }\n",
              "\n",
              "    .dataframe tbody tr th {\n",
              "        vertical-align: top;\n",
              "    }\n",
              "\n",
              "    .dataframe thead th {\n",
              "        text-align: right;\n",
              "    }\n",
              "</style>\n",
              "<table border=\"1\" class=\"dataframe\">\n",
              "  <thead>\n",
              "    <tr style=\"text-align: right;\">\n",
              "      <th></th>\n",
              "      <th>sentiment</th>\n",
              "      <th>content</th>\n",
              "    </tr>\n",
              "  </thead>\n",
              "  <tbody>\n",
              "    <tr>\n",
              "      <th>0</th>\n",
              "      <td>empty</td>\n",
              "      <td>@tiffanylue i know  i was listenin to bad habi...</td>\n",
              "    </tr>\n",
              "    <tr>\n",
              "      <th>1</th>\n",
              "      <td>sadness</td>\n",
              "      <td>Layin n bed with a headache  ughhhh...waitin o...</td>\n",
              "    </tr>\n",
              "    <tr>\n",
              "      <th>2</th>\n",
              "      <td>sadness</td>\n",
              "      <td>Funeral ceremony...gloomy friday...</td>\n",
              "    </tr>\n",
              "    <tr>\n",
              "      <th>3</th>\n",
              "      <td>enthusiasm</td>\n",
              "      <td>wants to hang out with friends SOON!</td>\n",
              "    </tr>\n",
              "    <tr>\n",
              "      <th>4</th>\n",
              "      <td>neutral</td>\n",
              "      <td>@dannycastillo We want to trade with someone w...</td>\n",
              "    </tr>\n",
              "    <tr>\n",
              "      <th>...</th>\n",
              "      <td>...</td>\n",
              "      <td>...</td>\n",
              "    </tr>\n",
              "    <tr>\n",
              "      <th>39995</th>\n",
              "      <td>neutral</td>\n",
              "      <td>@JohnLloydTaylor</td>\n",
              "    </tr>\n",
              "    <tr>\n",
              "      <th>39996</th>\n",
              "      <td>love</td>\n",
              "      <td>Happy Mothers Day  All my love</td>\n",
              "    </tr>\n",
              "    <tr>\n",
              "      <th>39997</th>\n",
              "      <td>love</td>\n",
              "      <td>Happy Mother's Day to all the mommies out ther...</td>\n",
              "    </tr>\n",
              "    <tr>\n",
              "      <th>39998</th>\n",
              "      <td>happiness</td>\n",
              "      <td>@niariley WASSUP BEAUTIFUL!!! FOLLOW ME!!  PEE...</td>\n",
              "    </tr>\n",
              "    <tr>\n",
              "      <th>39999</th>\n",
              "      <td>love</td>\n",
              "      <td>@mopedronin bullet train from tokyo    the gf ...</td>\n",
              "    </tr>\n",
              "  </tbody>\n",
              "</table>\n",
              "<p>40000 rows × 2 columns</p>\n",
              "</div>"
            ],
            "text/plain": [
              "        sentiment                                            content\n",
              "0           empty  @tiffanylue i know  i was listenin to bad habi...\n",
              "1         sadness  Layin n bed with a headache  ughhhh...waitin o...\n",
              "2         sadness                Funeral ceremony...gloomy friday...\n",
              "3      enthusiasm               wants to hang out with friends SOON!\n",
              "4         neutral  @dannycastillo We want to trade with someone w...\n",
              "...           ...                                                ...\n",
              "39995     neutral                                   @JohnLloydTaylor\n",
              "39996        love                     Happy Mothers Day  All my love\n",
              "39997        love  Happy Mother's Day to all the mommies out ther...\n",
              "39998   happiness  @niariley WASSUP BEAUTIFUL!!! FOLLOW ME!!  PEE...\n",
              "39999        love  @mopedronin bullet train from tokyo    the gf ...\n",
              "\n",
              "[40000 rows x 2 columns]"
            ]
          },
          "metadata": {
            "tags": []
          },
          "execution_count": 53
        }
      ]
    },
    {
      "cell_type": "markdown",
      "metadata": {
        "id": "a6Mo3Kmi2tIm",
        "colab_type": "text"
      },
      "source": [
        "# Separate Training/Test Dataset"
      ]
    },
    {
      "cell_type": "markdown",
      "metadata": {
        "id": "UJuAIRoV3Hkq",
        "colab_type": "text"
      },
      "source": [
        "## Global variable"
      ]
    },
    {
      "cell_type": "code",
      "metadata": {
        "id": "COz5y71e3Kv1",
        "colab_type": "code",
        "colab": {}
      },
      "source": [
        "# Random seed for all random process we will use.\n",
        "RAND_SEED = 3359\n",
        "# Size of training dataset (the rest, i.e., 20%,  will be test data)\n",
        "TRAIN_SIZE = 0.8"
      ],
      "execution_count": 0,
      "outputs": []
    },
    {
      "cell_type": "markdown",
      "metadata": {
        "id": "0yuCmVji3Ov1",
        "colab_type": "text"
      },
      "source": [
        "## Seperate dataset"
      ]
    },
    {
      "cell_type": "code",
      "metadata": {
        "id": "KW6eozgY21ae",
        "colab_type": "code",
        "outputId": "4894c35a-897f-4a47-c57b-b23728f329fd",
        "colab": {
          "base_uri": "https://localhost:8080/",
          "height": 194
        }
      },
      "source": [
        "all_idx = list(range(len(data_df)))\n",
        "\n",
        "# Shuffle the list of indices\n",
        "import random\n",
        "random.seed(RAND_SEED)\n",
        "random.shuffle(all_idx)\n",
        "\n",
        "# Split the random indices into two portion according \n",
        "# to the training size defined\n",
        "p = int(len(data_df) * TRAIN_SIZE)\n",
        "train_idx = all_idx[:p]\n",
        "test_idx = all_idx[p:]\n",
        "\n",
        "# Now, retrieve training/test data records from data_df \n",
        "# according to the indices we prepared in train_idx and test_idx\n",
        "train_df = data_df.iloc[train_idx]\n",
        "test_df = data_df.iloc[test_idx]\n",
        "\n",
        "# However, since the original indices from data_df will be attached to \n",
        "# the retrieved records in train_df and test_df,\n",
        "# we need to reset index so indices in train_df/test_df will start from 0 as usual\n",
        "train_df = train_df.reset_index()\n",
        "test_df = test_df.reset_index()\n",
        "\n",
        "# Drop the automatically created \"index\" column\n",
        "train_df = train_df.drop(['index'], axis=1)\n",
        "test_df = test_df.drop(['index'], axis=1)\n",
        "\n",
        "test_df.head()"
      ],
      "execution_count": 80,
      "outputs": [
        {
          "output_type": "execute_result",
          "data": {
            "text/html": [
              "<div>\n",
              "<style scoped>\n",
              "    .dataframe tbody tr th:only-of-type {\n",
              "        vertical-align: middle;\n",
              "    }\n",
              "\n",
              "    .dataframe tbody tr th {\n",
              "        vertical-align: top;\n",
              "    }\n",
              "\n",
              "    .dataframe thead th {\n",
              "        text-align: right;\n",
              "    }\n",
              "</style>\n",
              "<table border=\"1\" class=\"dataframe\">\n",
              "  <thead>\n",
              "    <tr style=\"text-align: right;\">\n",
              "      <th></th>\n",
              "      <th>sentiment</th>\n",
              "      <th>content</th>\n",
              "    </tr>\n",
              "  </thead>\n",
              "  <tbody>\n",
              "    <tr>\n",
              "      <th>0</th>\n",
              "      <td>love</td>\n",
              "      <td>@nomaez hey man, thanks for twitting for twitt...</td>\n",
              "    </tr>\n",
              "    <tr>\n",
              "      <th>1</th>\n",
              "      <td>enthusiasm</td>\n",
              "      <td>add me on myspace?? www.myspace.com/pwnage_org...</td>\n",
              "    </tr>\n",
              "    <tr>\n",
              "      <th>2</th>\n",
              "      <td>sadness</td>\n",
              "      <td>Almost made it to reading comedy outlet. Headl...</td>\n",
              "    </tr>\n",
              "    <tr>\n",
              "      <th>3</th>\n",
              "      <td>neutral</td>\n",
              "      <td>@Mira_Brody What is BF ? Is it a glue ?</td>\n",
              "    </tr>\n",
              "    <tr>\n",
              "      <th>4</th>\n",
              "      <td>worry</td>\n",
              "      <td>It appears I'm going home tomorrow...and it's ...</td>\n",
              "    </tr>\n",
              "  </tbody>\n",
              "</table>\n",
              "</div>"
            ],
            "text/plain": [
              "    sentiment                                            content\n",
              "0        love  @nomaez hey man, thanks for twitting for twitt...\n",
              "1  enthusiasm  add me on myspace?? www.myspace.com/pwnage_org...\n",
              "2     sadness  Almost made it to reading comedy outlet. Headl...\n",
              "3     neutral            @Mira_Brody What is BF ? Is it a glue ?\n",
              "4       worry  It appears I'm going home tomorrow...and it's ..."
            ]
          },
          "metadata": {
            "tags": []
          },
          "execution_count": 80
        }
      ]
    },
    {
      "cell_type": "markdown",
      "metadata": {
        "id": "BBgdPBdziF-B",
        "colab_type": "text"
      },
      "source": [
        "# Preprossesing the data"
      ]
    },
    {
      "cell_type": "markdown",
      "metadata": {
        "id": "8BMjuHeFiOog",
        "colab_type": "text"
      },
      "source": [
        "## Label the emotions as target"
      ]
    },
    {
      "cell_type": "code",
      "metadata": {
        "id": "X_9xLKNFiK66",
        "colab_type": "code",
        "colab": {}
      },
      "source": [
        "labels = train_df[\"sentiment\"].values.tolist()\n",
        "val_labels = test_df[\"sentiment\"].values.tolist()"
      ],
      "execution_count": 0,
      "outputs": []
    },
    {
      "cell_type": "markdown",
      "metadata": {
        "id": "h0ggDCX6ioMr",
        "colab_type": "text"
      },
      "source": [
        "## Creating list of emotions"
      ]
    },
    {
      "cell_type": "code",
      "metadata": {
        "id": "ICTXypj8GHS3",
        "colab_type": "code",
        "outputId": "7acb3ad0-55b8-45e0-dad2-3b0536140f30",
        "colab": {
          "base_uri": "https://localhost:8080/",
          "height": 72
        }
      },
      "source": [
        "label2id = dict()\n",
        "label2id = {l: i for i, l in enumerate(set(labels))}\n",
        "print(label2id)\n",
        "id2label = {v: k for k, v in label2id.items()}\n",
        "print(id2label)"
      ],
      "execution_count": 57,
      "outputs": [
        {
          "output_type": "stream",
          "text": [
            "{'boredom': 0, 'anger': 1, 'sadness': 2, 'neutral': 3, 'fun': 4, 'surprise': 5, 'worry': 6, 'empty': 7, 'enthusiasm': 8, 'love': 9, 'relief': 10, 'hate': 11, 'happiness': 12}\n",
            "{0: 'boredom', 1: 'anger', 2: 'sadness', 3: 'neutral', 4: 'fun', 5: 'surprise', 6: 'worry', 7: 'empty', 8: 'enthusiasm', 9: 'love', 10: 'relief', 11: 'hate', 12: 'happiness'}\n"
          ],
          "name": "stdout"
        }
      ]
    },
    {
      "cell_type": "markdown",
      "metadata": {
        "id": "9WMbTT_GICmz",
        "colab_type": "text"
      },
      "source": [
        "the following codes are refernce from kaggle, it can be ignored."
      ]
    },
    {
      "cell_type": "code",
      "metadata": {
        "id": "9Ry3-qR7irW7",
        "colab_type": "code",
        "outputId": "732469d2-bd4d-410a-9929-7e4283c45b15",
        "colab": {
          "base_uri": "https://localhost:8080/",
          "height": 55
        }
      },
      "source": [
        "\"\"\"\n",
        "# Initialize word2id and label2id dictionaries that will be used to encode words and labels\n",
        "word2id = dict()\n",
        "\n",
        "\n",
        "max_words = 0 # maximum number of words in a sentence\n",
        "\n",
        "# Construction of word2id dict\n",
        "for sentence in input_sentences:\n",
        "    for word in sentence:\n",
        "        # Add words to word2id dict if not exist\n",
        "        if word not in word2id:\n",
        "            word2id[word] = len(word2id)\n",
        "    # If length of the sentence is greater than max_words, update max_words\n",
        "    if len(sentence) > max_words:\n",
        "        max_words = len(sentence)\n",
        "    \n",
        "# Construction of label2id and id2label dicts\n",
        "label2id = {l: i for i, l in enumerate(set(labels))}\n",
        "id2label = {v: k for k, v in label2id.items()}\n",
        "id2word = {v: k for k, v in word2id.items()}\n",
        "id2word\n",
        "\"\"\""
      ],
      "execution_count": 58,
      "outputs": [
        {
          "output_type": "execute_result",
          "data": {
            "text/plain": [
              "'\\n# Initialize word2id and label2id dictionaries that will be used to encode words and labels\\nword2id = dict()\\n\\n\\nmax_words = 0 # maximum number of words in a sentence\\n\\n# Construction of word2id dict\\nfor sentence in input_sentences:\\n    for word in sentence:\\n        # Add words to word2id dict if not exist\\n        if word not in word2id:\\n            word2id[word] = len(word2id)\\n    # If length of the sentence is greater than max_words, update max_words\\n    if len(sentence) > max_words:\\n        max_words = len(sentence)\\n    \\n# Construction of label2id and id2label dicts\\nlabel2id = {l: i for i, l in enumerate(set(labels))}\\nid2label = {v: k for k, v in label2id.items()}\\nid2word = {v: k for k, v in word2id.items()}\\nid2word\\n'"
            ]
          },
          "metadata": {
            "tags": []
          },
          "execution_count": 58
        }
      ]
    },
    {
      "cell_type": "markdown",
      "metadata": {
        "id": "1O57C_J6kCON",
        "colab_type": "text"
      },
      "source": [
        "# Applying byte pair encoding to word segmentation"
      ]
    },
    {
      "cell_type": "code",
      "metadata": {
        "id": "eVx_Z0K2kAx4",
        "colab_type": "code",
        "outputId": "c5e0b394-30cc-4046-9a8a-6240c52c1fef",
        "colab": {
          "base_uri": "https://localhost:8080/",
          "height": 35
        }
      },
      "source": [
        "# we use the folowwing module for word segmentation\n",
        "!pip install subword-nmt\n",
        "\"\"\"\n",
        "bpe_dir = \"/content/drive/My Drive/Colab Notebooks/wmt16_en_de.tar/\"\n",
        "codes = 'bpe.32000'\n",
        "codes_file_path = os.path.join(bpe_dir, codes)\n",
        "\"\"\""
      ],
      "execution_count": 59,
      "outputs": [
        {
          "output_type": "stream",
          "text": [
            "Requirement already satisfied: subword-nmt in /usr/local/lib/python3.6/dist-packages (0.3.7)\n"
          ],
          "name": "stdout"
        }
      ]
    },
    {
      "cell_type": "code",
      "metadata": {
        "id": "2ZVm0fcImS98",
        "colab_type": "code",
        "colab": {}
      },
      "source": [
        "#extract the 'content' data as we only need the content to be segmented\n",
        "train_df_content = train_df['content']\n",
        "test_df_content = test_df['content']\n",
        "\n",
        "f_train = open(\"train_content.txt\", \"a\")\n",
        "f_train.write('bpe_content\\n')  # make a name for the data\n",
        "\n",
        "f_test = open(\"test_content.txt\", \"a\")\n",
        "f_test.write('bpe_content\\n')   # make a name for the data\n",
        "\n",
        "for content in train_df_content:\n",
        "  f_train.write(content + '\\n')\n",
        "\n",
        "for content in test_df_content:\n",
        "  f_test.write(content + '\\n')\n",
        "\n",
        "f_train.close()\n",
        "f_test.close()"
      ],
      "execution_count": 0,
      "outputs": []
    },
    {
      "cell_type": "code",
      "metadata": {
        "id": "tMbWtdnel7cv",
        "colab_type": "code",
        "colab": {}
      },
      "source": [
        "num_operations=10000\n",
        "\n",
        "codes_file = '/content/bpe.32000'\n",
        "train_df_content = '/content/train_content.txt'\n",
        "test_df_content = '/content/test_content.txt'\n",
        "\n",
        "bpe_train_df_content = '/content/bpe_train_df_content.txt'\n",
        "bpe_test_df_content = '/content/bpe_test_df_content.txt'"
      ],
      "execution_count": 0,
      "outputs": []
    },
    {
      "cell_type": "code",
      "metadata": {
        "id": "g7slelc-loQF",
        "colab_type": "code",
        "colab": {}
      },
      "source": [
        "#start BPE word segmentation\n",
        "!subword-nmt apply-bpe -c {codes_file} < {train_df_content} > {bpe_train_df_content}\n",
        "!subword-nmt apply-bpe -c {codes_file} < {test_df_content} > {bpe_test_df_content}"
      ],
      "execution_count": 0,
      "outputs": []
    },
    {
      "cell_type": "code",
      "metadata": {
        "id": "zVgQ-iJL4j1k",
        "colab_type": "code",
        "colab": {}
      },
      "source": [
        "# convert .txt format back to .csv format\n",
        "bpe_train_content_df = pd.read_fwf('bpe_train_df_content.txt')\n",
        "#nmu_train_content_df.to_csv('nmu_train_df_content.csv')\n",
        "\n",
        "bpe_test_content_df = pd.read_fwf('bpe_test_df_content.txt')\n",
        "#nmu_test_content_df.to_csv('nmu_test_df_content.csv')\n",
        "\n",
        "\n",
        "#merge them back to dataframe format\n",
        "train_df['bpe_content'] = bpe_train_content_df\n",
        "test_df['bpe_content'] = bpe_test_content_df"
      ],
      "execution_count": 0,
      "outputs": []
    },
    {
      "cell_type": "code",
      "metadata": {
        "id": "ViA18qzCE8H8",
        "colab_type": "code",
        "colab": {
          "base_uri": "https://localhost:8080/",
          "height": 517
        },
        "outputId": "de537ab4-8dfc-470f-b2c2-bf56ac8615ad"
      },
      "source": [
        "train_df"
      ],
      "execution_count": 97,
      "outputs": [
        {
          "output_type": "execute_result",
          "data": {
            "text/html": [
              "<div>\n",
              "<style scoped>\n",
              "    .dataframe tbody tr th:only-of-type {\n",
              "        vertical-align: middle;\n",
              "    }\n",
              "\n",
              "    .dataframe tbody tr th {\n",
              "        vertical-align: top;\n",
              "    }\n",
              "\n",
              "    .dataframe thead th {\n",
              "        text-align: right;\n",
              "    }\n",
              "</style>\n",
              "<table border=\"1\" class=\"dataframe\">\n",
              "  <thead>\n",
              "    <tr style=\"text-align: right;\">\n",
              "      <th></th>\n",
              "      <th>sentiment</th>\n",
              "      <th>content</th>\n",
              "      <th>bpe_content</th>\n",
              "    </tr>\n",
              "  </thead>\n",
              "  <tbody>\n",
              "    <tr>\n",
              "      <th>0</th>\n",
              "      <td>enthusiasm</td>\n",
              "      <td>@LeslieCraig haha maybe someday I will be your...</td>\n",
              "      <td>@@@ Les@@ lie@@ Cra@@ ig ha@@ ha maybe som@@ e...</td>\n",
              "    </tr>\n",
              "    <tr>\n",
              "      <th>1</th>\n",
              "      <td>happiness</td>\n",
              "      <td>Skipping school like all the cool kids do</td>\n",
              "      <td>Ski@@ pping school like all the cool kids do</td>\n",
              "    </tr>\n",
              "    <tr>\n",
              "      <th>2</th>\n",
              "      <td>worry</td>\n",
              "      <td>missing cat makes me sad</td>\n",
              "      <td>missing cat makes me sad</td>\n",
              "    </tr>\n",
              "    <tr>\n",
              "      <th>3</th>\n",
              "      <td>neutral</td>\n",
              "      <td>@lisamh77 Concord &amp;amp; Irvine, CA only. That'...</td>\n",
              "      <td>@@@ li@@ sam@@ h@@ 77 Con@@ cor@@ d &amp;amp; Ir@@...</td>\n",
              "    </tr>\n",
              "    <tr>\n",
              "      <th>4</th>\n",
              "      <td>love</td>\n",
              "      <td>@steph1985 Bye  Btw, you like Simple Plan, Hoo...</td>\n",
              "      <td>@@@ st@@ eph@@ 1985 B@@ ye B@@ tw@@ , you like...</td>\n",
              "    </tr>\n",
              "    <tr>\n",
              "      <th>...</th>\n",
              "      <td>...</td>\n",
              "      <td>...</td>\n",
              "      <td>...</td>\n",
              "    </tr>\n",
              "    <tr>\n",
              "      <th>31995</th>\n",
              "      <td>love</td>\n",
              "      <td>@manoyjoe: thanks. happy mother's day to your ...</td>\n",
              "      <td>@@@ man@@ o@@ y@@ jo@@ e@@ : than@@ ks@@ . hap...</td>\n",
              "    </tr>\n",
              "    <tr>\n",
              "      <th>31996</th>\n",
              "      <td>empty</td>\n",
              "      <td>I jus dropped my dog  and im tall.</td>\n",
              "      <td>I j@@ us dropped my dog and im t@@ all@@ .</td>\n",
              "    </tr>\n",
              "    <tr>\n",
              "      <th>31997</th>\n",
              "      <td>love</td>\n",
              "      <td>@gio511 We should have a twitter reunion it wo...</td>\n",
              "      <td>@@@ gi@@ o@@ 5@@ 11 We should have a twi@@ tte...</td>\n",
              "    </tr>\n",
              "    <tr>\n",
              "      <th>31998</th>\n",
              "      <td>worry</td>\n",
              "      <td>@positron76 You have to come to Chile... with ...</td>\n",
              "      <td>@@@ posi@@ tron@@ 76 You have to come to Chi@@...</td>\n",
              "    </tr>\n",
              "    <tr>\n",
              "      <th>31999</th>\n",
              "      <td>fun</td>\n",
              "      <td>@Rick_Tarrant nice! It's mommas day</td>\n",
              "      <td>@@@ R@@ ick@@ _@@ Tar@@ rant ni@@ ce@@ ! It@@ ...</td>\n",
              "    </tr>\n",
              "  </tbody>\n",
              "</table>\n",
              "<p>32000 rows × 3 columns</p>\n",
              "</div>"
            ],
            "text/plain": [
              "        sentiment  ...                                        bpe_content\n",
              "0      enthusiasm  ...  @@@ Les@@ lie@@ Cra@@ ig ha@@ ha maybe som@@ e...\n",
              "1       happiness  ...       Ski@@ pping school like all the cool kids do\n",
              "2           worry  ...                           missing cat makes me sad\n",
              "3         neutral  ...  @@@ li@@ sam@@ h@@ 77 Con@@ cor@@ d &amp; Ir@@...\n",
              "4            love  ...  @@@ st@@ eph@@ 1985 B@@ ye B@@ tw@@ , you like...\n",
              "...           ...  ...                                                ...\n",
              "31995        love  ...  @@@ man@@ o@@ y@@ jo@@ e@@ : than@@ ks@@ . hap...\n",
              "31996       empty  ...         I j@@ us dropped my dog and im t@@ all@@ .\n",
              "31997        love  ...  @@@ gi@@ o@@ 5@@ 11 We should have a twi@@ tte...\n",
              "31998       worry  ...  @@@ posi@@ tron@@ 76 You have to come to Chi@@...\n",
              "31999         fun  ...  @@@ R@@ ick@@ _@@ Tar@@ rant ni@@ ce@@ ! It@@ ...\n",
              "\n",
              "[32000 rows x 3 columns]"
            ]
          },
          "metadata": {
            "tags": []
          },
          "execution_count": 97
        }
      ]
    },
    {
      "cell_type": "markdown",
      "metadata": {
        "id": "SdfpPzYqkFAV",
        "colab_type": "text"
      },
      "source": [
        "## Encoding labels with corresponing integer values"
      ]
    },
    {
      "cell_type": "code",
      "metadata": {
        "id": "mfVFsdBWj7OL",
        "colab_type": "code",
        "outputId": "9c222adb-4a58-4eb6-c92f-a5a132949f71",
        "colab": {
          "base_uri": "https://localhost:8080/",
          "height": 50
        }
      },
      "source": [
        "#reference to the online material\n",
        "import keras\n",
        "\n",
        "# Encode input words and labels\n",
        "\"\"\"X = [[word2id[word] for word in sentence] for sentence in input_sentences]\"\"\"\n",
        "Y = [label2id[label] for label in labels]\n",
        "val_Y = [label2id[label] for label in val_labels]\n",
        "\n",
        "# Apply Padding to X\n",
        "from keras.preprocessing.sequence import pad_sequences\n",
        "\"\"\"X = pad_sequences(X, max_words)\"\"\"\n",
        "\n",
        "# Convert Y to numpy array\n",
        "Y = keras.utils.to_categorical(Y, num_classes=len(label2id), dtype='float32')\n",
        "val_Y = keras.utils.to_categorical(val_Y, num_classes=len(label2id), dtype='float32')\n",
        "# Print shapes\n",
        "\"\"\"print(\"Shape of X: {}\".format(X.shape))\"\"\"\n",
        "print(\"Shape of Y: {}\".format(Y.shape))\n",
        "print(\"Shape of val_Y: {}\".format(val_Y.shape))"
      ],
      "execution_count": 0,
      "outputs": [
        {
          "output_type": "stream",
          "text": [
            "Shape of Y: (32000, 13)\n",
            "Shape of val_Y: (8000, 13)\n"
          ],
          "name": "stdout"
        }
      ]
    },
    {
      "cell_type": "markdown",
      "metadata": {
        "id": "IoWDUFfS5DvW",
        "colab_type": "text"
      },
      "source": [
        "## Encoding the training dataset and validation dataset"
      ]
    },
    {
      "cell_type": "code",
      "metadata": {
        "id": "cAcayg230N9U",
        "colab_type": "code",
        "colab": {}
      },
      "source": [
        "from tensorflow.python.keras.preprocessing import sequence\n",
        "from tensorflow.python.keras.preprocessing import text\n",
        "\n",
        "# Vectorization parameters\n",
        "# Limit on the number of features. We use the top 20K features.\n",
        "TOP_K = 20000\n",
        "\n",
        "# Limit on the length of text sequences. Sequences longer than this\n",
        "# will be truncated.\n",
        "MAX_SEQUENCE_LENGTH = 500\n",
        "\n",
        "def sequence_vectorize(train_texts, val_texts):\n",
        "    \"\"\"Vectorizes texts as sequence vectors.\n",
        "\n",
        "    1 text = 1 sequence vector with fixed length.\n",
        "\n",
        "    # Arguments\n",
        "        train_texts: list, training text strings.\n",
        "        val_texts: list, validation text strings.\n",
        "\n",
        "    # Returns\n",
        "        x_train, x_val, word_index: vectorized training and validation\n",
        "            texts and word index dictionary.\n",
        "    \"\"\"\n",
        "    # Create vocabulary with training texts.\n",
        "    tokenizer = text.Tokenizer(num_words=TOP_K)\n",
        "    tokenizer.fit_on_texts(train_texts)\n",
        "\n",
        "    # Vectorize training and validation texts.\n",
        "    x_train = tokenizer.texts_to_sequences(train_texts)\n",
        "    x_val = tokenizer.texts_to_sequences(val_texts)\n",
        "\n",
        "    # Get max sequence length.\n",
        "    max_length = len(max(x_train, key=len))\n",
        "    \n",
        "    if max_length > MAX_SEQUENCE_LENGTH:\n",
        "      max_length = MAX_SEQUENCE_LENGTH\n",
        "    \n",
        "    # Fix sequence length to max value. Sequences shorter than the length are\n",
        "    # padded in the beginning and sequences longer are truncated\n",
        "    # at the beginning.\n",
        "    x_train = sequence.pad_sequences(x_train, maxlen=max_length)\n",
        "    x_val = sequence.pad_sequences(x_val, maxlen=max_length)\n",
        "    return x_train, x_val, tokenizer.word_index, max_length"
      ],
      "execution_count": 0,
      "outputs": []
    },
    {
      "cell_type": "code",
      "metadata": {
        "id": "tjO_UdV_1Wi5",
        "colab_type": "code",
        "colab": {}
      },
      "source": [
        "train, val, word_index, max_words = sequence_vectorize(train_df['content'], test_df['content'])"
      ],
      "execution_count": 0,
      "outputs": []
    },
    {
      "cell_type": "markdown",
      "metadata": {
        "id": "_GGEhMigkfJ-",
        "colab_type": "text"
      },
      "source": [
        "# Build LSTM model with attention"
      ]
    },
    {
      "cell_type": "code",
      "metadata": {
        "id": "E0ExrvW5kV-B",
        "colab_type": "code",
        "outputId": "9f242f3f-c134-4bcc-ce96-f6ec1f0a5b87",
        "colab": {
          "base_uri": "https://localhost:8080/",
          "height": 538
        }
      },
      "source": [
        "embedding_dim = 100 # The dimension of word embeddings\n",
        "\n",
        "# Define input tensor\n",
        "sequence_input = keras.Input(shape=(max_words,), dtype='int32')\n",
        "\n",
        "# Word embedding layer\n",
        "embedded_inputs =keras.layers.Embedding(len(train) + 1,\n",
        "                                        embedding_dim,\n",
        "                                        input_length=max_words)(sequence_input)\n",
        "\n",
        "# Apply dropout to prevent overfitting\n",
        "embedded_inputs = keras.layers.Dropout(0.2)(embedded_inputs)\n",
        "\n",
        "# Apply Bidirectional LSTM over embedded inputs\n",
        "lstm_outs = keras.layers.wrappers.Bidirectional(\n",
        "    keras.layers.LSTM(embedding_dim, return_sequences=True)\n",
        ")(embedded_inputs)\n",
        "\n",
        "# Apply dropout to LSTM outputs to prevent overfitting\n",
        "lstm_outs = keras.layers.Dropout(0.2)(lstm_outs)\n",
        "\n",
        "# Attention Mechanism - Generate attention vectors\n",
        "input_dim = int(lstm_outs.shape[2])\n",
        "permuted_inputs = keras.layers.Permute((2, 1))(lstm_outs)\n",
        "attention_vector = keras.layers.TimeDistributed(keras.layers.Dense(1))(lstm_outs)\n",
        "attention_vector = keras.layers.Reshape((max_words,))(attention_vector)\n",
        "attention_vector = keras.layers.Activation('softmax', name='attention_vec')(attention_vector)\n",
        "attention_output = keras.layers.Dot(axes=1)([lstm_outs, attention_vector])\n",
        "\n",
        "# Last layer: fully connected with softmax activation\n",
        "fc = keras.layers.Dense(embedding_dim, activation='relu')(attention_output)\n",
        "output = keras.layers.Dense(len(label2id), activation='softmax')(fc)\n",
        "\n",
        "# Finally building model\n",
        "model = keras.Model(inputs=[sequence_input], outputs=output)\n",
        "model.compile(loss=\"categorical_crossentropy\", metrics=[\"accuracy\"], optimizer='adam')\n",
        "\n",
        "# Print model summary\n",
        "model.summary()"
      ],
      "execution_count": 0,
      "outputs": [
        {
          "output_type": "stream",
          "text": [
            "Model: \"model_1\"\n",
            "__________________________________________________________________________________________________\n",
            "Layer (type)                    Output Shape         Param #     Connected to                     \n",
            "==================================================================================================\n",
            "input_1 (InputLayer)            (None, 35)           0                                            \n",
            "__________________________________________________________________________________________________\n",
            "embedding_1 (Embedding)         (None, 35, 100)      3200100     input_1[0][0]                    \n",
            "__________________________________________________________________________________________________\n",
            "dropout_1 (Dropout)             (None, 35, 100)      0           embedding_1[0][0]                \n",
            "__________________________________________________________________________________________________\n",
            "bidirectional_1 (Bidirectional) (None, 35, 200)      160800      dropout_1[0][0]                  \n",
            "__________________________________________________________________________________________________\n",
            "dropout_2 (Dropout)             (None, 35, 200)      0           bidirectional_1[0][0]            \n",
            "__________________________________________________________________________________________________\n",
            "time_distributed_1 (TimeDistrib (None, 35, 1)        201         dropout_2[0][0]                  \n",
            "__________________________________________________________________________________________________\n",
            "reshape_1 (Reshape)             (None, 35)           0           time_distributed_1[0][0]         \n",
            "__________________________________________________________________________________________________\n",
            "attention_vec (Activation)      (None, 35)           0           reshape_1[0][0]                  \n",
            "__________________________________________________________________________________________________\n",
            "dot_1 (Dot)                     (None, 200)          0           dropout_2[0][0]                  \n",
            "                                                                 attention_vec[0][0]              \n",
            "__________________________________________________________________________________________________\n",
            "dense_2 (Dense)                 (None, 100)          20100       dot_1[0][0]                      \n",
            "__________________________________________________________________________________________________\n",
            "dense_3 (Dense)                 (None, 13)           1313        dense_2[0][0]                    \n",
            "==================================================================================================\n",
            "Total params: 3,382,514\n",
            "Trainable params: 3,382,514\n",
            "Non-trainable params: 0\n",
            "__________________________________________________________________________________________________\n"
          ],
          "name": "stdout"
        }
      ]
    },
    {
      "cell_type": "markdown",
      "metadata": {
        "id": "yUfXvL2pnfHS",
        "colab_type": "text"
      },
      "source": [
        "# Train the model"
      ]
    },
    {
      "cell_type": "code",
      "metadata": {
        "id": "yjNb5YFxkkRK",
        "colab_type": "code",
        "outputId": "f0212080-a208-4990-b22a-64c81cc0f06b",
        "colab": {
          "base_uri": "https://localhost:8080/",
          "height": 440
        }
      },
      "source": [
        "# Train model 10 iterations\n",
        "model.fit(train, Y, epochs=10, batch_size=64, validation_split=0.1, shuffle=True)"
      ],
      "execution_count": 0,
      "outputs": [
        {
          "output_type": "stream",
          "text": [
            "/usr/local/lib/python3.6/dist-packages/tensorflow/python/framework/indexed_slices.py:434: UserWarning: Converting sparse IndexedSlices to a dense Tensor of unknown shape. This may consume a large amount of memory.\n",
            "  \"Converting sparse IndexedSlices to a dense Tensor of unknown shape. \"\n"
          ],
          "name": "stderr"
        },
        {
          "output_type": "stream",
          "text": [
            "Train on 28800 samples, validate on 3200 samples\n",
            "Epoch 1/10\n",
            "28800/28800 [==============================] - 62s 2ms/step - loss: 2.0874 - accuracy: 0.2742 - val_loss: 1.9252 - val_accuracy: 0.3291\n",
            "Epoch 2/10\n",
            "28800/28800 [==============================] - 61s 2ms/step - loss: 1.8330 - accuracy: 0.3820 - val_loss: 1.8866 - val_accuracy: 0.3525\n",
            "Epoch 3/10\n",
            "28800/28800 [==============================] - 61s 2ms/step - loss: 1.6528 - accuracy: 0.4477 - val_loss: 1.9635 - val_accuracy: 0.3413\n",
            "Epoch 4/10\n",
            "28800/28800 [==============================] - 60s 2ms/step - loss: 1.4543 - accuracy: 0.5247 - val_loss: 2.0802 - val_accuracy: 0.3187\n",
            "Epoch 5/10\n",
            "28800/28800 [==============================] - 61s 2ms/step - loss: 1.2563 - accuracy: 0.5944 - val_loss: 2.2940 - val_accuracy: 0.3075\n",
            "Epoch 6/10\n",
            "28800/28800 [==============================] - 61s 2ms/step - loss: 1.0782 - accuracy: 0.6525 - val_loss: 2.6620 - val_accuracy: 0.2962\n",
            "Epoch 7/10\n",
            "28800/28800 [==============================] - 60s 2ms/step - loss: 0.9294 - accuracy: 0.6998 - val_loss: 2.8681 - val_accuracy: 0.2847\n",
            "Epoch 8/10\n",
            "28800/28800 [==============================] - 61s 2ms/step - loss: 0.8155 - accuracy: 0.7336 - val_loss: 3.2147 - val_accuracy: 0.2869\n",
            "Epoch 9/10\n",
            "28800/28800 [==============================] - 61s 2ms/step - loss: 0.7296 - accuracy: 0.7627 - val_loss: 3.3311 - val_accuracy: 0.2831\n",
            "Epoch 10/10\n",
            "28800/28800 [==============================] - 60s 2ms/step - loss: 0.6675 - accuracy: 0.7810 - val_loss: 3.5871 - val_accuracy: 0.2753\n"
          ],
          "name": "stdout"
        },
        {
          "output_type": "execute_result",
          "data": {
            "text/plain": [
              "<keras.callbacks.callbacks.History at 0x7f394d25f8d0>"
            ]
          },
          "metadata": {
            "tags": []
          },
          "execution_count": 13
        }
      ]
    },
    {
      "cell_type": "code",
      "metadata": {
        "id": "VArlUvPJoYvz",
        "colab_type": "code",
        "colab": {}
      },
      "source": [
        "import torch\n",
        "from torchvision import datasets, models, transforms\n",
        "\n",
        "mdoel_save_name = \"lstm_attention_v1_trained.h5\" \n",
        "path = F\"/content/gdrive/My Drive/{model_save_name}\" \n",
        "torch.save(model.state_dict(), path)\n"
      ],
      "execution_count": 0,
      "outputs": []
    },
    {
      "cell_type": "markdown",
      "metadata": {
        "id": "wu_BMhnI8S0F",
        "colab_type": "text"
      },
      "source": [
        "If you want to use the existing model, I've already store it in our shared file. "
      ]
    },
    {
      "cell_type": "code",
      "metadata": {
        "id": "UdTqk5uo8ewb",
        "colab_type": "code",
        "outputId": "50d17a98-1413-430f-d1cc-2599bdeb520d",
        "colab": {
          "base_uri": "https://localhost:8080/",
          "height": 423
        }
      },
      "source": [
        "\"\"\"\n",
        "!pip install gdown==3.6.0\n",
        "\n",
        "my_file_id = \"1M1VxKSiCgecAkogInyEwc4Phx3b9PzbF\"\n",
        "!gdown https://drive.google.com/uc?id={my_file_id}\n",
        "\"\"\""
      ],
      "execution_count": 0,
      "outputs": [
        {
          "output_type": "stream",
          "text": [
            "Collecting gdown==3.6.0\n",
            "  Downloading https://files.pythonhosted.org/packages/12/33/e9f21d0b3f85804ca570d124fb7a80c12a99948ff495cf54dfb72f18bf9e/gdown-3.6.0.tar.gz\n",
            "Requirement already satisfied: requests in /usr/local/lib/python3.6/dist-packages (from gdown==3.6.0) (2.21.0)\n",
            "Requirement already satisfied: six in /usr/local/lib/python3.6/dist-packages (from gdown==3.6.0) (1.12.0)\n",
            "Requirement already satisfied: tqdm in /usr/local/lib/python3.6/dist-packages (from gdown==3.6.0) (4.38.0)\n",
            "Requirement already satisfied: idna<2.9,>=2.5 in /usr/local/lib/python3.6/dist-packages (from requests->gdown==3.6.0) (2.8)\n",
            "Requirement already satisfied: urllib3<1.25,>=1.21.1 in /usr/local/lib/python3.6/dist-packages (from requests->gdown==3.6.0) (1.24.3)\n",
            "Requirement already satisfied: chardet<3.1.0,>=3.0.2 in /usr/local/lib/python3.6/dist-packages (from requests->gdown==3.6.0) (3.0.4)\n",
            "Requirement already satisfied: certifi>=2017.4.17 in /usr/local/lib/python3.6/dist-packages (from requests->gdown==3.6.0) (2020.4.5.1)\n",
            "Building wheels for collected packages: gdown\n",
            "  Building wheel for gdown (setup.py) ... \u001b[?25l\u001b[?25hdone\n",
            "  Created wheel for gdown: filename=gdown-3.6.0-cp36-none-any.whl size=5238 sha256=862dcbb3adcfd348dbc5f8ed3eb9be2f216a3a1071059fcf994634c6f65685c8\n",
            "  Stored in directory: /root/.cache/pip/wheels/97/90/fa/25654eb65da3e6da7752db71a164e0eb8f7a6fb4335eeb46ab\n",
            "Successfully built gdown\n",
            "Installing collected packages: gdown\n",
            "  Found existing installation: gdown 3.6.4\n",
            "    Uninstalling gdown-3.6.4:\n",
            "      Successfully uninstalled gdown-3.6.4\n",
            "Successfully installed gdown-3.6.0\n",
            "Downloading...\n",
            "From: https://drive.google.com/uc?id=1M1VxKSiCgecAkogInyEwc4Phx3b9PzbF\n",
            "To: /content/lstm_attention_v1_trained.h5\n",
            "40.6MB [00:00, 74.1MB/s]\n"
          ],
          "name": "stdout"
        }
      ]
    },
    {
      "cell_type": "code",
      "metadata": {
        "id": "fifFMdTeTnm5",
        "colab_type": "code",
        "outputId": "3a349e67-5e01-484b-ca51-d978a584a772",
        "colab": {
          "base_uri": "https://localhost:8080/",
          "height": 87
        }
      },
      "source": [
        "\"\"\"\n",
        "import keras\n",
        "model_from_drive = keras.models.load_model('lstm_attention_v1_trained.h5')\n",
        "\"\"\""
      ],
      "execution_count": 0,
      "outputs": [
        {
          "output_type": "stream",
          "text": [
            "Using TensorFlow backend.\n",
            "/usr/local/lib/python3.6/dist-packages/tensorflow/python/framework/indexed_slices.py:434: UserWarning: Converting sparse IndexedSlices to a dense Tensor of unknown shape. This may consume a large amount of memory.\n",
            "  \"Converting sparse IndexedSlices to a dense Tensor of unknown shape. \"\n"
          ],
          "name": "stderr"
        }
      ]
    },
    {
      "cell_type": "markdown",
      "metadata": {
        "id": "lGgy_PKwpAS4",
        "colab_type": "text"
      },
      "source": [
        "# Testing and predicting"
      ]
    },
    {
      "cell_type": "markdown",
      "metadata": {
        "id": "q040otVlL3NW",
        "colab_type": "text"
      },
      "source": [
        "## Test"
      ]
    },
    {
      "cell_type": "code",
      "metadata": {
        "id": "tdqvpVkpL_XK",
        "colab_type": "code",
        "outputId": "f5fa8141-2edd-41c6-8ce6-38a936029a0e",
        "colab": {
          "base_uri": "https://localhost:8080/",
          "height": 34
        }
      },
      "source": [
        "\n",
        "# Create a new model instance\n",
        "#If you using the loaded model, uncomment this line:\n",
        "#model = model_from_drive\n",
        "\n",
        "\n",
        "# Re-evaluate the model\n",
        "loss, acc = model.evaluate(val, val_Y, verbose=2)\n",
        "print(\"Restored model, accuracy: {:5.2f}%\".format(100*acc))\n"
      ],
      "execution_count": 0,
      "outputs": [
        {
          "output_type": "stream",
          "text": [
            "Restored model, accuracy: 10.37%\n"
          ],
          "name": "stdout"
        }
      ]
    },
    {
      "cell_type": "markdown",
      "metadata": {
        "id": "dMcgDbNUL5lF",
        "colab_type": "text"
      },
      "source": [
        "## Predict"
      ]
    },
    {
      "cell_type": "code",
      "metadata": {
        "id": "llOQveJzoZWW",
        "colab_type": "code",
        "colab": {}
      },
      "source": [
        "# Re-create the model to get attention vectors as well as label prediction\n",
        "model_with_attentions = keras.Model(inputs=model.input,\n",
        "                                    outputs=[model.output, \n",
        "                                             model.get_layer('attention_vec').output])\n",
        "\n",
        "\"\"\"\n",
        "# If you just use the downloaded model wothout trained yourself, please use here:\n",
        "model_with_attentions = keras.Model(inputs=model_from_drive.input,\n",
        "                                    outputs=[model_from_drive.output, \n",
        "                                             model_from_drive.get_layer('attention_vec').output])\n",
        "\"\"\""
      ],
      "execution_count": 0,
      "outputs": []
    },
    {
      "cell_type": "code",
      "metadata": {
        "id": "3DxnB2dEoa59",
        "colab_type": "code",
        "outputId": "22b55830-7bd0-4088-96d6-2804d6ed09e9",
        "colab": {
          "base_uri": "https://localhost:8080/",
          "height": 258
        }
      },
      "source": [
        "import random\n",
        "import math\n",
        "\n",
        "# Select random samples to illustrate\n",
        "sample_text = \"fuck\"\n",
        "sample_text = sample_text.lower()\n",
        "#sample_text = random.choice(val)\n",
        "\n",
        "\n",
        "# Encode samples\n",
        "tokenized_sample = sample_text.split(\" \")\n",
        "encoded_samples = [[word_index[word] for word in tokenized_sample]]\n",
        "\n",
        "# Padding\n",
        "encoded_samples = keras.preprocessing.sequence.pad_sequences(encoded_samples, maxlen=max_words)\n",
        "\n",
        "#encoded_samples = sample_text\n",
        "#print(encoded_samples.shape)\n",
        "# Make predictions\n",
        "label_probs, attentions = model_with_attentions.predict(encoded_samples)\n",
        "label_probs = {id2label[_id]: prob for (label, _id), prob in zip(label2id.items(),label_probs[0])}\n",
        "\n",
        "# Get word attentions using attenion vector\n",
        "token_attention_dic = {}\n",
        "max_score = 0.0\n",
        "min_score = 0.0\n",
        "for token, attention_score in zip(tokenized_sample, attentions[0][-len(tokenized_sample):]):\n",
        "    token_attention_dic[token] = math.sqrt(attention_score)\n",
        "\n",
        "\n",
        "# VISUALIZATION\n",
        "import matplotlib.pyplot as plt; plt.rcdefaults()\n",
        "import numpy as np\n",
        "import matplotlib.pyplot as plt\n",
        "from IPython.core.display import display, HTML\n",
        "\n",
        "def rgb_to_hex(rgb):\n",
        "    return '#%02x%02x%02x' % rgb\n",
        "    \n",
        "def attention2color(attention_score):\n",
        "    r = 255 - int(attention_score * 255)\n",
        "    color = rgb_to_hex((255, r, r))\n",
        "    return str(color)\n",
        "    \n",
        "# Build HTML String to viualize attentions\n",
        "html_text = \"<hr><p style='font-size: large'><b>Text:  </b>\"\n",
        "for token, attention in token_attention_dic.items():\n",
        "    html_text += \"<span style='background-color:{};'>{} <span> \".format(attention2color(attention),\n",
        "                                                                        token)\n",
        "html_text += \"</p>\"\n",
        "# Display text enriched with attention scores \n",
        "display(HTML(html_text))\n",
        "\n",
        "# PLOT EMOTION SCORES\n",
        "emotions = [label for label, _ in label_probs.items()]\n",
        "scores = [score for _, score in label_probs.items()]\n",
        "plt.figure(figsize=(5,2))\n",
        "plt.bar(np.arange(len(emotions)), scores, align='center', alpha=0.5, color=['black', 'red', 'green', 'blue', 'cyan', \"purple\"])\n",
        "plt.xticks(np.arange(len(emotions)), emotions)\n",
        "plt.ylabel('Scores')\n",
        "plt.show()\n"
      ],
      "execution_count": 0,
      "outputs": [
        {
          "output_type": "display_data",
          "data": {
            "text/html": [
              "<hr><p style='font-size: large'><b>Text:  </b><span style='background-color:#ff3b3b;'>fuck <span> </p>"
            ],
            "text/plain": [
              "<IPython.core.display.HTML object>"
            ]
          },
          "metadata": {
            "tags": []
          }
        },
        {
          "output_type": "display_data",
          "data": {
            "image/png": "[encoded data removed]",
            "text/plain": [
              "<Figure size 500x200 with 1 Axes>"
            ]
          },
          "metadata": {
            "tags": []
          }
        }
      ]
    },
    {
      "cell_type": "markdown",
      "metadata": {
        "id": "jn_KAqDW-ee3",
        "colab_type": "text"
      },
      "source": [
        "In case the above chart is hard to see, here is the list of proboabilities showing the likeliness of emotions."
      ]
    },
    {
      "cell_type": "code",
      "metadata": {
        "id": "_l928yZAof8T",
        "colab_type": "code",
        "outputId": "5d3475b3-1868-401e-d2d7-9b6dd62e0f30",
        "colab": {
          "base_uri": "https://localhost:8080/",
          "height": 235
        }
      },
      "source": [
        "import operator\n",
        "\n",
        "# create a list of emotion in decending order of their probability \n",
        "emotion_list=[]\n",
        "\n",
        "for  _, emotion in enumerate(label_probs):\n",
        "    temp = [emotion, label_probs[emotion]]\n",
        "    emotion_list.append(temp)\n",
        "\n",
        "sorted(emotion_list, key=operator.itemgetter(1), reverse= True)"
      ],
      "execution_count": 0,
      "outputs": [
        {
          "output_type": "execute_result",
          "data": {
            "text/plain": [
              "[['sadness', 0.26072118],\n",
              " ['boredom', 0.22221008],\n",
              " ['enthusiasm', 0.19029243],\n",
              " ['love', 0.12629803],\n",
              " ['surprise', 0.0747112],\n",
              " ['happiness', 0.04855724],\n",
              " ['fun', 0.03365236],\n",
              " ['empty', 0.015033543],\n",
              " ['relief', 0.013303055],\n",
              " ['hate', 0.0050725946],\n",
              " ['neutral', 0.0038676239],\n",
              " ['anger', 0.0033641763],\n",
              " ['worry', 0.002916514]]"
            ]
          },
          "metadata": {
            "tags": []
          },
          "execution_count": 38
        }
      ]
    },
    {
      "cell_type": "markdown",
      "metadata": {
        "id": "Qx5FMi7FG6Pd",
        "colab_type": "text"
      },
      "source": [
        "# Serveral gusses of improving the model "
      ]
    },
    {
      "cell_type": "markdown",
      "metadata": {
        "id": "GV5q1KtrHA3f",
        "colab_type": "text"
      },
      "source": [
        "*   half the data with labels of many dataset\n",
        "*   cut out the label with too few dataset\n",
        "*   using sub-wording tokenization\n",
        "*   (List item)\n",
        "\n"
      ]
    }
  ]
}